{
 "cells": [
  {
   "cell_type": "markdown",
   "metadata": {},
   "source": [
    "### Left and right"
   ]
  },
  {
   "cell_type": "code",
   "execution_count": 26,
   "metadata": {},
   "outputs": [],
   "source": [
    "import shutil\n",
    "import os\n",
    "\n",
    "folder_left = \"./images/images_left\"\n",
    "folder_right = \"./images/images_right\"\n",
    "in_folder_left = os.listdir(folder_left)\n",
    "in_folder_right = os.listdir(folder_right)\n",
    "\n",
    "for folder in in_folder_left:\n",
    "    images_left = os.listdir(folder_left + \"/\" +  folder + \"/input\")\n",
    "    for image in images_left:\n",
    "        shutil.copy(\"./images/output/\" + image , folder_left + \"/\" + folder + \"/output/\" + image)\n",
    "\n",
    "for folder in in_folder_right:\n",
    "    images_right = os.listdir(folder_right + \"/\" +  folder + \"/input\")\n",
    "    for image in images_right:\n",
    "        shutil.copy(\"./images/output/\" + image , folder_right + \"/\" + folder + \"/output/\" + image)"
   ]
  },
  {
   "cell_type": "markdown",
   "metadata": {},
   "source": [
    "### Dicom left and right"
   ]
  },
  {
   "cell_type": "code",
   "execution_count": null,
   "metadata": {},
   "outputs": [],
   "source": [
    "import shutil\n",
    "import os\n",
    "\n",
    "folder_left = \"./images/images_left\"\n",
    "folder_right = \"./images/images_right\"\n",
    "in_folder_left = os.listdir(folder_left)\n",
    "in_folder_right = os.listdir(folder_right)\n",
    "\n",
    "for folder in in_folder_left:\n",
    "    images_left = os.listdir(folder_left + \"/\" +  folder + \"/input\")\n",
    "    for image in images_left:\n",
    "        shutil.copy(\"./images/dicom/\" + image , folder_left + \"/\" + folder + \"/input_dicom/\" + image)\n",
    "\n",
    "for folder in in_folder_right:\n",
    "    images_right = os.listdir(folder_right + \"/\" +  folder + \"/input\")\n",
    "    for image in images_right:\n",
    "        shutil.copy(\"./images/dicom/\" + image , folder_right + \"/\" + folder + \"/input_dicom/\" + image)"
   ]
  },
  {
   "cell_type": "markdown",
   "metadata": {},
   "source": [
    "### Keypoints"
   ]
  },
  {
   "cell_type": "code",
   "execution_count": 4,
   "metadata": {},
   "outputs": [],
   "source": [
    "import shutil\n",
    "import os\n",
    "\n",
    "folder_root = \"./images\"\n",
    "in_folder_root = os.listdir(folder_root)\n",
    "\n",
    "for folder in ['images_train_original', 'images_val', 'images_test']:\n",
    "    images = os.listdir(folder_root + \"/\" +  folder + \"/input\")\n",
    "    for image in images:\n",
    "        shutil.copy(folder_root + '/keypoints/' + image , folder_root + \"/\" +  folder + \"/keypoints\")\n"
   ]
  },
  {
   "cell_type": "markdown",
   "metadata": {},
   "source": [
    "### Keypoints left and right"
   ]
  },
  {
   "cell_type": "code",
   "execution_count": 6,
   "metadata": {},
   "outputs": [],
   "source": [
    "import shutil\n",
    "import os\n",
    "\n",
    "folder_left = \"./images/images_left\"\n",
    "folder_right = \"./images/images_right\"\n",
    "in_folder_left = os.listdir(folder_left)\n",
    "in_folder_right = os.listdir(folder_right)\n",
    "\n",
    "for folder in in_folder_left:\n",
    "    images_left = os.listdir(folder_left + \"/\" +  folder + \"/input\")\n",
    "    for image in images_left:\n",
    "        shutil.copy(\"./images/keypoints/\" + image , folder_left + \"/\" + folder + \"/keypoints/\" + image)\n",
    "\n",
    "for folder in in_folder_right:\n",
    "    images_right = os.listdir(folder_right + \"/\" +  folder + \"/input\")\n",
    "    for image in images_right:\n",
    "        shutil.copy(\"./images/keypoints/\" + image , folder_right + \"/\" + folder + \"/keypoints/\" + image)"
   ]
  },
  {
   "cell_type": "markdown",
   "metadata": {},
   "source": [
    "### Binary left and right"
   ]
  },
  {
   "cell_type": "code",
   "execution_count": 1,
   "metadata": {},
   "outputs": [],
   "source": [
    "import shutil\n",
    "import os\n",
    "\n",
    "folder_left = \"./images/images_left\"\n",
    "folder_right = \"./images/images_right\"\n",
    "in_folder_left = os.listdir(folder_left)\n",
    "in_folder_right = os.listdir(folder_right)\n",
    "\n",
    "for folder in in_folder_left:\n",
    "    images_left = os.listdir(folder_left + \"/\" +  folder + \"/input\")\n",
    "    for image in images_left:\n",
    "        shutil.copy(\"./images/binary/\" + image , folder_left + \"/\" + folder + \"/binary/\" + image)\n",
    "\n",
    "for folder in in_folder_right:\n",
    "    images_right = os.listdir(folder_right + \"/\" +  folder + \"/input\")\n",
    "    for image in images_right:\n",
    "        shutil.copy(\"./images/binary/\" + image , folder_right + \"/\" + folder + \"/binary/\" + image)"
   ]
  }
 ],
 "metadata": {
  "kernelspec": {
   "display_name": "Python 3",
   "language": "python",
   "name": "python3"
  },
  "language_info": {
   "codemirror_mode": {
    "name": "ipython",
    "version": 3
   },
   "file_extension": ".py",
   "mimetype": "text/x-python",
   "name": "python",
   "nbconvert_exporter": "python",
   "pygments_lexer": "ipython3",
   "version": "3.10.6"
  }
 },
 "nbformat": 4,
 "nbformat_minor": 2
}
