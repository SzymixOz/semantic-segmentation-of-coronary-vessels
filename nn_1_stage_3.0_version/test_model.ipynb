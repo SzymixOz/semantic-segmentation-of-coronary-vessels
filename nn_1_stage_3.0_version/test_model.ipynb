{
 "cells": [
  {
   "cell_type": "code",
   "execution_count": 3,
   "metadata": {},
   "outputs": [],
   "source": [
    "import os\n",
    "import numpy as np\n",
    "import cv2\n",
    "import torch\n",
    "from torch.utils.data import Dataset, DataLoader\n",
    "from torchvision import transforms\n",
    "\n",
    "\n",
    "class CoronarySmallDataset(Dataset):\n",
    "    def __init__(self, image_dir, mask_dir, transform=None):\n",
    "        self.image_dir = image_dir\n",
    "        self.mask_dir = mask_dir\n",
    "        self.transform = transform\n",
    "        self.images = os.listdir(image_dir)\n",
    "\n",
    "    def __len__(self):\n",
    "        return len(self.images)\n",
    "\n",
    "    def __getitem__(self, idx):\n",
    "        SIZE = 256\n",
    "        img_path = os.path.join(self.image_dir, self.images[idx])\n",
    "        mask_path = os.path.join(self.mask_dir, self.images[idx])\n",
    "        \n",
    "\n",
    "        image = cv2.imread(img_path, cv2.IMREAD_UNCHANGED)\n",
    "        image = cv2.cvtColor(image, cv2.COLOR_RGBA2RGB)\n",
    "        image = cv2.resize(image, (SIZE, SIZE), cv2.INTER_NEAREST)\n",
    "        \n",
    "        mask = cv2.imread(mask_path, cv2.IMREAD_UNCHANGED)\n",
    "        # mask = cv2.cvtColor(mask, cv2.COLOR_RGBA2RGB)\n",
    "        mask //= 29\n",
    "        mask = cv2.resize(mask, (SIZE, SIZE), cv2.INTER_NEAREST)\n",
    "        \n",
    "        if self.transform:\n",
    "            image = self.transform(image)\n",
    "            # mask = self.transform(mask)\n",
    "            mask = torch.tensor(mask, dtype=torch.long)\n",
    "        \n",
    "        return image, mask\n",
    "\n",
    "\n",
    "transform = transforms.Compose([\n",
    "    transforms.ToTensor()\n",
    "])\n",
    "\n",
    "train_image_dir = '..\\images\\images_train\\input_dicom'\n",
    "train_mask_dir = '..\\images\\images_train\\input'\n",
    "val_image_dir = '..\\images\\images_val\\input_dicom'\n",
    "val_mask_dir = '..\\images\\images_val\\input'\n",
    "test_image_dir = '..\\images\\images_test\\input_dicom'\n",
    "test_mask_dir = '..\\images\\images_test\\input'\n",
    "\n",
    "train_dataset = CoronarySmallDataset(train_image_dir, train_mask_dir, transform=transform)\n",
    "val_dataset = CoronarySmallDataset(val_image_dir, val_mask_dir, transform=transform)\n",
    "test_dataset = CoronarySmallDataset(test_image_dir, test_mask_dir, transform=transform)\n",
    "\n",
    "train_loader = DataLoader(train_dataset, batch_size=8, shuffle=True)\n",
    "val_loader = DataLoader(val_dataset, batch_size=8, shuffle=False)\n",
    "test_loader = DataLoader(test_dataset, batch_size=8, shuffle=False)\n"
   ]
  },
  {
   "cell_type": "code",
   "execution_count": 4,
   "metadata": {},
   "outputs": [
    {
     "name": "stderr",
     "output_type": "stream",
     "text": [
      "C:\\Users\\eozoszy\\AppData\\Local\\Temp\\ipykernel_32464\\986869703.py:9: FutureWarning: You are using `torch.load` with `weights_only=False` (the current default value), which uses the default pickle module implicitly. It is possible to construct malicious pickle data which will execute arbitrary code during unpickling (See https://github.com/pytorch/pytorch/blob/main/SECURITY.md#untrusted-models for more details). In a future release, the default value for `weights_only` will be flipped to `True`. This limits the functions that could be executed during unpickling. Arbitrary objects will no longer be allowed to be loaded via this mode unless they are explicitly allowlisted by the user via `torch.serialization.add_safe_globals`. We recommend you start setting `weights_only=True` for any use case where you don't have full control of the loaded file. Please open an issue on GitHub for any issues related to this experimental feature.\n",
      "  model.load_state_dict(torch.load('model_dicom_binary_1.pth', map_location=device))\n"
     ]
    }
   ],
   "source": [
    "from converter_RGB import convert_int_to_RGB\n",
    "from large_RGB_model import UNet\n",
    "\n",
    "\n",
    "device = torch.device('cuda' if torch.cuda.is_available() else 'cpu')\n",
    "model = UNet(num_classes=2)\n",
    "model = model.to(device)\n",
    "\n",
    "model.load_state_dict(torch.load('model_dicom_binary_1.pth', map_location=device))\n",
    "model.eval()\n",
    "\n",
    "def show_image(type, image_name):\n",
    "    dir = f\"..\\images\\images_test\\{type}\"\n",
    "    print(dir)\n",
    "    if type == 'output':\n",
    "        img = cv2.imread(os.path.join(dir, image_name), cv2.IMREAD_UNCHANGED)\n",
    "        # img = img[:, :, 2]\n",
    "        print(\"Oryginalnie: \", np.unique(img))\n",
    "        \n",
    "        print(\"Po resize:  \", np.unique(cv2.resize(img, (256, 256))))\n",
    "        # print(img)\n",
    "        img = convert_int_to_RGB(img)\n",
    "        img = cv2.cvtColor(img, cv2.COLOR_BGRA2RGB)\n",
    "    else:\n",
    "        img = cv2.imread(os.path.join(dir, image_name), cv2.IMREAD_UNCHANGED)\n",
    "        img = cv2.cvtColor(img, cv2.COLOR_RGBA2RGB)\n",
    "    # img = cv2.resize(img, (256, 256))\n",
    "    # np.set_printoptions(threshold=np.inf)\n",
    "    cv2.imshow(type, img)\n",
    "\n",
    "def predict(image_name):\n",
    "    dir = '..\\images\\images_test\\input_dicom'\n",
    "    img = cv2.imread(os.path.join(dir, image_name), cv2.IMREAD_UNCHANGED)\n",
    "    img = cv2.cvtColor(img, cv2.COLOR_RGBA2RGB)\n",
    "    img = cv2.resize(img, (256, 256))\n",
    "    img = transforms.ToTensor()(img).unsqueeze(0).to(device)\n",
    "\n",
    "    with torch.no_grad():\n",
    "        pred = model.predict(img)\n",
    "        pred = pred.squeeze().cpu().numpy()\n",
    "    print(\"Z sieci:    \", np.unique(pred))\n",
    "\n",
    "    pred_image = convert_int_to_RGB(pred)\n",
    "    # pred_image = pred\n",
    "    pred_image = cv2.resize(pred_image, (512, 512))\n",
    "    # pred_image = cv2.cvtColor(pred_image, cv2.COLOR_BGR2RGB)\n",
    "    cv2.imshow('pred', pred_image)\n",
    "    cv2.waitKey(0)\n",
    "   "
   ]
  },
  {
   "cell_type": "code",
   "execution_count": 21,
   "metadata": {},
   "outputs": [
    {
     "name": "stdout",
     "output_type": "stream",
     "text": [
      "..\\images\\images_test\\input_dicom\n",
      "..\\images\\images_test\\output\n",
      "Oryginalnie:  [ 0  5  6  7  8 13 15 17]\n",
      "Po resize:   [ 0  1  2  3  4  5  6  7  8  9 10 11 13 14 15 16 17]\n",
      "Z sieci:     [0 1]\n"
     ]
    }
   ],
   "source": [
    "# image_name = \"131aedfhs6pnf1fvtvp49mhdb2fucqzo22_29.png\"\n",
    "# image_name = \"131aedfhs6pnf1fvtvp49mld7mqexnz322_36.png\"\n",
    "# image_name = \"131aedfhs6pnf1fvtvp49mia892s56cf22_28.png\"\n",
    "# image_name = \"131aedfhs6pnf1fvtvp49juwu7plj9dv22_40.png\"\n",
    "image_name = \"13c2ur549vohc0jat2dvu3xs7q1_18.png\"\n",
    "# image_name = \"131aedfhs6pnf1fvtvp49mi8hml81goj22_37.png\"\n",
    "\n",
    "show_image(\"input_dicom\", image_name)\n",
    "show_image(\"output\", image_name)\n",
    "predict(image_name)"
   ]
  },
  {
   "cell_type": "code",
   "execution_count": 5,
   "metadata": {},
   "outputs": [],
   "source": [
    "from sklearn.metrics import precision_score, recall_score, f1_score\n",
    "\n",
    "\n",
    "def compute_accuracy(model, data_loader, device):\n",
    "    model.eval()\n",
    "    correct = 0\n",
    "    correct_clear = 0\n",
    "    total = 0\n",
    "    total_clear = 0\n",
    "\n",
    "    with torch.no_grad():\n",
    "        for images, masks in data_loader:\n",
    "            images = images.to(device)\n",
    "            masks = masks.to(device)\n",
    "\n",
    "            preds = model.predict(images)\n",
    "            \n",
    "            correct += (preds == masks).sum().item()\n",
    "            correct_clear += (preds[masks != 0] == masks[masks != 0]).sum().item()\n",
    "            total += masks.numel()\n",
    "            total_clear += masks[masks != 0].numel()\n",
    "\n",
    "    accuracy = correct / total\n",
    "    accuracy_clear = correct_clear / total_clear\n",
    "    return accuracy, accuracy_clear"
   ]
  },
  {
   "cell_type": "code",
   "execution_count": 6,
   "metadata": {},
   "outputs": [],
   "source": [
    "# Do poprawy, teraz nie ma sensu\n",
    "# Musiałoby dla każdej klasu osobno liczyć\n",
    "def compute_precision_recall_f1(model, data_loader, device, num_classes=28):\n",
    "    model.eval()\n",
    "    all_preds = []\n",
    "    all_targets = []\n",
    "\n",
    "    with torch.no_grad():\n",
    "        for images, masks in data_loader:\n",
    "            images = images.to(device)\n",
    "            masks = masks.to(device)\n",
    "\n",
    "            preds = model.predict(images)\n",
    "            \n",
    "            all_preds.append(preds.view(-1).cpu().numpy())\n",
    "            all_targets.append(masks.view(-1).cpu().numpy())\n",
    "\n",
    "    all_preds = np.concatenate(all_preds)\n",
    "    all_targets = np.concatenate(all_targets)\n",
    "\n",
    "    TP = np.zeros(num_classes)\n",
    "    FP = np.zeros(num_classes)\n",
    "    FN = np.zeros(num_classes)\n",
    "\n",
    "    for i in range(num_classes):\n",
    "        TP[i] = ((all_preds == i) & (all_targets == i)).sum()\n",
    "        FP[i] = ((all_preds == i) & (all_targets != i)).sum()\n",
    "        FN[i] = ((all_preds != i) & (all_targets == i)).sum()\n",
    "    \n",
    "    TP[0], FP[0], FN[0] = 0, 0, 0\n",
    "    # print(TP, FP, FN)\n",
    "\n",
    "    precision = TP / (TP + FP)\n",
    "    recall = TP / (TP + FN)\n",
    "    f1 = 2 * precision * recall / (precision + recall)\n",
    "    # print(TP.sum(), FP.sum(), FN.sum())\n",
    "\n",
    "    precision_weighted = TP.sum() / (TP.sum() + FP.sum())\n",
    "    recall_weighted = TP.sum() / (TP.sum() + FN.sum())\n",
    "    f1_weighted = 2 * precision_weighted * recall_weighted / (precision_weighted + recall_weighted)\n",
    "\n",
    "    return precision, recall, f1, precision_weighted, recall_weighted, f1_weighted"
   ]
  },
  {
   "cell_type": "code",
   "execution_count": 30,
   "metadata": {},
   "outputs": [
    {
     "name": "stderr",
     "output_type": "stream",
     "text": [
      "C:\\Users\\eozoszy\\AppData\\Local\\Temp\\ipykernel_34376\\4122219759.py:3: FutureWarning: You are using `torch.load` with `weights_only=False` (the current default value), which uses the default pickle module implicitly. It is possible to construct malicious pickle data which will execute arbitrary code during unpickling (See https://github.com/pytorch/pytorch/blob/main/SECURITY.md#untrusted-models for more details). In a future release, the default value for `weights_only` will be flipped to `True`. This limits the functions that could be executed during unpickling. Arbitrary objects will no longer be allowed to be loaded via this mode unless they are explicitly allowlisted by the user via `torch.serialization.add_safe_globals`. We recommend you start setting `weights_only=True` for any use case where you don't have full control of the loaded file. Please open an issue on GitHub for any issues related to this experimental feature.\n",
      "  model.load_state_dict(torch.load('model_dicom_binary_1.pth', map_location=device))\n"
     ]
    },
    {
     "name": "stdout",
     "output_type": "stream",
     "text": [
      "Train Accuracy: 98.39%\n",
      "Train Accuracy Clear: 77.32%\n",
      "\n",
      "Validation Accuracy: 97.68%\n",
      "Validation Accuracy Clear: 70.38%\n"
     ]
    }
   ],
   "source": [
    "NUMBER_OF_CLASSES = 2\n",
    "device = torch.device('cuda' if torch.cuda.is_available() else 'cpu')\n",
    "model = UNet(NUMBER_OF_CLASSES).to(device)\n",
    "model.load_state_dict(torch.load('model_dicom_binary_1.pth', map_location=device))\n",
    "\n",
    "train_accuracy = compute_accuracy(model, train_loader, device)\n",
    "val_accuracy = compute_accuracy(model, val_loader, device)\n",
    "\n",
    "print(f'Train Accuracy: {train_accuracy[0] * 100 :.2f}%')\n",
    "print(f'Train Accuracy Clear: {train_accuracy[1] * 100 :.2f}%')\n",
    "print()\n",
    "print(f'Validation Accuracy: {val_accuracy[0] * 100 :.2f}%')\n",
    "print(f'Validation Accuracy Clear: {val_accuracy[1] * 100 :.2f}%')"
   ]
  },
  {
   "cell_type": "code",
   "execution_count": 33,
   "metadata": {},
   "outputs": [
    {
     "name": "stderr",
     "output_type": "stream",
     "text": [
      "C:\\Users\\eozoszy\\AppData\\Local\\Temp\\ipykernel_34376\\857363224.py:1: FutureWarning: You are using `torch.load` with `weights_only=False` (the current default value), which uses the default pickle module implicitly. It is possible to construct malicious pickle data which will execute arbitrary code during unpickling (See https://github.com/pytorch/pytorch/blob/main/SECURITY.md#untrusted-models for more details). In a future release, the default value for `weights_only` will be flipped to `True`. This limits the functions that could be executed during unpickling. Arbitrary objects will no longer be allowed to be loaded via this mode unless they are explicitly allowlisted by the user via `torch.serialization.add_safe_globals`. We recommend you start setting `weights_only=True` for any use case where you don't have full control of the loaded file. Please open an issue on GitHub for any issues related to this experimental feature.\n",
      "  model.load_state_dict(torch.load('model_dicom_binary_1.pth', map_location=device))\n"
     ]
    },
    {
     "name": "stdout",
     "output_type": "stream",
     "text": [
      "Class 0: Precision: 0.00%, Recall: 0.00%, F1: 0.00%\n",
      "Class 1: Precision: 85.56%, Recall: 70.38%, F1: 77.23%\n",
      "Average Precision: 42.779%\n",
      "Average Recall: 35.192%\n",
      "Average F1: 38.616%\n",
      "\n",
      "Weighted Precision: 85.557%\n",
      "Weighted Recall: 70.385%\n",
      "Weighted F1: 77.233%\n"
     ]
    },
    {
     "name": "stderr",
     "output_type": "stream",
     "text": [
      "C:\\Users\\eozoszy\\AppData\\Local\\Temp\\ipykernel_34376\\3879195863.py:33: RuntimeWarning: invalid value encountered in divide\n",
      "  precision = TP / (TP + FP)\n",
      "C:\\Users\\eozoszy\\AppData\\Local\\Temp\\ipykernel_34376\\3879195863.py:34: RuntimeWarning: invalid value encountered in divide\n",
      "  recall = TP / (TP + FN)\n"
     ]
    }
   ],
   "source": [
    "model.load_state_dict(torch.load('model_dicom_binary_1.pth', map_location=device))\n",
    "precision, recall, f1, precision_weighted, recall_weighted, f1_weighted = compute_precision_recall_f1(model, val_loader, device, NUMBER_OF_CLASSES)\n",
    "\n",
    "if np.isnan(precision).any():\n",
    "    precision = np.nan_to_num(precision)\n",
    "if np.isnan(recall).any():\n",
    "    recall = np.nan_to_num(recall)\n",
    "if np.isnan(f1).any():\n",
    "    f1 = np.nan_to_num(f1)\n",
    "\n",
    "for i in range(NUMBER_OF_CLASSES):\n",
    "    print(f'Class {i}: Precision: {precision[i] * 100:.2f}%, Recall: {recall[i] * 100:.2f}%, F1: {f1[i] * 100:.2f}%')\n",
    "\n",
    "print(f'Average Precision: {np.mean(precision) * 100:.3f}%')\n",
    "print(f'Average Recall: {np.mean(recall) * 100:.3f}%')\n",
    "print(f'Average F1: {np.mean(f1) * 100:.3f}%')\n",
    "print()\n",
    "print(f'Weighted Precision: {precision_weighted * 100:.3f}%')\n",
    "print(f'Weighted Recall: {recall_weighted * 100:.3f}%')\n",
    "print(f'Weighted F1: {f1_weighted * 100:.3f}%')"
   ]
  },
  {
   "cell_type": "code",
   "execution_count": 36,
   "metadata": {},
   "outputs": [
    {
     "name": "stderr",
     "output_type": "stream",
     "text": [
      "C:\\Users\\eozoszy\\AppData\\Local\\Temp\\ipykernel_34376\\3389389475.py:4: FutureWarning: You are using `torch.load` with `weights_only=False` (the current default value), which uses the default pickle module implicitly. It is possible to construct malicious pickle data which will execute arbitrary code during unpickling (See https://github.com/pytorch/pytorch/blob/main/SECURITY.md#untrusted-models for more details). In a future release, the default value for `weights_only` will be flipped to `True`. This limits the functions that could be executed during unpickling. Arbitrary objects will no longer be allowed to be loaded via this mode unless they are explicitly allowlisted by the user via `torch.serialization.add_safe_globals`. We recommend you start setting `weights_only=True` for any use case where you don't have full control of the loaded file. Please open an issue on GitHub for any issues related to this experimental feature.\n",
      "  model.load_state_dict(torch.load('model_dicom_binary_2.pth', map_location=device))\n"
     ]
    },
    {
     "name": "stdout",
     "output_type": "stream",
     "text": [
      "Train Accuracy: 98.54%\n",
      "Train Accuracy Clear: 81.39%\n",
      "\n",
      "Validation Accuracy: 97.71%\n",
      "Validation Accuracy Clear: 74.04%\n"
     ]
    }
   ],
   "source": [
    "NUMBER_OF_CLASSES = 2\n",
    "device = torch.device('cuda' if torch.cuda.is_available() else 'cpu')\n",
    "model = UNet(NUMBER_OF_CLASSES).to(device)\n",
    "model.load_state_dict(torch.load('model_dicom_binary_2.pth', map_location=device))\n",
    "\n",
    "train_accuracy = compute_accuracy(model, train_loader, device)\n",
    "val_accuracy = compute_accuracy(model, val_loader, device)\n",
    "\n",
    "print(f'Train Accuracy: {train_accuracy[0] * 100 :.2f}%')\n",
    "print(f'Train Accuracy Clear: {train_accuracy[1] * 100 :.2f}%')\n",
    "print()\n",
    "print(f'Validation Accuracy: {val_accuracy[0] * 100 :.2f}%')\n",
    "print(f'Validation Accuracy Clear: {val_accuracy[1] * 100 :.2f}%')"
   ]
  },
  {
   "cell_type": "code",
   "execution_count": 37,
   "metadata": {},
   "outputs": [
    {
     "name": "stderr",
     "output_type": "stream",
     "text": [
      "C:\\Users\\eozoszy\\AppData\\Local\\Temp\\ipykernel_34376\\634423611.py:1: FutureWarning: You are using `torch.load` with `weights_only=False` (the current default value), which uses the default pickle module implicitly. It is possible to construct malicious pickle data which will execute arbitrary code during unpickling (See https://github.com/pytorch/pytorch/blob/main/SECURITY.md#untrusted-models for more details). In a future release, the default value for `weights_only` will be flipped to `True`. This limits the functions that could be executed during unpickling. Arbitrary objects will no longer be allowed to be loaded via this mode unless they are explicitly allowlisted by the user via `torch.serialization.add_safe_globals`. We recommend you start setting `weights_only=True` for any use case where you don't have full control of the loaded file. Please open an issue on GitHub for any issues related to this experimental feature.\n",
      "  model.load_state_dict(torch.load('model_dicom_binary_2.pth', map_location=device))\n"
     ]
    },
    {
     "name": "stdout",
     "output_type": "stream",
     "text": [
      "Class 0: Precision: 0.00%, Recall: 0.00%, F1: 0.00%\n",
      "Class 1: Precision: 83.14%, Recall: 74.04%, F1: 78.32%\n",
      "Average Precision: 41.569%\n",
      "Average Recall: 37.019%\n",
      "Average F1: 39.162%\n",
      "\n",
      "Weighted Precision: 83.138%\n",
      "Weighted Recall: 74.038%\n",
      "Weighted F1: 78.325%\n"
     ]
    },
    {
     "name": "stderr",
     "output_type": "stream",
     "text": [
      "C:\\Users\\eozoszy\\AppData\\Local\\Temp\\ipykernel_34376\\3879195863.py:33: RuntimeWarning: invalid value encountered in divide\n",
      "  precision = TP / (TP + FP)\n",
      "C:\\Users\\eozoszy\\AppData\\Local\\Temp\\ipykernel_34376\\3879195863.py:34: RuntimeWarning: invalid value encountered in divide\n",
      "  recall = TP / (TP + FN)\n"
     ]
    }
   ],
   "source": [
    "model.load_state_dict(torch.load('model_dicom_binary_2.pth', map_location=device))\n",
    "precision, recall, f1, precision_weighted, recall_weighted, f1_weighted = compute_precision_recall_f1(model, val_loader, device, NUMBER_OF_CLASSES)\n",
    "\n",
    "if np.isnan(precision).any():\n",
    "    precision = np.nan_to_num(precision)\n",
    "if np.isnan(recall).any():\n",
    "    recall = np.nan_to_num(recall)\n",
    "if np.isnan(f1).any():\n",
    "    f1 = np.nan_to_num(f1)\n",
    "\n",
    "for i in range(NUMBER_OF_CLASSES):\n",
    "    print(f'Class {i}: Precision: {precision[i] * 100:.2f}%, Recall: {recall[i] * 100:.2f}%, F1: {f1[i] * 100:.2f}%')\n",
    "\n",
    "print(f'Average Precision: {np.mean(precision) * 100:.3f}%')\n",
    "print(f'Average Recall: {np.mean(recall) * 100:.3f}%')\n",
    "print(f'Average F1: {np.mean(f1) * 100:.3f}%')\n",
    "print()\n",
    "print(f'Weighted Precision: {precision_weighted * 100:.3f}%')\n",
    "print(f'Weighted Recall: {recall_weighted * 100:.3f}%')\n",
    "print(f'Weighted F1: {f1_weighted * 100:.3f}%')"
   ]
  },
  {
   "cell_type": "code",
   "execution_count": 40,
   "metadata": {},
   "outputs": [
    {
     "name": "stderr",
     "output_type": "stream",
     "text": [
      "C:\\Users\\eozoszy\\AppData\\Local\\Temp\\ipykernel_34376\\1676272754.py:4: FutureWarning: You are using `torch.load` with `weights_only=False` (the current default value), which uses the default pickle module implicitly. It is possible to construct malicious pickle data which will execute arbitrary code during unpickling (See https://github.com/pytorch/pytorch/blob/main/SECURITY.md#untrusted-models for more details). In a future release, the default value for `weights_only` will be flipped to `True`. This limits the functions that could be executed during unpickling. Arbitrary objects will no longer be allowed to be loaded via this mode unless they are explicitly allowlisted by the user via `torch.serialization.add_safe_globals`. We recommend you start setting `weights_only=True` for any use case where you don't have full control of the loaded file. Please open an issue on GitHub for any issues related to this experimental feature.\n",
      "  model.load_state_dict(torch.load('model_dicom_binary_3.pth', map_location=device))\n"
     ]
    },
    {
     "name": "stdout",
     "output_type": "stream",
     "text": [
      "Train Accuracy: 98.25%\n",
      "Train Accuracy Clear: 75.61%\n",
      "\n",
      "Validation Accuracy: 97.63%\n",
      "Validation Accuracy Clear: 69.97%\n"
     ]
    }
   ],
   "source": [
    "NUMBER_OF_CLASSES = 2\n",
    "device = torch.device('cuda' if torch.cuda.is_available() else 'cpu')\n",
    "model = UNet(NUMBER_OF_CLASSES).to(device)\n",
    "model.load_state_dict(torch.load('model_dicom_binary_3.pth', map_location=device))\n",
    "\n",
    "train_accuracy = compute_accuracy(model, train_loader, device)\n",
    "val_accuracy = compute_accuracy(model, val_loader, device)\n",
    "\n",
    "print(f'Train Accuracy: {train_accuracy[0] * 100 :.2f}%')\n",
    "print(f'Train Accuracy Clear: {train_accuracy[1] * 100 :.2f}%')\n",
    "print()\n",
    "print(f'Validation Accuracy: {val_accuracy[0] * 100 :.2f}%')\n",
    "print(f'Validation Accuracy Clear: {val_accuracy[1] * 100 :.2f}%')"
   ]
  },
  {
   "cell_type": "code",
   "execution_count": 41,
   "metadata": {},
   "outputs": [
    {
     "name": "stderr",
     "output_type": "stream",
     "text": [
      "C:\\Users\\eozoszy\\AppData\\Local\\Temp\\ipykernel_34376\\1736438762.py:1: FutureWarning: You are using `torch.load` with `weights_only=False` (the current default value), which uses the default pickle module implicitly. It is possible to construct malicious pickle data which will execute arbitrary code during unpickling (See https://github.com/pytorch/pytorch/blob/main/SECURITY.md#untrusted-models for more details). In a future release, the default value for `weights_only` will be flipped to `True`. This limits the functions that could be executed during unpickling. Arbitrary objects will no longer be allowed to be loaded via this mode unless they are explicitly allowlisted by the user via `torch.serialization.add_safe_globals`. We recommend you start setting `weights_only=True` for any use case where you don't have full control of the loaded file. Please open an issue on GitHub for any issues related to this experimental feature.\n",
      "  model.load_state_dict(torch.load('model_dicom_binary_3.pth', map_location=device))\n"
     ]
    },
    {
     "name": "stdout",
     "output_type": "stream",
     "text": [
      "Class 0: Precision: 0.00%, Recall: 0.00%, F1: 0.00%\n",
      "Class 1: Precision: 85.03%, Recall: 69.97%, F1: 76.77%\n",
      "Average Precision: 42.516%\n",
      "Average Recall: 34.987%\n",
      "Average F1: 38.385%\n",
      "\n",
      "Weighted Precision: 85.031%\n",
      "Weighted Recall: 69.974%\n",
      "Weighted F1: 76.771%\n"
     ]
    },
    {
     "name": "stderr",
     "output_type": "stream",
     "text": [
      "C:\\Users\\eozoszy\\AppData\\Local\\Temp\\ipykernel_34376\\3879195863.py:33: RuntimeWarning: invalid value encountered in divide\n",
      "  precision = TP / (TP + FP)\n",
      "C:\\Users\\eozoszy\\AppData\\Local\\Temp\\ipykernel_34376\\3879195863.py:34: RuntimeWarning: invalid value encountered in divide\n",
      "  recall = TP / (TP + FN)\n"
     ]
    }
   ],
   "source": [
    "model.load_state_dict(torch.load('model_dicom_binary_3.pth', map_location=device))\n",
    "precision, recall, f1, precision_weighted, recall_weighted, f1_weighted = compute_precision_recall_f1(model, val_loader, device, NUMBER_OF_CLASSES)\n",
    "\n",
    "if np.isnan(precision).any():\n",
    "    precision = np.nan_to_num(precision)\n",
    "if np.isnan(recall).any():\n",
    "    recall = np.nan_to_num(recall)\n",
    "if np.isnan(f1).any():\n",
    "    f1 = np.nan_to_num(f1)\n",
    "\n",
    "for i in range(NUMBER_OF_CLASSES):\n",
    "    print(f'Class {i}: Precision: {precision[i] * 100:.2f}%, Recall: {recall[i] * 100:.2f}%, F1: {f1[i] * 100:.2f}%')\n",
    "\n",
    "print(f'Average Precision: {np.mean(precision) * 100:.3f}%')\n",
    "print(f'Average Recall: {np.mean(recall) * 100:.3f}%')\n",
    "print(f'Average F1: {np.mean(f1) * 100:.3f}%')\n",
    "print()\n",
    "print(f'Weighted Precision: {precision_weighted * 100:.3f}%')\n",
    "print(f'Weighted Recall: {recall_weighted * 100:.3f}%')\n",
    "print(f'Weighted F1: {f1_weighted * 100:.3f}%')"
   ]
  },
  {
   "cell_type": "code",
   "execution_count": 43,
   "metadata": {},
   "outputs": [
    {
     "name": "stderr",
     "output_type": "stream",
     "text": [
      "C:\\Users\\eozoszy\\AppData\\Local\\Temp\\ipykernel_34376\\4225915654.py:4: FutureWarning: You are using `torch.load` with `weights_only=False` (the current default value), which uses the default pickle module implicitly. It is possible to construct malicious pickle data which will execute arbitrary code during unpickling (See https://github.com/pytorch/pytorch/blob/main/SECURITY.md#untrusted-models for more details). In a future release, the default value for `weights_only` will be flipped to `True`. This limits the functions that could be executed during unpickling. Arbitrary objects will no longer be allowed to be loaded via this mode unless they are explicitly allowlisted by the user via `torch.serialization.add_safe_globals`. We recommend you start setting `weights_only=True` for any use case where you don't have full control of the loaded file. Please open an issue on GitHub for any issues related to this experimental feature.\n",
      "  model.load_state_dict(torch.load('model_dicom_binary_4.pth', map_location=device))\n"
     ]
    },
    {
     "name": "stdout",
     "output_type": "stream",
     "text": [
      "Train Accuracy: 98.14%\n",
      "Train Accuracy Clear: 76.21%\n",
      "\n",
      "Validation Accuracy: 97.67%\n",
      "Validation Accuracy Clear: 71.59%\n"
     ]
    }
   ],
   "source": [
    "NUMBER_OF_CLASSES = 2\n",
    "device = torch.device('cuda' if torch.cuda.is_available() else 'cpu')\n",
    "model = UNet(NUMBER_OF_CLASSES).to(device)\n",
    "model.load_state_dict(torch.load('model_dicom_binary_4.pth', map_location=device))\n",
    "\n",
    "train_accuracy = compute_accuracy(model, train_loader, device)\n",
    "val_accuracy = compute_accuracy(model, val_loader, device)\n",
    "\n",
    "print(f'Train Accuracy: {train_accuracy[0] * 100 :.2f}%')\n",
    "print(f'Train Accuracy Clear: {train_accuracy[1] * 100 :.2f}%')\n",
    "print()\n",
    "print(f'Validation Accuracy: {val_accuracy[0] * 100 :.2f}%')\n",
    "print(f'Validation Accuracy Clear: {val_accuracy[1] * 100 :.2f}%')"
   ]
  },
  {
   "cell_type": "code",
   "execution_count": 44,
   "metadata": {},
   "outputs": [
    {
     "name": "stderr",
     "output_type": "stream",
     "text": [
      "C:\\Users\\eozoszy\\AppData\\Local\\Temp\\ipykernel_34376\\1298930950.py:1: FutureWarning: You are using `torch.load` with `weights_only=False` (the current default value), which uses the default pickle module implicitly. It is possible to construct malicious pickle data which will execute arbitrary code during unpickling (See https://github.com/pytorch/pytorch/blob/main/SECURITY.md#untrusted-models for more details). In a future release, the default value for `weights_only` will be flipped to `True`. This limits the functions that could be executed during unpickling. Arbitrary objects will no longer be allowed to be loaded via this mode unless they are explicitly allowlisted by the user via `torch.serialization.add_safe_globals`. We recommend you start setting `weights_only=True` for any use case where you don't have full control of the loaded file. Please open an issue on GitHub for any issues related to this experimental feature.\n",
      "  model.load_state_dict(torch.load('model_dicom_binary_4.pth', map_location=device))\n"
     ]
    },
    {
     "name": "stdout",
     "output_type": "stream",
     "text": [
      "Class 0: Precision: 0.00%, Recall: 0.00%, F1: 0.00%\n",
      "Class 1: Precision: 84.26%, Recall: 71.59%, F1: 77.41%\n",
      "Average Precision: 42.130%\n",
      "Average Recall: 35.794%\n",
      "Average F1: 38.704%\n",
      "\n",
      "Weighted Precision: 84.259%\n",
      "Weighted Recall: 71.587%\n",
      "Weighted F1: 77.408%\n"
     ]
    },
    {
     "name": "stderr",
     "output_type": "stream",
     "text": [
      "C:\\Users\\eozoszy\\AppData\\Local\\Temp\\ipykernel_34376\\3879195863.py:33: RuntimeWarning: invalid value encountered in divide\n",
      "  precision = TP / (TP + FP)\n",
      "C:\\Users\\eozoszy\\AppData\\Local\\Temp\\ipykernel_34376\\3879195863.py:34: RuntimeWarning: invalid value encountered in divide\n",
      "  recall = TP / (TP + FN)\n"
     ]
    }
   ],
   "source": [
    "model.load_state_dict(torch.load('model_dicom_binary_4.pth', map_location=device))\n",
    "precision, recall, f1, precision_weighted, recall_weighted, f1_weighted = compute_precision_recall_f1(model, val_loader, device, NUMBER_OF_CLASSES)\n",
    "\n",
    "if np.isnan(precision).any():\n",
    "    precision = np.nan_to_num(precision)\n",
    "if np.isnan(recall).any():\n",
    "    recall = np.nan_to_num(recall)\n",
    "if np.isnan(f1).any():\n",
    "    f1 = np.nan_to_num(f1)\n",
    "\n",
    "for i in range(NUMBER_OF_CLASSES):\n",
    "    print(f'Class {i}: Precision: {precision[i] * 100:.2f}%, Recall: {recall[i] * 100:.2f}%, F1: {f1[i] * 100:.2f}%')\n",
    "\n",
    "print(f'Average Precision: {np.mean(precision) * 100:.3f}%')\n",
    "print(f'Average Recall: {np.mean(recall) * 100:.3f}%')\n",
    "print(f'Average F1: {np.mean(f1) * 100:.3f}%')\n",
    "print()\n",
    "print(f'Weighted Precision: {precision_weighted * 100:.3f}%')\n",
    "print(f'Weighted Recall: {recall_weighted * 100:.3f}%')\n",
    "print(f'Weighted F1: {f1_weighted * 100:.3f}%')"
   ]
  },
  {
   "cell_type": "code",
   "execution_count": 7,
   "metadata": {},
   "outputs": [
    {
     "name": "stderr",
     "output_type": "stream",
     "text": [
      "C:\\Users\\eozoszy\\AppData\\Local\\Temp\\ipykernel_32464\\228252990.py:4: FutureWarning: You are using `torch.load` with `weights_only=False` (the current default value), which uses the default pickle module implicitly. It is possible to construct malicious pickle data which will execute arbitrary code during unpickling (See https://github.com/pytorch/pytorch/blob/main/SECURITY.md#untrusted-models for more details). In a future release, the default value for `weights_only` will be flipped to `True`. This limits the functions that could be executed during unpickling. Arbitrary objects will no longer be allowed to be loaded via this mode unless they are explicitly allowlisted by the user via `torch.serialization.add_safe_globals`. We recommend you start setting `weights_only=True` for any use case where you don't have full control of the loaded file. Please open an issue on GitHub for any issues related to this experimental feature.\n",
      "  model.load_state_dict(torch.load('model_dicom_binary_5.pth', map_location=device))\n"
     ]
    },
    {
     "name": "stdout",
     "output_type": "stream",
     "text": [
      "Train Accuracy: 98.15%\n",
      "Train Accuracy Clear: 73.63%\n",
      "\n",
      "Validation Accuracy: 97.64%\n",
      "Validation Accuracy Clear: 69.21%\n"
     ]
    }
   ],
   "source": [
    "NUMBER_OF_CLASSES = 2\n",
    "device = torch.device('cuda' if torch.cuda.is_available() else 'cpu')\n",
    "model = UNet(NUMBER_OF_CLASSES).to(device)\n",
    "model.load_state_dict(torch.load('model_dicom_binary_5.pth', map_location=device))\n",
    "\n",
    "train_accuracy = compute_accuracy(model, train_loader, device)\n",
    "val_accuracy = compute_accuracy(model, val_loader, device)\n",
    "\n",
    "print(f'Train Accuracy: {train_accuracy[0] * 100 :.2f}%')\n",
    "print(f'Train Accuracy Clear: {train_accuracy[1] * 100 :.2f}%')\n",
    "print()\n",
    "print(f'Validation Accuracy: {val_accuracy[0] * 100 :.2f}%')\n",
    "print(f'Validation Accuracy Clear: {val_accuracy[1] * 100 :.2f}%')"
   ]
  },
  {
   "cell_type": "code",
   "execution_count": 8,
   "metadata": {},
   "outputs": [
    {
     "name": "stderr",
     "output_type": "stream",
     "text": [
      "C:\\Users\\eozoszy\\AppData\\Local\\Temp\\ipykernel_32464\\430533966.py:1: FutureWarning: You are using `torch.load` with `weights_only=False` (the current default value), which uses the default pickle module implicitly. It is possible to construct malicious pickle data which will execute arbitrary code during unpickling (See https://github.com/pytorch/pytorch/blob/main/SECURITY.md#untrusted-models for more details). In a future release, the default value for `weights_only` will be flipped to `True`. This limits the functions that could be executed during unpickling. Arbitrary objects will no longer be allowed to be loaded via this mode unless they are explicitly allowlisted by the user via `torch.serialization.add_safe_globals`. We recommend you start setting `weights_only=True` for any use case where you don't have full control of the loaded file. Please open an issue on GitHub for any issues related to this experimental feature.\n",
      "  model.load_state_dict(torch.load('model_dicom_binary_5.pth', map_location=device))\n"
     ]
    },
    {
     "name": "stdout",
     "output_type": "stream",
     "text": [
      "Class 0: Precision: 0.00%, Recall: 0.00%, F1: 0.00%\n",
      "Class 1: Precision: 85.80%, Recall: 69.21%, F1: 76.62%\n",
      "Average Precision: 42.898%\n",
      "Average Recall: 34.605%\n",
      "Average F1: 38.308%\n",
      "\n",
      "Weighted Precision: 85.796%\n",
      "Weighted Recall: 69.210%\n",
      "Weighted F1: 76.616%\n"
     ]
    },
    {
     "name": "stderr",
     "output_type": "stream",
     "text": [
      "C:\\Users\\eozoszy\\AppData\\Local\\Temp\\ipykernel_32464\\3879195863.py:33: RuntimeWarning: invalid value encountered in divide\n",
      "  precision = TP / (TP + FP)\n",
      "C:\\Users\\eozoszy\\AppData\\Local\\Temp\\ipykernel_32464\\3879195863.py:34: RuntimeWarning: invalid value encountered in divide\n",
      "  recall = TP / (TP + FN)\n"
     ]
    }
   ],
   "source": [
    "model.load_state_dict(torch.load('model_dicom_binary_5.pth', map_location=device))\n",
    "precision, recall, f1, precision_weighted, recall_weighted, f1_weighted = compute_precision_recall_f1(model, val_loader, device, NUMBER_OF_CLASSES)\n",
    "\n",
    "if np.isnan(precision).any():\n",
    "    precision = np.nan_to_num(precision)\n",
    "if np.isnan(recall).any():\n",
    "    recall = np.nan_to_num(recall)\n",
    "if np.isnan(f1).any():\n",
    "    f1 = np.nan_to_num(f1)\n",
    "\n",
    "for i in range(NUMBER_OF_CLASSES):\n",
    "    print(f'Class {i}: Precision: {precision[i] * 100:.2f}%, Recall: {recall[i] * 100:.2f}%, F1: {f1[i] * 100:.2f}%')\n",
    "\n",
    "print(f'Average Precision: {np.mean(precision) * 100:.3f}%')\n",
    "print(f'Average Recall: {np.mean(recall) * 100:.3f}%')\n",
    "print(f'Average F1: {np.mean(f1) * 100:.3f}%')\n",
    "print()\n",
    "print(f'Weighted Precision: {precision_weighted * 100:.3f}%')\n",
    "print(f'Weighted Recall: {recall_weighted * 100:.3f}%')\n",
    "print(f'Weighted F1: {f1_weighted * 100:.3f}%')"
   ]
  },
  {
   "cell_type": "code",
   "execution_count": null,
   "metadata": {},
   "outputs": [],
   "source": []
  }
 ],
 "metadata": {
  "kernelspec": {
   "display_name": "Python 3",
   "language": "python",
   "name": "python3"
  },
  "language_info": {
   "codemirror_mode": {
    "name": "ipython",
    "version": 3
   },
   "file_extension": ".py",
   "mimetype": "text/x-python",
   "name": "python",
   "nbconvert_exporter": "python",
   "pygments_lexer": "ipython3",
   "version": "3.11.9"
  }
 },
 "nbformat": 4,
 "nbformat_minor": 2
}
