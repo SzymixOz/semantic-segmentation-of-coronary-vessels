{
 "cells": [
  {
   "cell_type": "code",
   "execution_count": 7,
   "metadata": {},
   "outputs": [],
   "source": [
    "# import os\n",
    "# from random import random \n",
    "\n",
    "# image_names = os.listdir(\"../images_with_proper_colors/images\")\n",
    "# train_test_split = open(\"train_test_split.txt\", 'w')\n",
    "# for i, image_name in enumerate(image_names):\n",
    "#     r = random()\n",
    "#     if r < 0.7:\n",
    "#         train_test_split.write(image_name + ' 0\\n')\n",
    "#     elif r < 0.85:\n",
    "#         train_test_split.write(image_name + ' 1\\n')\n",
    "#     else:\n",
    "#         train_test_split.write(image_name + ' 2\\n')"
   ]
  },
  {
   "cell_type": "code",
   "execution_count": 1,
   "metadata": {},
   "outputs": [],
   "source": [
    "import os\n",
    "\n",
    "os.mkdir(\"images_train\")\n",
    "os.mkdir(\"images_train/input\")\n",
    "os.mkdir(\"images_train/output\")\n",
    "\n",
    "os.mkdir(\"images_val\")\n",
    "os.mkdir(\"images_val/input\")\n",
    "os.mkdir(\"images_val/output\")\n",
    "\n",
    "os.mkdir(\"images_test\")\n",
    "os.mkdir(\"images_test/input\")\n",
    "os.mkdir(\"images_test/output\")"
   ]
  },
  {
   "cell_type": "code",
   "execution_count": 2,
   "metadata": {},
   "outputs": [],
   "source": [
    "import shutil\n",
    "\n",
    "train_test_split = open(\"train_test_split.txt\", 'r')\n",
    "input_source = \"../images_with_proper_colors/images/\"\n",
    "output_source = \"../images_with_proper_colors/gt/\"\n",
    "\n",
    "for line in train_test_split:\n",
    "    image_name, train_or_test = line.split()\n",
    "    if train_or_test == '0':\n",
    "        shutil.copy(input_source + image_name, \"images_train/input/\" + image_name)\n",
    "        shutil.copy(output_source + image_name, \"images_train/output/\" + image_name)\n",
    "    elif train_or_test == '1':\n",
    "        shutil.copy(input_source + image_name, \"images_val/input/\" + image_name)\n",
    "        shutil.copy(output_source + image_name, \"images_val/output/\" + image_name)\n",
    "    else:\n",
    "        shutil.copy(input_source + image_name, \"images_test/input/\" + image_name)\n",
    "        shutil.copy(output_source + image_name, \"images_test/output/\" + image_name)"
   ]
  },
  {
   "cell_type": "code",
   "execution_count": null,
   "metadata": {},
   "outputs": [],
   "source": []
  }
 ],
 "metadata": {
  "kernelspec": {
   "display_name": "Python 3",
   "language": "python",
   "name": "python3"
  },
  "language_info": {
   "codemirror_mode": {
    "name": "ipython",
    "version": 3
   },
   "file_extension": ".py",
   "mimetype": "text/x-python",
   "name": "python",
   "nbconvert_exporter": "python",
   "pygments_lexer": "ipython3",
   "version": "3.10.6"
  }
 },
 "nbformat": 4,
 "nbformat_minor": 2
}
