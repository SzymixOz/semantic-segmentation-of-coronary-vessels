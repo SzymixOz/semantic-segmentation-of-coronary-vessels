{
 "cells": [
  {
   "cell_type": "code",
   "execution_count": 3,
   "metadata": {},
   "outputs": [],
   "source": [
    "import os\n",
    "\n",
    "wrong_images_names = os.listdir('wrong_gt')\n",
    "for filename in os.listdir('bin'):\n",
    "    if filename in wrong_images_names:\n",
    "        os.remove(f'bin/{filename}')\n",
    "\n",
    "for filename in os.listdir('images'):\n",
    "    if filename in wrong_images_names:\n",
    "        os.rename(f'images/{filename}', f'wrong_images/{filename}')"
   ]
  },
  {
   "cell_type": "code",
   "execution_count": 4,
   "metadata": {},
   "outputs": [
    {
     "name": "stdout",
     "output_type": "stream",
     "text": [
      "12aw4ack71831bocuf5j3pz235kn1v361de_33.png\n",
      "12nc2fo32bddqwoyhtlmwecxrf1r8z1fj01_55.png\n",
      "131aedfhs6pnf1fvtvp498wvamk5zfoj22_35.png\n",
      "13c2ur549vohc0jat2dfn3qff62_26.png\n",
      "13c2ur549vohc0jat2dvu3xs4p1_24.png\n"
     ]
    }
   ],
   "source": [
    "for filename in os.listdir('images'):\n",
    "    if not filename in os.listdir('gt'):\n",
    "        print(filename)\n",
    "        os.rename(f'images/{filename}', f'wrong_images/{filename}')"
   ]
  }
 ],
 "metadata": {
  "kernelspec": {
   "display_name": "Python 3",
   "language": "python",
   "name": "python3"
  },
  "language_info": {
   "codemirror_mode": {
    "name": "ipython",
    "version": 3
   },
   "file_extension": ".py",
   "mimetype": "text/x-python",
   "name": "python",
   "nbconvert_exporter": "python",
   "pygments_lexer": "ipython3",
   "version": "3.10.6"
  }
 },
 "nbformat": 4,
 "nbformat_minor": 2
}
