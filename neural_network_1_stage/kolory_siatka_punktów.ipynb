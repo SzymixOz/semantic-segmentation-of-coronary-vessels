{
 "cells": [
  {
   "cell_type": "code",
   "execution_count": 39,
   "metadata": {},
   "outputs": [
    {
     "name": "stdout",
     "output_type": "stream",
     "text": [
      "Generated points:\n",
      "Point 1: [0 0 0]\n",
      "Point 2: [142 204 169]\n",
      "Point 3: [163 184  35]\n",
      "Point 4: [147  78 230]\n",
      "Point 5: [ 57 156 110]\n",
      "Point 6: [ 79 149  46]\n",
      "Point 7: [ 65 253 221]\n",
      "Point 8: [126 115 109]\n",
      "Point 9: [122 176 147]\n",
      "Point 10: [102 229  28]\n",
      "Point 11: [185 188  33]\n",
      "Point 12: [ 56 220 110]\n",
      "Point 13: [ 14   8 253]\n",
      "Point 14: [100  61 127]\n",
      "Point 15: [187 185 219]\n",
      "Point 16: [48 43 30]\n",
      "Point 17: [ 30 216 235]\n",
      "Point 18: [ 26 205  37]\n",
      "Point 19: [157 138 250]\n",
      "Point 20: [161 198  48]\n",
      "Point 21: [ 30  72 149]\n",
      "Point 22: [250 116  70]\n",
      "Point 23: [ 44  35 155]\n",
      "Point 24: [ 82 233  53]\n",
      "Point 25: [ 20  88 242]\n",
      "Point 26: [230 220   6]\n",
      "Point 27: [140 174 195]\n",
      "Point 28: [  4 117 215]\n"
     ]
    }
   ],
   "source": [
    "import numpy as np\n",
    "from scipy.spatial import distance_matrix\n",
    "\n",
    "def generate_distant_points(num_points=28, dimension=3, range_max=255):\n",
    "    # Initialize with the first point at the origin\n",
    "    points = np.array([[0] * dimension])\n",
    "\n",
    "    # Randomly initialize the next points within the specified range\n",
    "    while len(points) < num_points:\n",
    "        # Generate a new candidate point\n",
    "        candidate = np.random.randint(0, range_max + 1, size=(1, dimension))\n",
    "        \n",
    "        # Calculate the minimum distance of this candidate to all existing points\n",
    "        dists = distance_matrix(points, candidate)\n",
    "        min_dist_to_existing = np.min(dists)\n",
    "        \n",
    "        # Add candidate if it maximizes the minimum distance to existing points\n",
    "        if len(points) == 1 or min_dist_to_existing > np.max(np.min(distance_matrix(points, points), axis=1)):\n",
    "            points = np.vstack([points, candidate])\n",
    "    \n",
    "    return points\n",
    "\n",
    "# Generate 28 distant points in 3D space\n",
    "points = generate_distant_points(num_points=28, dimension=3, range_max=255)\n",
    "\n",
    "# Print the generated points\n",
    "print(\"Generated points:\")\n",
    "for i, point in enumerate(points):\n",
    "    print(f\"Point {i+1}: {point}\")\n"
   ]
  },
  {
   "cell_type": "code",
   "execution_count": 40,
   "metadata": {},
   "outputs": [
    {
     "name": "stdout",
     "output_type": "stream",
     "text": [
      "Max distance: 390.6520190655617\n",
      "Min distance: 0.0\n",
      "Mean distance: 168.21154044567936\n",
      "Median distance: 169.4992625096\n",
      "Q1 distance: 119.34778186949173\n"
     ]
    }
   ],
   "source": [
    "dists = distance_matrix(points, points)\n",
    "print(f\"Max distance: {np.max(dists)}\")\n",
    "print(f\"Min distance: {np.min(dists)}\")\n",
    "print(f\"Mean distance: {np.mean(dists)}\")\n",
    "print(f\"Median distance: {np.median(dists)}\")\n",
    "print(f\"Q1 distance: {np.quantile(dists, 0.25)}\")"
   ]
  },
  {
   "cell_type": "code",
   "execution_count": 26,
   "metadata": {},
   "outputs": [
    {
     "name": "stdout",
     "output_type": "stream",
     "text": [
      "Point 1: [0 0 0]\n",
      "Point 2: [158  57  74]\n",
      "Point 3: [ 83 192  94]\n",
      "Point 4: [ 17 120 241]\n",
      "Point 5: [138 164   0]\n",
      "Point 6: [240 163   9]\n",
      "Point 7: [ 19   2 140]\n",
      "Point 8: [ 58 227 187]\n",
      "Point 9: [ 44 214 235]\n",
      "Point 10: [212  43 157]\n",
      "Point 11: [107 180 216]\n",
      "Point 12: [238 162 202]\n",
      "Point 13: [215 151  23]\n",
      "Point 14: [  4  66 249]\n",
      "Point 15: [135 168  79]\n",
      "Point 16: [253  38  59]\n",
      "Point 17: [ 14 142  82]\n",
      "Point 18: [124  16  36]\n",
      "Point 19: [217  27  96]\n",
      "Point 20: [240  47 197]\n",
      "Point 21: [174 172 192]\n",
      "Point 22: [ 77 212 192]\n",
      "Point 23: [152 139  69]\n",
      "Point 24: [215 198 193]\n",
      "Point 25: [  9 239 209]\n",
      "Point 26: [234  58  88]\n",
      "Point 27: [23 21  3]\n",
      "Point 28: [  4  31 217]\n"
     ]
    }
   ],
   "source": [
    "for i, point in enumerate(points):\n",
    "    print(f\"Point {i+1}: {point}\")"
   ]
  },
  {
   "cell_type": "code",
   "execution_count": null,
   "metadata": {},
   "outputs": [],
   "source": [
    "# Policz odległości każdego punktu od każdego innego punktu i wypisz je\n",
    "print(\"\\nDistances between points:\")\n",
    "for i in range(len(points)):\n",
    "    for j in range(len(points)):\n",
    "        print(f\"Distance between points {i+1} and {j+1}: {dists[i, j]}\")"
   ]
  }
 ],
 "metadata": {
  "kernelspec": {
   "display_name": "Python 3",
   "language": "python",
   "name": "python3"
  },
  "language_info": {
   "codemirror_mode": {
    "name": "ipython",
    "version": 3
   },
   "file_extension": ".py",
   "mimetype": "text/x-python",
   "name": "python",
   "nbconvert_exporter": "python",
   "pygments_lexer": "ipython3",
   "version": "3.10.6"
  }
 },
 "nbformat": 4,
 "nbformat_minor": 2
}
