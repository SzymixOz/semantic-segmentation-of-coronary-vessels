{
 "cells": [
  {
   "cell_type": "code",
   "execution_count": 2,
   "metadata": {},
   "outputs": [],
   "source": [
    "import os\n",
    "import numpy as np\n",
    "import cv2\n",
    "import torch\n",
    "from torch.utils.data import Dataset\n",
    "\n",
    "\n",
    "class CoronarySmallDataset(Dataset):\n",
    "    def __init__(self, image_dir, mask_dir, transform=None):\n",
    "        self.image_dir = image_dir\n",
    "        self.mask_dir = mask_dir\n",
    "        self.transform = transform\n",
    "        self.images = os.listdir(image_dir)\n",
    "\n",
    "    def __len__(self):\n",
    "        return len(self.images)\n",
    "\n",
    "    def __getitem__(self, idx):\n",
    "        img_path = os.path.join(self.image_dir, self.images[idx])\n",
    "        mask_path = os.path.join(self.mask_dir, self.images[idx])\n",
    "        \n",
    "\n",
    "        image = cv2.imread(img_path, cv2.IMREAD_UNCHANGED)\n",
    "        image = cv2.cvtColor(image, cv2.COLOR_RGBA2RGB)\n",
    "        image = cv2.resize(image, (256, 256))\n",
    "        \n",
    "        mask = cv2.imread(mask_path, cv2.IMREAD_UNCHANGED)\n",
    "        mask = cv2.cvtColor(mask, cv2.COLOR_RGBA2RGB)\n",
    "        mask = cv2.resize(mask, (256, 256))\n",
    "        \n",
    "        if self.transform:\n",
    "            image = self.transform(image)\n",
    "            mask = self.transform(mask)\n",
    "        \n",
    "        return image, mask"
   ]
  },
  {
   "cell_type": "code",
   "execution_count": 3,
   "metadata": {},
   "outputs": [],
   "source": [
    "from torch.utils.data import Dataset, DataLoader\n",
    "from sklearn.model_selection import train_test_split\n",
    "from torchvision import transforms\n",
    "\n",
    "\n",
    "transform = transforms.Compose([\n",
    "    transforms.ToTensor()\n",
    "])\n",
    "\n",
    "train_image_dir = 'images_train\\input'\n",
    "train_mask_dir = 'images_train\\output'\n",
    "val_image_dir = 'images_val\\input'\n",
    "val_mask_dir = 'images_val\\output'\n",
    "test_image_dir = 'images_test\\input'\n",
    "test_mask_dir = 'images_test\\output'\n",
    "\n",
    "train_dataset = CoronarySmallDataset(train_image_dir, train_mask_dir, transform=transform)\n",
    "val_dataset = CoronarySmallDataset(val_image_dir, val_mask_dir, transform=transform)\n",
    "test_dataset = CoronarySmallDataset(test_image_dir, test_mask_dir, transform=transform)\n",
    "\n",
    "train_loader = DataLoader(train_dataset, batch_size=8, shuffle=True)\n",
    "val_loader = DataLoader(val_dataset, batch_size=8, shuffle=False)\n",
    "test_loader = DataLoader(test_dataset, batch_size=8, shuffle=False)\n"
   ]
  },
  {
   "cell_type": "code",
   "execution_count": 4,
   "metadata": {},
   "outputs": [],
   "source": [
    "from small_RGB_model import UNet\n",
    "\n",
    "\n",
    "device = torch.device('cuda' if torch.cuda.is_available() else 'cpu')\n",
    "model = UNet()\n",
    "model = model.to(device)"
   ]
  },
  {
   "cell_type": "code",
   "execution_count": 5,
   "metadata": {},
   "outputs": [],
   "source": [
    "import torch.optim as optim\n",
    "from tqdm import tqdm\n",
    "import torch.nn as nn\n",
    "import torch.nn.functional as F\n",
    "\n",
    "\n",
    "criterion = nn.BCELoss()\n",
    "optimizer = optim.Adam(model.parameters(), lr=1e-4)\n",
    "\n",
    "def train_model(model, train_loader, val_loader, criterion, optimizer, num_epochs=50):\n",
    "    best_loss = float('inf')\n",
    "    for epoch in range(num_epochs):\n",
    "        model.train()\n",
    "        train_loss = 0.0\n",
    "        for images, masks in tqdm(train_loader):\n",
    "            images = images.to(device)\n",
    "            masks = masks.to(device)\n",
    "\n",
    "            # print(images.size())\n",
    "            # print(images)\n",
    "            # print(masks.size())\n",
    "            # print(masks)\n",
    "\n",
    "            optimizer.zero_grad()\n",
    "            outputs = model(images)\n",
    "\n",
    "            # print(outputs.size())\n",
    "            # print(outputs)\n",
    "            \n",
    "            loss = criterion(outputs, masks)\n",
    "            loss.backward()\n",
    "            optimizer.step()\n",
    "            \n",
    "            train_loss += loss.item() * images.size(0)\n",
    "        \n",
    "        train_loss = train_loss / len(train_loader.dataset)\n",
    "\n",
    "        model.eval()\n",
    "        val_loss = 0.0\n",
    "        with torch.no_grad():\n",
    "            for images, masks in val_loader:\n",
    "                images = images.to(device)\n",
    "                masks = masks.to(device)\n",
    "\n",
    "                outputs = model(images)\n",
    "                loss = criterion(outputs, masks)\n",
    "                \n",
    "                val_loss += loss.item() * images.size(0)\n",
    "        \n",
    "        val_loss = val_loss / len(val_loader.dataset)\n",
    "        \n",
    "        print(f'Epoch {epoch+1}/{num_epochs}, Train Loss: {train_loss:.4f}, Val Loss: {val_loss:.4f}')\n",
    "        \n",
    "        if val_loss < best_loss:\n",
    "            best_loss = val_loss\n",
    "            torch.save(model.state_dict(), 'small_RGB_model.pth')\n"
   ]
  },
  {
   "cell_type": "code",
   "execution_count": 5,
   "metadata": {},
   "outputs": [
    {
     "name": "stderr",
     "output_type": "stream",
     "text": [
      "100%|██████████| 61/61 [01:33<00:00,  1.53s/it]\n"
     ]
    },
    {
     "name": "stdout",
     "output_type": "stream",
     "text": [
      "Epoch 1/50, Train Loss: 0.6483, Val Loss: 0.6379\n"
     ]
    },
    {
     "name": "stderr",
     "output_type": "stream",
     "text": [
      "100%|██████████| 61/61 [01:38<00:00,  1.62s/it]\n"
     ]
    },
    {
     "name": "stdout",
     "output_type": "stream",
     "text": [
      "Epoch 2/50, Train Loss: 0.6172, Val Loss: 0.6226\n"
     ]
    },
    {
     "name": "stderr",
     "output_type": "stream",
     "text": [
      "100%|██████████| 61/61 [01:38<00:00,  1.62s/it]\n"
     ]
    },
    {
     "name": "stdout",
     "output_type": "stream",
     "text": [
      "Epoch 3/50, Train Loss: 0.6071, Val Loss: 0.6117\n"
     ]
    },
    {
     "name": "stderr",
     "output_type": "stream",
     "text": [
      "100%|██████████| 61/61 [01:39<00:00,  1.63s/it]\n"
     ]
    },
    {
     "name": "stdout",
     "output_type": "stream",
     "text": [
      "Epoch 4/50, Train Loss: 0.5998, Val Loss: 0.6087\n"
     ]
    },
    {
     "name": "stderr",
     "output_type": "stream",
     "text": [
      "100%|██████████| 61/61 [01:52<00:00,  1.85s/it]\n"
     ]
    },
    {
     "name": "stdout",
     "output_type": "stream",
     "text": [
      "Epoch 5/50, Train Loss: 0.5948, Val Loss: 0.6066\n"
     ]
    },
    {
     "name": "stderr",
     "output_type": "stream",
     "text": [
      "100%|██████████| 61/61 [01:47<00:00,  1.76s/it]\n"
     ]
    },
    {
     "name": "stdout",
     "output_type": "stream",
     "text": [
      "Epoch 6/50, Train Loss: 0.5912, Val Loss: 0.6047\n"
     ]
    },
    {
     "name": "stderr",
     "output_type": "stream",
     "text": [
      "100%|██████████| 61/61 [01:48<00:00,  1.78s/it]\n"
     ]
    },
    {
     "name": "stdout",
     "output_type": "stream",
     "text": [
      "Epoch 7/50, Train Loss: 0.5882, Val Loss: 0.6018\n"
     ]
    },
    {
     "name": "stderr",
     "output_type": "stream",
     "text": [
      "100%|██████████| 61/61 [01:43<00:00,  1.70s/it]\n"
     ]
    },
    {
     "name": "stdout",
     "output_type": "stream",
     "text": [
      "Epoch 8/50, Train Loss: 0.5858, Val Loss: 0.6000\n"
     ]
    },
    {
     "name": "stderr",
     "output_type": "stream",
     "text": [
      "100%|██████████| 61/61 [01:54<00:00,  1.88s/it]\n"
     ]
    },
    {
     "name": "stdout",
     "output_type": "stream",
     "text": [
      "Epoch 9/50, Train Loss: 0.5840, Val Loss: 0.5978\n"
     ]
    },
    {
     "name": "stderr",
     "output_type": "stream",
     "text": [
      "100%|██████████| 61/61 [01:45<00:00,  1.73s/it]\n"
     ]
    },
    {
     "name": "stdout",
     "output_type": "stream",
     "text": [
      "Epoch 10/50, Train Loss: 0.5827, Val Loss: 0.5972\n"
     ]
    },
    {
     "name": "stderr",
     "output_type": "stream",
     "text": [
      "100%|██████████| 61/61 [01:49<00:00,  1.80s/it]\n"
     ]
    },
    {
     "name": "stdout",
     "output_type": "stream",
     "text": [
      "Epoch 11/50, Train Loss: 0.5819, Val Loss: 0.5957\n"
     ]
    },
    {
     "name": "stderr",
     "output_type": "stream",
     "text": [
      "100%|██████████| 61/61 [01:49<00:00,  1.79s/it]\n"
     ]
    },
    {
     "name": "stdout",
     "output_type": "stream",
     "text": [
      "Epoch 12/50, Train Loss: 0.5812, Val Loss: 0.5947\n"
     ]
    },
    {
     "name": "stderr",
     "output_type": "stream",
     "text": [
      "100%|██████████| 61/61 [01:40<00:00,  1.65s/it]\n"
     ]
    },
    {
     "name": "stdout",
     "output_type": "stream",
     "text": [
      "Epoch 13/50, Train Loss: 0.5803, Val Loss: 0.5950\n"
     ]
    },
    {
     "name": "stderr",
     "output_type": "stream",
     "text": [
      "100%|██████████| 61/61 [01:42<00:00,  1.69s/it]\n"
     ]
    },
    {
     "name": "stdout",
     "output_type": "stream",
     "text": [
      "Epoch 14/50, Train Loss: 0.5797, Val Loss: 0.5949\n"
     ]
    },
    {
     "name": "stderr",
     "output_type": "stream",
     "text": [
      "100%|██████████| 61/61 [01:42<00:00,  1.67s/it]\n"
     ]
    },
    {
     "name": "stdout",
     "output_type": "stream",
     "text": [
      "Epoch 15/50, Train Loss: 0.5794, Val Loss: 0.5954\n"
     ]
    },
    {
     "name": "stderr",
     "output_type": "stream",
     "text": [
      "100%|██████████| 61/61 [01:42<00:00,  1.67s/it]\n"
     ]
    },
    {
     "name": "stdout",
     "output_type": "stream",
     "text": [
      "Epoch 16/50, Train Loss: 0.5794, Val Loss: 0.5942\n"
     ]
    },
    {
     "name": "stderr",
     "output_type": "stream",
     "text": [
      "100%|██████████| 61/61 [01:41<00:00,  1.67s/it]\n"
     ]
    },
    {
     "name": "stdout",
     "output_type": "stream",
     "text": [
      "Epoch 17/50, Train Loss: 0.5786, Val Loss: 0.5942\n"
     ]
    },
    {
     "name": "stderr",
     "output_type": "stream",
     "text": [
      "100%|██████████| 61/61 [01:41<00:00,  1.66s/it]\n"
     ]
    },
    {
     "name": "stdout",
     "output_type": "stream",
     "text": [
      "Epoch 18/50, Train Loss: 0.5785, Val Loss: 0.5951\n"
     ]
    },
    {
     "name": "stderr",
     "output_type": "stream",
     "text": [
      "100%|██████████| 61/61 [01:42<00:00,  1.68s/it]\n"
     ]
    },
    {
     "name": "stdout",
     "output_type": "stream",
     "text": [
      "Epoch 19/50, Train Loss: 0.5785, Val Loss: 0.5957\n"
     ]
    },
    {
     "name": "stderr",
     "output_type": "stream",
     "text": [
      "100%|██████████| 61/61 [01:42<00:00,  1.68s/it]\n"
     ]
    },
    {
     "name": "stdout",
     "output_type": "stream",
     "text": [
      "Epoch 20/50, Train Loss: 0.5779, Val Loss: 0.5943\n"
     ]
    },
    {
     "name": "stderr",
     "output_type": "stream",
     "text": [
      "100%|██████████| 61/61 [01:42<00:00,  1.68s/it]\n"
     ]
    },
    {
     "name": "stdout",
     "output_type": "stream",
     "text": [
      "Epoch 21/50, Train Loss: 0.5777, Val Loss: 0.5944\n"
     ]
    },
    {
     "name": "stderr",
     "output_type": "stream",
     "text": [
      "100%|██████████| 61/61 [01:42<00:00,  1.67s/it]\n"
     ]
    },
    {
     "name": "stdout",
     "output_type": "stream",
     "text": [
      "Epoch 22/50, Train Loss: 0.5773, Val Loss: 0.5948\n"
     ]
    },
    {
     "name": "stderr",
     "output_type": "stream",
     "text": [
      "100%|██████████| 61/61 [01:42<00:00,  1.68s/it]\n"
     ]
    },
    {
     "name": "stdout",
     "output_type": "stream",
     "text": [
      "Epoch 23/50, Train Loss: 0.5773, Val Loss: 0.5961\n"
     ]
    },
    {
     "name": "stderr",
     "output_type": "stream",
     "text": [
      "100%|██████████| 61/61 [01:42<00:00,  1.67s/it]\n"
     ]
    },
    {
     "name": "stdout",
     "output_type": "stream",
     "text": [
      "Epoch 24/50, Train Loss: 0.5768, Val Loss: 0.5943\n"
     ]
    },
    {
     "name": "stderr",
     "output_type": "stream",
     "text": [
      "100%|██████████| 61/61 [01:42<00:00,  1.69s/it]\n"
     ]
    },
    {
     "name": "stdout",
     "output_type": "stream",
     "text": [
      "Epoch 25/50, Train Loss: 0.5768, Val Loss: 0.5947\n"
     ]
    },
    {
     "name": "stderr",
     "output_type": "stream",
     "text": [
      "  7%|▋         | 4/61 [00:08<01:55,  2.03s/it]\n"
     ]
    },
    {
     "ename": "KeyboardInterrupt",
     "evalue": "",
     "output_type": "error",
     "traceback": [
      "\u001b[1;31m---------------------------------------------------------------------------\u001b[0m",
      "\u001b[1;31mKeyboardInterrupt\u001b[0m                         Traceback (most recent call last)",
      "\u001b[1;32m~\\AppData\\Local\\Temp\\ipykernel_10892\\791558959.py\u001b[0m in \u001b[0;36m<cell line: 1>\u001b[1;34m()\u001b[0m\n\u001b[1;32m----> 1\u001b[1;33m \u001b[0mtrain_model\u001b[0m\u001b[1;33m(\u001b[0m\u001b[0mmodel\u001b[0m\u001b[1;33m,\u001b[0m \u001b[0mtrain_loader\u001b[0m\u001b[1;33m,\u001b[0m \u001b[0mval_loader\u001b[0m\u001b[1;33m,\u001b[0m \u001b[0mcriterion\u001b[0m\u001b[1;33m,\u001b[0m \u001b[0moptimizer\u001b[0m\u001b[1;33m)\u001b[0m\u001b[1;33m\u001b[0m\u001b[1;33m\u001b[0m\u001b[0m\n\u001b[0m",
      "\u001b[1;32m~\\AppData\\Local\\Temp\\ipykernel_10892\\3477241365.py\u001b[0m in \u001b[0;36mtrain_model\u001b[1;34m(model, train_loader, val_loader, criterion, optimizer, num_epochs)\u001b[0m\n\u001b[0;32m     32\u001b[0m             \u001b[0moptimizer\u001b[0m\u001b[1;33m.\u001b[0m\u001b[0mstep\u001b[0m\u001b[1;33m(\u001b[0m\u001b[1;33m)\u001b[0m\u001b[1;33m\u001b[0m\u001b[1;33m\u001b[0m\u001b[0m\n\u001b[0;32m     33\u001b[0m \u001b[1;33m\u001b[0m\u001b[0m\n\u001b[1;32m---> 34\u001b[1;33m             \u001b[0mtrain_loss\u001b[0m \u001b[1;33m+=\u001b[0m \u001b[0mloss\u001b[0m\u001b[1;33m.\u001b[0m\u001b[0mitem\u001b[0m\u001b[1;33m(\u001b[0m\u001b[1;33m)\u001b[0m \u001b[1;33m*\u001b[0m \u001b[0mimages\u001b[0m\u001b[1;33m.\u001b[0m\u001b[0msize\u001b[0m\u001b[1;33m(\u001b[0m\u001b[1;36m0\u001b[0m\u001b[1;33m)\u001b[0m\u001b[1;33m\u001b[0m\u001b[1;33m\u001b[0m\u001b[0m\n\u001b[0m\u001b[0;32m     35\u001b[0m \u001b[1;33m\u001b[0m\u001b[0m\n\u001b[0;32m     36\u001b[0m         \u001b[0mtrain_loss\u001b[0m \u001b[1;33m=\u001b[0m \u001b[0mtrain_loss\u001b[0m \u001b[1;33m/\u001b[0m \u001b[0mlen\u001b[0m\u001b[1;33m(\u001b[0m\u001b[0mtrain_loader\u001b[0m\u001b[1;33m.\u001b[0m\u001b[0mdataset\u001b[0m\u001b[1;33m)\u001b[0m\u001b[1;33m\u001b[0m\u001b[1;33m\u001b[0m\u001b[0m\n",
      "\u001b[1;31mKeyboardInterrupt\u001b[0m: "
     ]
    }
   ],
   "source": [
    "train_model(model, train_loader, val_loader, criterion, optimizer)"
   ]
  },
  {
   "cell_type": "code",
   "execution_count": null,
   "metadata": {},
   "outputs": [],
   "source": []
  },
  {
   "cell_type": "code",
   "execution_count": 6,
   "metadata": {},
   "outputs": [],
   "source": [
    "import os\n",
    "import numpy as np\n",
    "import cv2\n",
    "import torch\n",
    "from torchvision import transforms\n",
    "\n",
    "\n",
    "model.load_state_dict(torch.load('small_RGB_model.pth'))\n",
    "model.eval()\n",
    "\n",
    "def show_image(type, image_name):\n",
    "    dir = f\"images_test\\{type}\"\n",
    "    print(dir)\n",
    "    img = cv2.imread(os.path.join(dir, image_name), cv2.IMREAD_UNCHANGED)\n",
    "    img = cv2.cvtColor(img, cv2.COLOR_RGBA2RGB)\n",
    "    img = cv2.resize(img, (256, 256))\n",
    "    cv2.imshow(type, img)\n",
    "\n",
    "def predict(image_name):\n",
    "    dir = 'images_test\\input'\n",
    "    img = cv2.imread(os.path.join(dir, image_name), cv2.IMREAD_UNCHANGED)\n",
    "    img = cv2.cvtColor(img, cv2.COLOR_RGBA2RGB)\n",
    "    img = cv2.resize(img, (256, 256))\n",
    "    img = transforms.ToTensor()(img).unsqueeze(0).to(device)\n",
    "\n",
    "    with torch.no_grad():\n",
    "        pred = model(img)\n",
    "        pred = pred.squeeze().cpu().numpy()\n",
    "        print(pred)\n",
    "        # pred = (pred > 0.5).astype(np.uint8)\n",
    "    R, G, B = pred[0], pred[1], pred[2]\n",
    "    # cv2.imshow('R', R)\n",
    "    # cv2.imshow('G', G)\n",
    "    # cv2.imshow('B', B)\n",
    "    pred_image = np.zeros((256, 256, 3), dtype=np.uint8)\n",
    "    pred_image[..., 0] = (R * 255).astype(np.uint8)\n",
    "    pred_image[..., 1] = (G * 255).astype(np.uint8)\n",
    "    pred_image[..., 2] = (B * 255).astype(np.uint8)\n",
    "    print(pred_image)\n",
    "    cv2.imshow('pred', pred_image)\n",
    "    cv2.waitKey(0)\n",
    "   "
   ]
  },
  {
   "cell_type": "code",
   "execution_count": 8,
   "metadata": {},
   "outputs": [
    {
     "name": "stdout",
     "output_type": "stream",
     "text": [
      "images_test\\input\n",
      "images_test\\output\n",
      "[[[0.6962591  0.8756447  0.882192   ... 0.7521747  0.6642449  0.58956575]\n",
      "  [0.83903307 0.9109458  0.9290688  ... 0.74359477 0.76048416 0.6666809 ]\n",
      "  [0.8559474  0.9291461  0.94103044 ... 0.7251262  0.7425367  0.7119111 ]\n",
      "  ...\n",
      "  [0.63436574 0.5917953  0.5986272  ... 0.48382372 0.49626902 0.4878516 ]\n",
      "  [0.6253845  0.6225618  0.5925777  ... 0.52380085 0.5152993  0.5070476 ]\n",
      "  [0.5762267  0.6337912  0.61640495 ... 0.5415436  0.50644314 0.5635753 ]]\n",
      "\n",
      " [[0.73444766 0.8255866  0.87497485 ... 0.7393646  0.63334715 0.57304937]\n",
      "  [0.83904034 0.8842644  0.90508693 ... 0.7421238  0.71939754 0.6591451 ]\n",
      "  [0.8194916  0.8839403  0.92375815 ... 0.7399418  0.7550091  0.729922  ]\n",
      "  ...\n",
      "  [0.6067703  0.60201824 0.61113393 ... 0.47453985 0.46428302 0.4615907 ]\n",
      "  [0.63977015 0.68113375 0.6065186  ... 0.5045319  0.4852583  0.48499098]\n",
      "  [0.57809573 0.68662757 0.5857843  ... 0.51519096 0.48840854 0.53971267]]\n",
      "\n",
      " [[0.70253503 0.8670708  0.88914335 ... 0.7558567  0.6709274  0.5956021 ]\n",
      "  [0.81760854 0.9096503  0.9177017  ... 0.76856816 0.74516857 0.690786  ]\n",
      "  [0.8455886  0.89951414 0.93325883 ... 0.75059825 0.7396121  0.6965458 ]\n",
      "  ...\n",
      "  [0.60648906 0.58194155 0.589998   ... 0.50369364 0.4916843  0.4849106 ]\n",
      "  [0.6347069  0.6393992  0.6221041  ... 0.5173294  0.5087326  0.5168428 ]\n",
      "  [0.5463991  0.65579987 0.6199983  ... 0.5125769  0.54095906 0.5451389 ]]]\n",
      "[[[177 187 179]\n",
      "  [223 210 221]\n",
      "  [224 223 226]\n",
      "  ...\n",
      "  [191 188 192]\n",
      "  [169 161 171]\n",
      "  [150 146 151]]\n",
      "\n",
      " [[213 213 208]\n",
      "  [232 225 231]\n",
      "  [236 230 234]\n",
      "  ...\n",
      "  [189 189 195]\n",
      "  [193 183 190]\n",
      "  [170 168 176]]\n",
      "\n",
      " [[218 208 215]\n",
      "  [236 225 229]\n",
      "  [239 235 237]\n",
      "  ...\n",
      "  [184 188 191]\n",
      "  [189 192 188]\n",
      "  [181 186 177]]\n",
      "\n",
      " ...\n",
      "\n",
      " [[161 154 154]\n",
      "  [150 153 148]\n",
      "  [152 155 150]\n",
      "  ...\n",
      "  [123 121 128]\n",
      "  [126 118 125]\n",
      "  [124 117 123]]\n",
      "\n",
      " [[159 163 161]\n",
      "  [158 173 163]\n",
      "  [151 154 158]\n",
      "  ...\n",
      "  [133 128 131]\n",
      "  [131 123 129]\n",
      "  [129 123 131]]\n",
      "\n",
      " [[146 147 139]\n",
      "  [161 175 167]\n",
      "  [157 149 158]\n",
      "  ...\n",
      "  [138 131 130]\n",
      "  [129 124 137]\n",
      "  [143 137 139]]]\n"
     ]
    }
   ],
   "source": [
    "# image_name = \"13c2ur549vohc0jat2dvu3xs7q1_18.png\"\n",
    "# image_name = \"13c2ur549vohc0jat2wd23me01_25.png\"\n",
    "# image_name = \"131aedfhs6pnf1fvtvp49h4bhdjeabmt22_31.png\"\n",
    "# image_name = \"131aedfhs6pnf1fvtvp49juwu7plj9dv22_40.png\"\n",
    "show_image(\"input\", image_name)\n",
    "show_image(\"output\", image_name)\n",
    "predict(image_name)"
   ]
  },
  {
   "cell_type": "code",
   "execution_count": null,
   "metadata": {},
   "outputs": [],
   "source": []
  },
  {
   "cell_type": "code",
   "execution_count": null,
   "metadata": {},
   "outputs": [],
   "source": []
  },
  {
   "cell_type": "code",
   "execution_count": 41,
   "metadata": {},
   "outputs": [
    {
     "name": "stdout",
     "output_type": "stream",
     "text": [
      "Test Loss: 0.5778\n",
      "Mean Dice Coefficient: 0.6897\n"
     ]
    }
   ],
   "source": [
    "model.load_state_dict(torch.load('small_RGB_model.pth'))\n",
    "\n",
    "def dice_coefficient(y_true, y_pred):\n",
    "    smooth = 1.0\n",
    "    y_true_f = y_true.view(-1)\n",
    "    y_pred_f = y_pred.view(-1)\n",
    "    intersection = (y_true_f * y_pred_f).sum()\n",
    "    return (2. * intersection + smooth) / (y_true_f.sum() + y_pred_f.sum() + smooth)\n",
    "\n",
    "model.eval()\n",
    "test_loss = 0.0\n",
    "dice_scores = []\n",
    "\n",
    "with torch.no_grad():\n",
    "    for images, masks in test_loader:\n",
    "        images = images.to(device)\n",
    "        masks = masks.to(device)\n",
    "\n",
    "        outputs = model(images)\n",
    "        loss = criterion(outputs, masks)\n",
    "        \n",
    "        test_loss += loss.item() * images.size(0)\n",
    "        dice_scores.append(dice_coefficient(masks, outputs))\n",
    "\n",
    "test_loss = test_loss / len(test_loader.dataset)\n",
    "mean_dice = torch.mean(torch.tensor(dice_scores))\n",
    "\n",
    "print(f'Test Loss: {test_loss:.4f}')\n",
    "print(f'Mean Dice Coefficient: {mean_dice:.4f}')\n"
   ]
  },
  {
   "cell_type": "code",
   "execution_count": null,
   "metadata": {},
   "outputs": [],
   "source": []
  },
  {
   "cell_type": "markdown",
   "metadata": {},
   "source": []
  },
  {
   "cell_type": "code",
   "execution_count": null,
   "metadata": {},
   "outputs": [],
   "source": [
    "from skimage import morphology\n",
    "\n",
    "def post_process(prediction):\n",
    "    prediction_np = prediction.cpu().numpy()\n",
    "    processed = morphology.remove_small_objects(prediction_np > 0.5, min_size=100)\n",
    "    processed = morphology.remove_small_holes(processed, area_threshold=100)\n",
    "    return torch.tensor(processed, device=device)\n",
    "\n",
    "post_processed_predictions = [post_process(pred) for pred in outputs]\n"
   ]
  },
  {
   "cell_type": "code",
   "execution_count": null,
   "metadata": {},
   "outputs": [],
   "source": [
    "from flask import Flask, request, jsonify\n",
    "import io\n",
    "\n",
    "app = Flask(__name__)\n",
    "model.load_state_dict(torch.load('model.pth'))\n",
    "model.eval()\n",
    "\n",
    "@app.route('/predict', methods=['POST'])\n",
    "def predict():\n",
    "    file = request.files['image']\n",
    "    img_bytes = file.read()\n",
    "    img = cv2.imdecode(np.frombuffer(img_bytes, np.uint8), cv2.IMREAD_UNCHANGED)\n",
    "    img = cv2.cvtColor(img, cv2.COLOR_BGRA2BGR)\n",
    "    img = cv2.resize(img, (512, 512))\n",
    "    img = transforms.ToTensor()(img).unsqueeze(0).to(device)\n",
    "\n",
    "    with torch.no_grad():\n",
    "        pred = model(img)\n",
    "        pred = pred.squeeze().cpu().numpy()\n",
    "        pred = (pred > 0.5).astype(np.uint8)\n",
    "    \n",
    "    _, buffer = cv2.imencode('.png', pred)\n",
    "    response = io.BytesIO(buffer)\n",
    "    response.seek(0)\n",
    "    return response, 200, {'Content-Type': 'image/png'}\n",
    "\n",
    "if __name__ == '__main__':\n",
    "    app.run()\n"
   ]
  }
 ],
 "metadata": {
  "kernelspec": {
   "display_name": "Python 3",
   "language": "python",
   "name": "python3"
  },
  "language_info": {
   "codemirror_mode": {
    "name": "ipython",
    "version": 3
   },
   "file_extension": ".py",
   "mimetype": "text/x-python",
   "name": "python",
   "nbconvert_exporter": "python",
   "pygments_lexer": "ipython3",
   "version": "3.10.6"
  }
 },
 "nbformat": 4,
 "nbformat_minor": 2
}
