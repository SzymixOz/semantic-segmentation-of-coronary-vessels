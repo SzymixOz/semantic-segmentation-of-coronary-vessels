{
 "cells": [
  {
   "cell_type": "code",
   "execution_count": null,
   "metadata": {},
   "outputs": [],
   "source": [
    "import sys\n",
    "sys.path.append(\"../images_with_proper_colors/\")\n",
    "from utils import *\n",
    "import pandas as pd\n",
    "import numpy as np\n",
    "import matplotlib.pyplot as plt\n",
    "from IPython.display import clear_output\n"
   ]
  },
  {
   "cell_type": "code",
   "execution_count": null,
   "metadata": {},
   "outputs": [],
   "source": [
    "data_folder = \"../images_with_proper_colors/\"\n",
    "data = pd.read_csv(data_folder + \"segmentation_modified.csv\", sep=\";\")"
   ]
  },
  {
   "cell_type": "code",
   "execution_count": null,
   "metadata": {},
   "outputs": [],
   "source": [
    "images, segmentations, filenames, labels = get_data(data, voting=False, images_path=(data_folder + \"images\"))"
   ]
  },
  {
   "cell_type": "code",
   "execution_count": null,
   "metadata": {},
   "outputs": [],
   "source": [
    "def draw_mask_and_image(image,mask):\n",
    "    width, height = 512, 512\n",
    "    plt.figure(figsize=(width / 80, height / 80), dpi=80)\n",
    "\n",
    "    plt.subplot(1, 2, 1)\n",
    "    plt.imshow(mask)\n",
    "    plt.axis('off')\n",
    "\n",
    "    plt.subplot(1, 2, 2)\n",
    "    plt.imshow(image, cmap='gray')\n",
    "    plt.axis('off')\n",
    "\n",
    "    plt.subplots_adjust(top=1, bottom=0, right=1, left=0,\n",
    "                            hspace=0, wspace=0)\n",
    "    plt.margins(0, 0) "
   ]
  },
  {
   "cell_type": "code",
   "execution_count": null,
   "metadata": {},
   "outputs": [],
   "source": [
    "index=-1"
   ]
  },
  {
   "cell_type": "code",
   "execution_count": null,
   "metadata": {},
   "outputs": [],
   "source": [
    "index+=1\n",
    "image = images[index]\n",
    "print(index)\n",
    "print(filenames[index])\n",
    "my_mask = get_mask(images[index], segmentations[index], labels[index], name=filenames[index], folder_name='ground_truth', binary=False, ground_truth=True)\n",
    "draw_mask_and_image(image, my_mask)\n"
   ]
  },
  {
   "cell_type": "code",
   "execution_count": null,
   "metadata": {},
   "outputs": [],
   "source": [
    "with open('broken.txt', 'a') as file:\n",
    "    file.write(filenames[index]+ '\\n')"
   ]
  },
  {
   "cell_type": "code",
   "execution_count": null,
   "metadata": {},
   "outputs": [],
   "source": [
    "with open('filenames.txt', 'a') as file:\n",
    "    file.write(filenames[index]+ '\\n')"
   ]
  },
  {
   "cell_type": "code",
   "execution_count": null,
   "metadata": {},
   "outputs": [],
   "source": [
    "with open('sus.txt', 'a') as file:\n",
    "    file.write(filenames[index]+ '\\n')"
   ]
  }
 ],
 "metadata": {
  "kernelspec": {
   "display_name": "Python 3",
   "language": "python",
   "name": "python3"
  },
  "language_info": {
   "codemirror_mode": {
    "name": "ipython",
    "version": 3
   },
   "file_extension": ".py",
   "mimetype": "text/x-python",
   "name": "python",
   "nbconvert_exporter": "python",
   "pygments_lexer": "ipython3",
   "version": "3.10.11"
  }
 },
 "nbformat": 4,
 "nbformat_minor": 2
}
