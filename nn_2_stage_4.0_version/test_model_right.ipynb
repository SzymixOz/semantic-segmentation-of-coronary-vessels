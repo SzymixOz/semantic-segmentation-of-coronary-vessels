{
 "cells": [
  {
   "cell_type": "code",
   "execution_count": 1,
   "metadata": {},
   "outputs": [],
   "source": [
    "import os\n",
    "import numpy as np\n",
    "import cv2\n",
    "import torch\n",
    "from torch.utils.data import Dataset, DataLoader\n",
    "from torchvision import transforms\n",
    "\n",
    "\n",
    "class CoronarySmallDataset(Dataset):\n",
    "    def __init__(self, image_dir, keypoint_dir, mask_dir, transform=None):\n",
    "        self.image_dir = image_dir\n",
    "        self.keypoint_dir = keypoint_dir\n",
    "        self.mask_dir = mask_dir\n",
    "        self.transform = transform\n",
    "        self.input = os.listdir(image_dir)\n",
    "\n",
    "    def __len__(self):\n",
    "        return len(self.input)\n",
    "\n",
    "    def __getitem__(self, idx):\n",
    "        SIZE = 256\n",
    "        img_path = os.path.join(self.image_dir, self.input[idx])\n",
    "        keypoint_path = os.path.join(self.keypoint_dir, self.input[idx])\n",
    "        mask_path = os.path.join(self.mask_dir, self.input[idx])\n",
    "        \n",
    "\n",
    "        image = cv2.imread(img_path, cv2.IMREAD_UNCHANGED)\n",
    "        image = cv2.resize(image, (SIZE, SIZE), interpolation=cv2.INTER_NEAREST)\n",
    "\n",
    "        keypoint = cv2.imread(keypoint_path, cv2.IMREAD_UNCHANGED)\n",
    "        keypoint = cv2.resize(keypoint, (SIZE, SIZE), interpolation=cv2.INTER_NEAREST)\n",
    "\n",
    "        output = np.stack((image, keypoint), axis=2)\n",
    "\n",
    "        mask = cv2.imread(mask_path, cv2.IMREAD_UNCHANGED)\n",
    "        mask = cv2.resize(mask, (SIZE, SIZE), interpolation=cv2.INTER_NEAREST)\n",
    "        \n",
    "        if self.transform:\n",
    "            output = self.transform(output)\n",
    "            mask = torch.tensor(mask, dtype=torch.long)\n",
    "        \n",
    "        return output, mask\n",
    "\n",
    "\n",
    "transform = transforms.Compose([\n",
    "    transforms.ToTensor()\n",
    "])\n",
    "\n",
    "train_image_dir = '../images/images_right/images_train/input'\n",
    "train_keypoint_dir = '../images/images_right/images_train/keypoints'\n",
    "train_mask_dir = '../images/images_right/images_train/output'\n",
    "val_image_dir = '../images/images_right/images_val/input'\n",
    "val_keypoint_dir = '../images/images_right/images_val/keypoints'\n",
    "val_mask_dir = '../images/images_right/images_val/output'\n",
    "test_image_dir = '../images/images_right/images_test/input'\n",
    "test_keypoint_dir = '../images/images_right/images_test/keypoints'\n",
    "test_mask_dir = '../images/images_right/images_test/output'\n",
    "\n",
    "train_dataset = CoronarySmallDataset(train_image_dir, train_keypoint_dir, train_mask_dir, transform=transform)\n",
    "val_dataset = CoronarySmallDataset(val_image_dir, val_keypoint_dir, val_mask_dir, transform=transform)\n",
    "test_dataset = CoronarySmallDataset(test_image_dir, test_keypoint_dir, test_mask_dir, transform=transform)\n",
    "\n",
    "train_loader = DataLoader(train_dataset, batch_size=6, shuffle=True)\n",
    "val_loader = DataLoader(val_dataset, batch_size=6, shuffle=False)\n",
    "test_loader = DataLoader(test_dataset, batch_size=6, shuffle=False)\n"
   ]
  },
  {
   "cell_type": "code",
   "execution_count": 2,
   "metadata": {},
   "outputs": [
    {
     "name": "stderr",
     "output_type": "stream",
     "text": [
      "C:\\Users\\eozoszy\\AppData\\Local\\Temp\\ipykernel_30564\\3002279116.py:9: FutureWarning: You are using `torch.load` with `weights_only=False` (the current default value), which uses the default pickle module implicitly. It is possible to construct malicious pickle data which will execute arbitrary code during unpickling (See https://github.com/pytorch/pytorch/blob/main/SECURITY.md#untrusted-models for more details). In a future release, the default value for `weights_only` will be flipped to `True`. This limits the functions that could be executed during unpickling. Arbitrary objects will no longer be allowed to be loaded via this mode unless they are explicitly allowlisted by the user via `torch.serialization.add_safe_globals`. We recommend you start setting `weights_only=True` for any use case where you don't have full control of the loaded file. Please open an issue on GitHub for any issues related to this experimental feature.\n",
      "  model.load_state_dict(torch.load('model_kp_right_1.pth', map_location=device))\n"
     ]
    }
   ],
   "source": [
    "from converter_RGB import convert_int_to_RGB\n",
    "from large_RGB_model import UNet\n",
    "\n",
    "\n",
    "device = torch.device('cuda' if torch.cuda.is_available() else 'cpu')\n",
    "model = UNet()\n",
    "model = model.to(device)\n",
    "\n",
    "model.load_state_dict(torch.load('model_kp_right_1.pth', map_location=device))\n",
    "model.eval()\n",
    "\n",
    "def show_image(type, image_name):\n",
    "    dir = f\"..\\images\\images_right\\images_test\\{type}\"\n",
    "    print(dir)\n",
    "    if type == 'output':\n",
    "        img = cv2.imread(os.path.join(dir, image_name), cv2.IMREAD_UNCHANGED)\n",
    "        # img = img[:, :, 2]\n",
    "        print(\"Oryginalnie: \", np.unique(img))\n",
    "        \n",
    "        # print(\"Po resize: NEAREST\\t  \", np.unique(cv2.resize(img, (256, 256), interpolation=cv2.INTER_NEAREST)))\n",
    "        # cv2.imshow('INTER_NEAREST', cv2.resize(convert_int_to_RGB(cv2.resize(img, (256, 256), interpolation=cv2.INTER_NEAREST)), (512, 512)))\n",
    "        # print(\"Po resize: NEAREST_EXACT  \", np.unique(cv2.resize(img, (256, 256), interpolation=cv2.INTER_NEAREST_EXACT)))\n",
    "        # cv2.imshow('INTER_NEAREST_EXACT', cv2.resize(convert_int_to_RGB(cv2.resize(img, (256, 256), interpolation=cv2.INTER_NEAREST_EXACT)), (512, 512)))\n",
    "        \n",
    "        print(\"Po resize:  \", np.unique(cv2.resize(img, (256, 256))))\n",
    "        # print(img)\n",
    "        img = convert_int_to_RGB(img)\n",
    "        img = cv2.cvtColor(img, cv2.COLOR_BGRA2RGB)\n",
    "    else:\n",
    "        img = cv2.imread(os.path.join(dir, image_name), cv2.IMREAD_UNCHANGED)\n",
    "        img = img * 7\n",
    "    # img = cv2.resize(img, (256, 256))\n",
    "    # np.set_printoptions(threshold=np.inf)\n",
    "    cv2.imshow(type, img)\n",
    "\n",
    "def predict(image_name):\n",
    "    dir = '..\\images\\images_right\\images_test\\input'\n",
    "    img = cv2.imread(os.path.join(dir, image_name), cv2.IMREAD_UNCHANGED)\n",
    "    img = cv2.resize(img, (256, 256))\n",
    "    img = transforms.ToTensor()(img).unsqueeze(0).to(device)\n",
    "\n",
    "    with torch.no_grad():\n",
    "        pred = model.predict(img)\n",
    "        pred = pred.squeeze().cpu().numpy()\n",
    "    print(\"Z sieci:    \", np.unique(pred))\n",
    "\n",
    "    pred_image = convert_int_to_RGB(pred)\n",
    "    pred_image = cv2.resize(pred_image, (512, 512))\n",
    "    pred_image = cv2.cvtColor(pred_image, cv2.COLOR_BGR2RGB)\n",
    "    cv2.imshow('pred', pred_image)\n",
    "    cv2.waitKey(0)\n",
    "   "
   ]
  },
  {
   "cell_type": "code",
   "execution_count": 18,
   "metadata": {},
   "outputs": [
    {
     "name": "stdout",
     "output_type": "stream",
     "text": [
      "..\\images\\images_test\\input\n",
      "..\\images\\images_test\\output\n",
      "Oryginalnie:  [ 0  5  6  7  8  9 10 11 13 15 16 17]\n",
      "Po resize:   [ 0  1  2  3  4  5  6  7  8  9 10 11 12 13 14 15 16 17]\n",
      "Z sieci:     [ 0  5  6  7  8  9 13 15 17 18]\n"
     ]
    }
   ],
   "source": [
    "# image_name = \"13c2ur5452xb62wphb959tewknprozmk_16.png\"\n",
    "# image_name = \"131aedfhs6pnf1fvtvp49jwozv2hftsy22_17.png\"\n",
    "# image_name = \"131aedfhs6pnf1fvtvp49jxtehkqvd1322_14.png\"\n",
    "# image_name = \"131aedfhs6pnf1fvtvp49jyn69e2q6lm22_31.png\"\n",
    "# image_name = \"131aedfhs6pnf1fvtvp49jyuzi3sqhl722_19.png\"\n",
    "image_name = \"131aedfhs6pnf1fvtvp498txzzigu9a222_35.png\"\n",
    "\n",
    "show_image(\"input_dicom\", image_name)\n",
    "show_image(\"output\", image_name)\n",
    "predict(image_name)"
   ]
  },
  {
   "cell_type": "code",
   "execution_count": 3,
   "metadata": {},
   "outputs": [],
   "source": [
    "from sklearn.metrics import precision_score, recall_score, f1_score\n",
    "\n",
    "\n",
    "def compute_accuracy(model, data_loader, device):\n",
    "    model.eval()\n",
    "    correct = 0\n",
    "    correct_clear = 0\n",
    "    total = 0\n",
    "    total_clear = 0\n",
    "\n",
    "    with torch.no_grad():\n",
    "        for images, masks in data_loader:\n",
    "            images = images.to(device)\n",
    "            masks = masks.to(device)\n",
    "\n",
    "            preds = model.predict(images)\n",
    "            \n",
    "            correct += (preds == masks).sum().item()\n",
    "            correct_clear += (preds[masks != 0] == masks[masks != 0]).sum().item()\n",
    "            total += masks.numel()\n",
    "            total_clear += masks[masks != 0].numel()\n",
    "\n",
    "    accuracy = correct / total\n",
    "    accuracy_clear = correct_clear / total_clear\n",
    "    return accuracy, accuracy_clear"
   ]
  },
  {
   "cell_type": "code",
   "execution_count": 4,
   "metadata": {},
   "outputs": [],
   "source": [
    "def compute_precision_recall_f1(model, data_loader, device, num_classes=28):\n",
    "    model.eval()\n",
    "    all_preds = []\n",
    "    all_targets = []\n",
    "\n",
    "    with torch.no_grad():\n",
    "        for images, masks in data_loader:\n",
    "            images = images.to(device)\n",
    "            masks = masks.to(device)\n",
    "\n",
    "            preds = model.predict(images)\n",
    "            \n",
    "            all_preds.append(preds.view(-1).cpu().numpy())\n",
    "            all_targets.append(masks.view(-1).cpu().numpy())\n",
    "\n",
    "    all_preds = np.concatenate(all_preds)\n",
    "    all_targets = np.concatenate(all_targets)\n",
    "\n",
    "    TP = np.zeros(num_classes)\n",
    "    FP = np.zeros(num_classes)\n",
    "    FN = np.zeros(num_classes)\n",
    "\n",
    "    for i in range(num_classes):\n",
    "        TP[i] = ((all_preds == i) & (all_targets == i)).sum()\n",
    "        FP[i] = ((all_preds == i) & (all_targets != i)).sum()\n",
    "        FN[i] = ((all_preds != i) & (all_targets == i)).sum()\n",
    "    \n",
    "    TP[0], FP[0], FN[0] = 0, 0, 0\n",
    "    # print(TP, FP, FN)\n",
    "\n",
    "    precision = TP / (TP + FP)\n",
    "    recall = TP / (TP + FN)\n",
    "    f1 = 2 * precision * recall / (precision + recall)\n",
    "    # print(TP.sum(), FP.sum(), FN.sum())\n",
    "\n",
    "    precision_weighted = TP.sum() / (TP.sum() + FP.sum())\n",
    "    recall_weighted = TP.sum() / (TP.sum() + FN.sum())\n",
    "    f1_weighted = 2 * precision_weighted * recall_weighted / (precision_weighted + recall_weighted)\n",
    "\n",
    "    return precision, recall, f1, precision_weighted, recall_weighted, f1_weighted"
   ]
  },
  {
   "cell_type": "code",
   "execution_count": 5,
   "metadata": {},
   "outputs": [
    {
     "name": "stderr",
     "output_type": "stream",
     "text": [
      "C:\\Users\\eozoszy\\AppData\\Local\\Temp\\ipykernel_30564\\2985389138.py:4: FutureWarning: You are using `torch.load` with `weights_only=False` (the current default value), which uses the default pickle module implicitly. It is possible to construct malicious pickle data which will execute arbitrary code during unpickling (See https://github.com/pytorch/pytorch/blob/main/SECURITY.md#untrusted-models for more details). In a future release, the default value for `weights_only` will be flipped to `True`. This limits the functions that could be executed during unpickling. Arbitrary objects will no longer be allowed to be loaded via this mode unless they are explicitly allowlisted by the user via `torch.serialization.add_safe_globals`. We recommend you start setting `weights_only=True` for any use case where you don't have full control of the loaded file. Please open an issue on GitHub for any issues related to this experimental feature.\n",
      "  model.load_state_dict(torch.load('model_kp_right_1.pth', map_location=device))\n"
     ]
    },
    {
     "name": "stdout",
     "output_type": "stream",
     "text": [
      "Train Accuracy: 99.27%\n",
      "Train Accuracy Clear: 80.46%\n",
      "\n",
      "Validation Accuracy: 99.22%\n",
      "Validation Accuracy Clear: 79.36%\n"
     ]
    }
   ],
   "source": [
    "# learning_rate = 2.5, dropout_rate = 0.2\n",
    "device = torch.device('cuda' if torch.cuda.is_available() else 'cpu')\n",
    "model = UNet().to(device)\n",
    "model.load_state_dict(torch.load('model_kp_right_1.pth', map_location=device))\n",
    "\n",
    "train_accuracy = compute_accuracy(model, train_loader, device)\n",
    "val_accuracy = compute_accuracy(model, val_loader, device)\n",
    "\n",
    "print(f'Train Accuracy: {train_accuracy[0] * 100 :.2f}%')\n",
    "print(f'Train Accuracy Clear: {train_accuracy[1] * 100 :.2f}%')\n",
    "print()\n",
    "print(f'Validation Accuracy: {val_accuracy[0] * 100 :.2f}%')\n",
    "print(f'Validation Accuracy Clear: {val_accuracy[1] * 100 :.2f}%')"
   ]
  },
  {
   "cell_type": "code",
   "execution_count": 6,
   "metadata": {},
   "outputs": [
    {
     "name": "stderr",
     "output_type": "stream",
     "text": [
      "C:\\Users\\eozoszy\\AppData\\Local\\Temp\\ipykernel_30564\\1743931264.py:1: FutureWarning: You are using `torch.load` with `weights_only=False` (the current default value), which uses the default pickle module implicitly. It is possible to construct malicious pickle data which will execute arbitrary code during unpickling (See https://github.com/pytorch/pytorch/blob/main/SECURITY.md#untrusted-models for more details). In a future release, the default value for `weights_only` will be flipped to `True`. This limits the functions that could be executed during unpickling. Arbitrary objects will no longer be allowed to be loaded via this mode unless they are explicitly allowlisted by the user via `torch.serialization.add_safe_globals`. We recommend you start setting `weights_only=True` for any use case where you don't have full control of the loaded file. Please open an issue on GitHub for any issues related to this experimental feature.\n",
      "  model.load_state_dict(torch.load('model_kp_right_1.pth', map_location=device))\n"
     ]
    },
    {
     "name": "stdout",
     "output_type": "stream",
     "text": [
      "Class 0: Precision: 0.00%, Recall: 0.00%, F1: 0.00%\n",
      "Class 1: Precision: 82.26%, Recall: 92.16%, F1: 86.93%\n",
      "Class 2: Precision: 74.78%, Recall: 79.10%, F1: 76.88%\n",
      "Class 3: Precision: 79.86%, Recall: 82.19%, F1: 81.01%\n",
      "Class 4: Precision: 84.33%, Recall: 70.24%, F1: 76.64%\n",
      "Class 5: Precision: 0.00%, Recall: 0.00%, F1: 0.00%\n",
      "Class 6: Precision: 0.00%, Recall: 0.00%, F1: 0.00%\n",
      "Class 7: Precision: 0.00%, Recall: 0.00%, F1: 0.00%\n",
      "Class 8: Precision: 0.00%, Recall: 0.00%, F1: 0.00%\n",
      "Class 9: Precision: 0.00%, Recall: 0.00%, F1: 0.00%\n",
      "Class 10: Precision: 0.00%, Recall: 0.00%, F1: 0.00%\n",
      "Class 11: Precision: 0.00%, Recall: 0.00%, F1: 0.00%\n",
      "Class 12: Precision: 0.00%, Recall: 0.00%, F1: 0.00%\n",
      "Class 13: Precision: 0.00%, Recall: 0.00%, F1: 0.00%\n",
      "Class 14: Precision: 0.00%, Recall: 0.00%, F1: 0.00%\n",
      "Class 15: Precision: 0.00%, Recall: 0.00%, F1: 0.00%\n",
      "Class 16: Precision: 0.00%, Recall: 0.00%, F1: 0.00%\n",
      "Class 17: Precision: 0.00%, Recall: 0.00%, F1: 0.00%\n",
      "Class 18: Precision: 0.00%, Recall: 0.00%, F1: 0.00%\n",
      "Class 19: Precision: 0.00%, Recall: 0.00%, F1: 0.00%\n",
      "Class 20: Precision: 0.00%, Recall: 0.00%, F1: 0.00%\n",
      "Class 21: Precision: 0.00%, Recall: 0.00%, F1: 0.00%\n",
      "Class 22: Precision: 73.94%, Recall: 85.14%, F1: 79.15%\n",
      "Class 23: Precision: 0.00%, Recall: 0.00%, F1: 0.00%\n",
      "Class 24: Precision: 0.00%, Recall: 0.00%, F1: 0.00%\n",
      "Class 25: Precision: 0.00%, Recall: 0.00%, F1: 0.00%\n",
      "Class 26: Precision: 0.00%, Recall: 0.00%, F1: 0.00%\n",
      "Class 27: Precision: 0.00%, Recall: 0.00%, F1: 0.00%\n",
      "Average Precision: 14.113%\n",
      "Average Recall: 14.601%\n",
      "Average F1: 14.307%\n",
      "\n",
      "Weighted Precision: 78.829%\n",
      "Weighted Recall: 79.361%\n",
      "Weighted F1: 79.094%\n"
     ]
    },
    {
     "name": "stderr",
     "output_type": "stream",
     "text": [
      "C:\\Users\\eozoszy\\AppData\\Local\\Temp\\ipykernel_30564\\1128418758.py:31: RuntimeWarning: invalid value encountered in divide\n",
      "  precision = TP / (TP + FP)\n",
      "C:\\Users\\eozoszy\\AppData\\Local\\Temp\\ipykernel_30564\\1128418758.py:32: RuntimeWarning: invalid value encountered in divide\n",
      "  recall = TP / (TP + FN)\n",
      "C:\\Users\\eozoszy\\AppData\\Local\\Temp\\ipykernel_30564\\1128418758.py:33: RuntimeWarning: invalid value encountered in divide\n",
      "  f1 = 2 * precision * recall / (precision + recall)\n"
     ]
    }
   ],
   "source": [
    "model.load_state_dict(torch.load('model_kp_right_1.pth', map_location=device))\n",
    "precision, recall, f1, precision_weighted, recall_weighted, f1_weighted = compute_precision_recall_f1(model, val_loader, device)\n",
    "\n",
    "if np.isnan(precision).any():\n",
    "    precision = np.nan_to_num(precision)\n",
    "if np.isnan(recall).any():\n",
    "    recall = np.nan_to_num(recall)\n",
    "if np.isnan(f1).any():\n",
    "    f1 = np.nan_to_num(f1)\n",
    "\n",
    "for i in range(28):\n",
    "    print(f'Class {i}: Precision: {precision[i] * 100:.2f}%, Recall: {recall[i] * 100:.2f}%, F1: {f1[i] * 100:.2f}%')\n",
    "\n",
    "print(f'Average Precision: {np.mean(precision) * 100:.3f}%')\n",
    "print(f'Average Recall: {np.mean(recall) * 100:.3f}%')\n",
    "print(f'Average F1: {np.mean(f1) * 100:.3f}%')\n",
    "print()\n",
    "print(f'Weighted Precision: {precision_weighted * 100:.3f}%')\n",
    "print(f'Weighted Recall: {recall_weighted * 100:.3f}%')\n",
    "print(f'Weighted F1: {f1_weighted * 100:.3f}%')"
   ]
  },
  {
   "cell_type": "code",
   "execution_count": 7,
   "metadata": {},
   "outputs": [
    {
     "name": "stderr",
     "output_type": "stream",
     "text": [
      "C:\\Users\\eozoszy\\AppData\\Local\\Temp\\ipykernel_30564\\2121966654.py:4: FutureWarning: You are using `torch.load` with `weights_only=False` (the current default value), which uses the default pickle module implicitly. It is possible to construct malicious pickle data which will execute arbitrary code during unpickling (See https://github.com/pytorch/pytorch/blob/main/SECURITY.md#untrusted-models for more details). In a future release, the default value for `weights_only` will be flipped to `True`. This limits the functions that could be executed during unpickling. Arbitrary objects will no longer be allowed to be loaded via this mode unless they are explicitly allowlisted by the user via `torch.serialization.add_safe_globals`. We recommend you start setting `weights_only=True` for any use case where you don't have full control of the loaded file. Please open an issue on GitHub for any issues related to this experimental feature.\n",
      "  model.load_state_dict(torch.load('model_kp_right_11.pth', map_location=device))\n"
     ]
    },
    {
     "name": "stdout",
     "output_type": "stream",
     "text": [
      "Train Accuracy: 99.33%\n",
      "Train Accuracy Clear: 82.17%\n",
      "\n",
      "Validation Accuracy: 99.32%\n",
      "Validation Accuracy Clear: 82.00%\n"
     ]
    }
   ],
   "source": [
    "# learning_rate = 2.5, dropout_rate = 0.2   new new\n",
    "device = torch.device('cuda' if torch.cuda.is_available() else 'cpu')\n",
    "model = UNet().to(device)\n",
    "model.load_state_dict(torch.load('model_kp_right_11.pth', map_location=device))\n",
    "\n",
    "train_accuracy = compute_accuracy(model, train_loader, device)\n",
    "val_accuracy = compute_accuracy(model, val_loader, device)\n",
    "\n",
    "print(f'Train Accuracy: {train_accuracy[0] * 100 :.2f}%')\n",
    "print(f'Train Accuracy Clear: {train_accuracy[1] * 100 :.2f}%')\n",
    "print()\n",
    "print(f'Validation Accuracy: {val_accuracy[0] * 100 :.2f}%')\n",
    "print(f'Validation Accuracy Clear: {val_accuracy[1] * 100 :.2f}%')"
   ]
  },
  {
   "cell_type": "code",
   "execution_count": 8,
   "metadata": {},
   "outputs": [
    {
     "name": "stderr",
     "output_type": "stream",
     "text": [
      "C:\\Users\\eozoszy\\AppData\\Local\\Temp\\ipykernel_30564\\1147072118.py:1: FutureWarning: You are using `torch.load` with `weights_only=False` (the current default value), which uses the default pickle module implicitly. It is possible to construct malicious pickle data which will execute arbitrary code during unpickling (See https://github.com/pytorch/pytorch/blob/main/SECURITY.md#untrusted-models for more details). In a future release, the default value for `weights_only` will be flipped to `True`. This limits the functions that could be executed during unpickling. Arbitrary objects will no longer be allowed to be loaded via this mode unless they are explicitly allowlisted by the user via `torch.serialization.add_safe_globals`. We recommend you start setting `weights_only=True` for any use case where you don't have full control of the loaded file. Please open an issue on GitHub for any issues related to this experimental feature.\n",
      "  model.load_state_dict(torch.load('model_kp_right_11.pth', map_location=device))\n"
     ]
    },
    {
     "name": "stdout",
     "output_type": "stream",
     "text": [
      "Class 0: Precision: 0.00%, Recall: 0.00%, F1: 0.00%\n",
      "Class 1: Precision: 85.99%, Recall: 89.97%, F1: 87.94%\n",
      "Class 2: Precision: 77.46%, Recall: 81.60%, F1: 79.48%\n",
      "Class 3: Precision: 86.39%, Recall: 82.81%, F1: 84.56%\n",
      "Class 4: Precision: 78.48%, Recall: 87.44%, F1: 82.72%\n",
      "Class 5: Precision: 0.00%, Recall: 0.00%, F1: 0.00%\n",
      "Class 6: Precision: 0.00%, Recall: 0.00%, F1: 0.00%\n",
      "Class 7: Precision: 0.00%, Recall: 0.00%, F1: 0.00%\n",
      "Class 8: Precision: 0.00%, Recall: 0.00%, F1: 0.00%\n",
      "Class 9: Precision: 0.00%, Recall: 0.00%, F1: 0.00%\n",
      "Class 10: Precision: 0.00%, Recall: 0.00%, F1: 0.00%\n",
      "Class 11: Precision: 0.00%, Recall: 0.00%, F1: 0.00%\n",
      "Class 12: Precision: 0.00%, Recall: 0.00%, F1: 0.00%\n",
      "Class 13: Precision: 0.00%, Recall: 0.00%, F1: 0.00%\n",
      "Class 14: Precision: 0.00%, Recall: 0.00%, F1: 0.00%\n",
      "Class 15: Precision: 0.00%, Recall: 0.00%, F1: 0.00%\n",
      "Class 16: Precision: 0.00%, Recall: 0.00%, F1: 0.00%\n",
      "Class 17: Precision: 0.00%, Recall: 0.00%, F1: 0.00%\n",
      "Class 18: Precision: 0.00%, Recall: 0.00%, F1: 0.00%\n",
      "Class 19: Precision: 0.00%, Recall: 0.00%, F1: 0.00%\n",
      "Class 20: Precision: 0.00%, Recall: 0.00%, F1: 0.00%\n",
      "Class 21: Precision: 0.00%, Recall: 0.00%, F1: 0.00%\n",
      "Class 22: Precision: 78.37%, Recall: 81.36%, F1: 79.83%\n",
      "Class 23: Precision: 34.62%, Recall: 1.45%, F1: 2.78%\n",
      "Class 24: Precision: 0.00%, Recall: 0.00%, F1: 0.00%\n",
      "Class 25: Precision: 0.00%, Recall: 0.00%, F1: 0.00%\n",
      "Class 26: Precision: 0.00%, Recall: 0.00%, F1: 0.00%\n",
      "Class 27: Precision: 0.00%, Recall: 0.00%, F1: 0.00%\n",
      "Average Precision: 15.761%\n",
      "Average Recall: 15.166%\n",
      "Average F1: 14.904%\n",
      "\n",
      "Weighted Precision: 81.452%\n",
      "Weighted Recall: 81.995%\n",
      "Weighted F1: 81.723%\n"
     ]
    },
    {
     "name": "stderr",
     "output_type": "stream",
     "text": [
      "C:\\Users\\eozoszy\\AppData\\Local\\Temp\\ipykernel_30564\\1128418758.py:31: RuntimeWarning: invalid value encountered in divide\n",
      "  precision = TP / (TP + FP)\n",
      "C:\\Users\\eozoszy\\AppData\\Local\\Temp\\ipykernel_30564\\1128418758.py:32: RuntimeWarning: invalid value encountered in divide\n",
      "  recall = TP / (TP + FN)\n"
     ]
    }
   ],
   "source": [
    "model.load_state_dict(torch.load('model_kp_right_11.pth', map_location=device))\n",
    "precision, recall, f1, precision_weighted, recall_weighted, f1_weighted = compute_precision_recall_f1(model, val_loader, device)\n",
    "\n",
    "if np.isnan(precision).any():\n",
    "    precision = np.nan_to_num(precision)\n",
    "if np.isnan(recall).any():\n",
    "    recall = np.nan_to_num(recall)\n",
    "if np.isnan(f1).any():\n",
    "    f1 = np.nan_to_num(f1)\n",
    "\n",
    "for i in range(28):\n",
    "    print(f'Class {i}: Precision: {precision[i] * 100:.2f}%, Recall: {recall[i] * 100:.2f}%, F1: {f1[i] * 100:.2f}%')\n",
    "\n",
    "print(f'Average Precision: {np.mean(precision) * 100:.3f}%')\n",
    "print(f'Average Recall: {np.mean(recall) * 100:.3f}%')\n",
    "print(f'Average F1: {np.mean(f1) * 100:.3f}%')\n",
    "print()\n",
    "print(f'Weighted Precision: {precision_weighted * 100:.3f}%')\n",
    "print(f'Weighted Recall: {recall_weighted * 100:.3f}%')\n",
    "print(f'Weighted F1: {f1_weighted * 100:.3f}%')"
   ]
  },
  {
   "cell_type": "code",
   "execution_count": null,
   "metadata": {},
   "outputs": [],
   "source": []
  }
 ],
 "metadata": {
  "kernelspec": {
   "display_name": "Python 3",
   "language": "python",
   "name": "python3"
  },
  "language_info": {
   "codemirror_mode": {
    "name": "ipython",
    "version": 3
   },
   "file_extension": ".py",
   "mimetype": "text/x-python",
   "name": "python",
   "nbconvert_exporter": "python",
   "pygments_lexer": "ipython3",
   "version": "3.11.9"
  }
 },
 "nbformat": 4,
 "nbformat_minor": 2
}
