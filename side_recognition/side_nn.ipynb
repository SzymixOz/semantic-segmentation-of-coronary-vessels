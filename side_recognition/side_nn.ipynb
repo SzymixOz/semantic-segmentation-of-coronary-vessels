{
 "cells": [
  {
   "cell_type": "code",
   "id": "initial_id",
   "metadata": {
    "collapsed": true,
    "ExecuteTime": {
     "end_time": "2024-08-01T22:22:47.390408Z",
     "start_time": "2024-08-01T22:22:38.620820Z"
    }
   },
   "source": [
    "import torchvision\n",
    "import torch.nn as nn\n",
    "import torch\n",
    "import torchvision.transforms as transforms\n",
    "from PIL import Image\n",
    "import matplotlib.pyplot as plt\n",
    "import numpy as np"
   ],
   "outputs": [],
   "execution_count": 1
  },
  {
   "metadata": {
    "ExecuteTime": {
     "end_time": "2024-08-01T22:22:47.452380Z",
     "start_time": "2024-08-01T22:22:47.391412Z"
    }
   },
   "cell_type": "code",
   "source": [
    "if torch.cuda.is_available():\n",
    "    device = torch.device(\"cuda:0\")\n",
    "elif torch.backends.mps.is_available():\n",
    "    device = torch.device(\"mps\")\n",
    "\n",
    "print(device)"
   ],
   "id": "9679090d4c35e239",
   "outputs": [
    {
     "name": "stdout",
     "output_type": "stream",
     "text": [
      "cuda:0\n"
     ]
    }
   ],
   "execution_count": 2
  },
  {
   "cell_type": "code",
   "source": [
    "print(torch.cuda.get_device_name())\n",
    "print(torch.__version__)\n",
    "print(torch.version.cuda)\n",
    "x = torch.randn(1).cuda()\n",
    "print(x)"
   ],
   "metadata": {
    "collapsed": false,
    "ExecuteTime": {
     "end_time": "2024-08-01T22:22:51.959823Z",
     "start_time": "2024-08-01T22:22:51.432631Z"
    }
   },
   "id": "c08f7a118573dd9f",
   "outputs": [
    {
     "name": "stdout",
     "output_type": "stream",
     "text": [
      "NVIDIA GeForce RTX 3050 Ti Laptop GPU\n",
      "2.4.0+cu124\n",
      "12.4\n",
      "tensor([-1.0686], device='cuda:0')\n"
     ]
    }
   ],
   "execution_count": 3
  },
  {
   "cell_type": "code",
   "source": [
    "torch.manual_seed(17)\n",
    "\n",
    "normalize = transforms.Normalize(\n",
    "    mean=[0.485, 0.456, 0.406],\n",
    "    std=[0.229, 0.224, 0.225]\n",
    ")\n",
    "\n",
    "train_augs = torchvision.transforms.Compose(\n",
    "    [\n",
    "        torchvision.transforms.RandomResizedCrop(size=(224, 224), scale=(0.9, 1.0), ratio=(8/9, 9/8)),\n",
    "        # torchvision.transforms.Resize(256),\n",
    "        # torchvision.transforms.CenterCrop(224),\n",
    "        # torchvision.transforms.RandomHorizontalFlip(),\n",
    "        torchvision.transforms.ToTensor(),\n",
    "        # normalize,\n",
    "    ]\n",
    ")\n",
    "\n",
    "val_augs = torchvision.transforms.Compose(\n",
    "    [\n",
    "        torchvision.transforms.Resize(256),\n",
    "        # torchvision.transforms.CenterCrop(224),\n",
    "        torchvision.transforms.ToTensor(),\n",
    "        # normalize,\n",
    "    ]\n",
    ")"
   ],
   "metadata": {
    "collapsed": false,
    "ExecuteTime": {
     "end_time": "2024-08-01T22:29:12.092005Z",
     "start_time": "2024-08-01T22:29:12.079559Z"
    }
   },
   "id": "9c5b993c610c902a",
   "outputs": [],
   "execution_count": 18
  },
  {
   "cell_type": "code",
   "source": "pretrained_net = torchvision.models.resnet18(weights=torchvision.models.ResNet18_Weights.IMAGENET1K_V1)",
   "metadata": {
    "collapsed": false,
    "ExecuteTime": {
     "end_time": "2024-08-01T22:29:13.522534Z",
     "start_time": "2024-08-01T22:29:12.877919Z"
    }
   },
   "id": "6e864d549aeff004",
   "outputs": [],
   "execution_count": 19
  },
  {
   "cell_type": "code",
   "source": [
    "pretrained_net"
   ],
   "metadata": {
    "collapsed": false,
    "ExecuteTime": {
     "end_time": "2024-08-01T22:29:13.543222Z",
     "start_time": "2024-08-01T22:29:13.528059Z"
    }
   },
   "id": "e1cac21f38950746",
   "outputs": [
    {
     "data": {
      "text/plain": [
       "ResNet(\n",
       "  (conv1): Conv2d(3, 64, kernel_size=(7, 7), stride=(2, 2), padding=(3, 3), bias=False)\n",
       "  (bn1): BatchNorm2d(64, eps=1e-05, momentum=0.1, affine=True, track_running_stats=True)\n",
       "  (relu): ReLU(inplace=True)\n",
       "  (maxpool): MaxPool2d(kernel_size=3, stride=2, padding=1, dilation=1, ceil_mode=False)\n",
       "  (layer1): Sequential(\n",
       "    (0): BasicBlock(\n",
       "      (conv1): Conv2d(64, 64, kernel_size=(3, 3), stride=(1, 1), padding=(1, 1), bias=False)\n",
       "      (bn1): BatchNorm2d(64, eps=1e-05, momentum=0.1, affine=True, track_running_stats=True)\n",
       "      (relu): ReLU(inplace=True)\n",
       "      (conv2): Conv2d(64, 64, kernel_size=(3, 3), stride=(1, 1), padding=(1, 1), bias=False)\n",
       "      (bn2): BatchNorm2d(64, eps=1e-05, momentum=0.1, affine=True, track_running_stats=True)\n",
       "    )\n",
       "    (1): BasicBlock(\n",
       "      (conv1): Conv2d(64, 64, kernel_size=(3, 3), stride=(1, 1), padding=(1, 1), bias=False)\n",
       "      (bn1): BatchNorm2d(64, eps=1e-05, momentum=0.1, affine=True, track_running_stats=True)\n",
       "      (relu): ReLU(inplace=True)\n",
       "      (conv2): Conv2d(64, 64, kernel_size=(3, 3), stride=(1, 1), padding=(1, 1), bias=False)\n",
       "      (bn2): BatchNorm2d(64, eps=1e-05, momentum=0.1, affine=True, track_running_stats=True)\n",
       "    )\n",
       "  )\n",
       "  (layer2): Sequential(\n",
       "    (0): BasicBlock(\n",
       "      (conv1): Conv2d(64, 128, kernel_size=(3, 3), stride=(2, 2), padding=(1, 1), bias=False)\n",
       "      (bn1): BatchNorm2d(128, eps=1e-05, momentum=0.1, affine=True, track_running_stats=True)\n",
       "      (relu): ReLU(inplace=True)\n",
       "      (conv2): Conv2d(128, 128, kernel_size=(3, 3), stride=(1, 1), padding=(1, 1), bias=False)\n",
       "      (bn2): BatchNorm2d(128, eps=1e-05, momentum=0.1, affine=True, track_running_stats=True)\n",
       "      (downsample): Sequential(\n",
       "        (0): Conv2d(64, 128, kernel_size=(1, 1), stride=(2, 2), bias=False)\n",
       "        (1): BatchNorm2d(128, eps=1e-05, momentum=0.1, affine=True, track_running_stats=True)\n",
       "      )\n",
       "    )\n",
       "    (1): BasicBlock(\n",
       "      (conv1): Conv2d(128, 128, kernel_size=(3, 3), stride=(1, 1), padding=(1, 1), bias=False)\n",
       "      (bn1): BatchNorm2d(128, eps=1e-05, momentum=0.1, affine=True, track_running_stats=True)\n",
       "      (relu): ReLU(inplace=True)\n",
       "      (conv2): Conv2d(128, 128, kernel_size=(3, 3), stride=(1, 1), padding=(1, 1), bias=False)\n",
       "      (bn2): BatchNorm2d(128, eps=1e-05, momentum=0.1, affine=True, track_running_stats=True)\n",
       "    )\n",
       "  )\n",
       "  (layer3): Sequential(\n",
       "    (0): BasicBlock(\n",
       "      (conv1): Conv2d(128, 256, kernel_size=(3, 3), stride=(2, 2), padding=(1, 1), bias=False)\n",
       "      (bn1): BatchNorm2d(256, eps=1e-05, momentum=0.1, affine=True, track_running_stats=True)\n",
       "      (relu): ReLU(inplace=True)\n",
       "      (conv2): Conv2d(256, 256, kernel_size=(3, 3), stride=(1, 1), padding=(1, 1), bias=False)\n",
       "      (bn2): BatchNorm2d(256, eps=1e-05, momentum=0.1, affine=True, track_running_stats=True)\n",
       "      (downsample): Sequential(\n",
       "        (0): Conv2d(128, 256, kernel_size=(1, 1), stride=(2, 2), bias=False)\n",
       "        (1): BatchNorm2d(256, eps=1e-05, momentum=0.1, affine=True, track_running_stats=True)\n",
       "      )\n",
       "    )\n",
       "    (1): BasicBlock(\n",
       "      (conv1): Conv2d(256, 256, kernel_size=(3, 3), stride=(1, 1), padding=(1, 1), bias=False)\n",
       "      (bn1): BatchNorm2d(256, eps=1e-05, momentum=0.1, affine=True, track_running_stats=True)\n",
       "      (relu): ReLU(inplace=True)\n",
       "      (conv2): Conv2d(256, 256, kernel_size=(3, 3), stride=(1, 1), padding=(1, 1), bias=False)\n",
       "      (bn2): BatchNorm2d(256, eps=1e-05, momentum=0.1, affine=True, track_running_stats=True)\n",
       "    )\n",
       "  )\n",
       "  (layer4): Sequential(\n",
       "    (0): BasicBlock(\n",
       "      (conv1): Conv2d(256, 512, kernel_size=(3, 3), stride=(2, 2), padding=(1, 1), bias=False)\n",
       "      (bn1): BatchNorm2d(512, eps=1e-05, momentum=0.1, affine=True, track_running_stats=True)\n",
       "      (relu): ReLU(inplace=True)\n",
       "      (conv2): Conv2d(512, 512, kernel_size=(3, 3), stride=(1, 1), padding=(1, 1), bias=False)\n",
       "      (bn2): BatchNorm2d(512, eps=1e-05, momentum=0.1, affine=True, track_running_stats=True)\n",
       "      (downsample): Sequential(\n",
       "        (0): Conv2d(256, 512, kernel_size=(1, 1), stride=(2, 2), bias=False)\n",
       "        (1): BatchNorm2d(512, eps=1e-05, momentum=0.1, affine=True, track_running_stats=True)\n",
       "      )\n",
       "    )\n",
       "    (1): BasicBlock(\n",
       "      (conv1): Conv2d(512, 512, kernel_size=(3, 3), stride=(1, 1), padding=(1, 1), bias=False)\n",
       "      (bn1): BatchNorm2d(512, eps=1e-05, momentum=0.1, affine=True, track_running_stats=True)\n",
       "      (relu): ReLU(inplace=True)\n",
       "      (conv2): Conv2d(512, 512, kernel_size=(3, 3), stride=(1, 1), padding=(1, 1), bias=False)\n",
       "      (bn2): BatchNorm2d(512, eps=1e-05, momentum=0.1, affine=True, track_running_stats=True)\n",
       "    )\n",
       "  )\n",
       "  (avgpool): AdaptiveAvgPool2d(output_size=(1, 1))\n",
       "  (fc): Linear(in_features=512, out_features=1000, bias=True)\n",
       ")"
      ]
     },
     "execution_count": 20,
     "metadata": {},
     "output_type": "execute_result"
    }
   ],
   "execution_count": 20
  },
  {
   "cell_type": "code",
   "source": [
    "finetuned_net = nn.Sequential(\n",
    "    pretrained_net,\n",
    "    nn.ReLU(),\n",
    "    nn.Linear(1000, 2),\n",
    ")"
   ],
   "metadata": {
    "collapsed": false,
    "ExecuteTime": {
     "end_time": "2024-08-01T22:29:13.553313Z",
     "start_time": "2024-08-01T22:29:13.546243Z"
    }
   },
   "id": "e279a0fc3f294320",
   "outputs": [],
   "execution_count": 21
  },
  {
   "cell_type": "code",
   "source": [
    "import time\n",
    "import copy\n",
    "\n",
    "train_losses = []\n",
    "val_losses = []\n",
    "\n",
    "def train_model(\n",
    "    model, dataloaders, criterion, optimizer, num_epochs=25\n",
    "):\n",
    "    since = time.time()\n",
    "    val_acc_history = []\n",
    "\n",
    "    best_model_wts = copy.deepcopy(model.state_dict())\n",
    "    best_acc = 0.0\n",
    "\n",
    "    for epoch in range(1, num_epochs + 1):\n",
    "        print(\"Epoch {}/{}\".format(epoch, num_epochs))\n",
    "        print(\"-\" * 10)\n",
    "\n",
    "        # Each epoch has a training and validation phase\n",
    "        for phase in [\"train\", \"val\"]:\n",
    "            if phase == \"train\":\n",
    "                model.train()  # Set model to training mode\n",
    "            else:\n",
    "                model.eval()  # Set model to evaluate mode\n",
    "\n",
    "            running_loss = 0.0\n",
    "            running_corrects = 0\n",
    "\n",
    "            # Iterate over data.\n",
    "            for inputs, labels in dataloaders[phase]:\n",
    "                inputs = inputs.to(device)\n",
    "                labels = labels.to(device)\n",
    "\n",
    "                # zero the parameter gradients\n",
    "                optimizer.zero_grad()\n",
    "\n",
    "                # forward\n",
    "                # track history if only in train\n",
    "                with torch.set_grad_enabled(phase == \"train\"):\n",
    "                    # Get model outputs and calculate loss\n",
    "\n",
    "                    outputs = model(inputs)\n",
    "                    loss = criterion(outputs, labels)\n",
    "                    _, preds = torch.max(outputs, 1)\n",
    "\n",
    "                    # backward + optimize only if in training phase\n",
    "                    if phase == \"train\":\n",
    "                        loss.backward()\n",
    "                        optimizer.step()\n",
    "\n",
    "                # statistics\n",
    "                running_loss += loss.item() * inputs.size(0)\n",
    "                running_corrects += torch.sum(preds == labels.data)\n",
    "\n",
    "            epoch_loss = running_loss / len(dataloaders[phase].dataset)\n",
    "            epoch_acc = running_corrects.float() / len(dataloaders[phase].dataset)\n",
    "\n",
    "\n",
    "            print(\"{} Loss: {:.4f} Acc: {:.4f}\".format(phase, epoch_loss, epoch_acc))\n",
    "\n",
    "            if phase == \"train\":\n",
    "                train_losses.append(epoch_loss)\n",
    "            else:\n",
    "                val_losses.append(epoch_loss)\n",
    "\n",
    "            # deep copy the model\n",
    "            if phase == \"val\" and epoch_acc > best_acc:\n",
    "                best_acc = epoch_acc\n",
    "                best_model_wts = copy.deepcopy(model.state_dict())\n",
    "                torch.save(model.state_dict(), 'side_recognition_model.pth')\n",
    "            if phase == \"val\":\n",
    "                val_acc_history.append(epoch_acc)\n",
    "\n",
    "\n",
    "    time_elapsed = time.time() - since\n",
    "    print(\n",
    "        \"Training complete in {:.0f}m {:.0f}s\".format(\n",
    "            time_elapsed // 60, time_elapsed % 60\n",
    "        )\n",
    "    )\n",
    "    print(\"Best val Acc: {:4f}\".format(best_acc))\n",
    "\n",
    "    model.load_state_dict(best_model_wts)\n",
    "    return model, val_acc_history"
   ],
   "metadata": {
    "collapsed": false,
    "ExecuteTime": {
     "end_time": "2024-08-01T22:29:14.640932Z",
     "start_time": "2024-08-01T22:29:14.630173Z"
    }
   },
   "id": "458e6bad16b5c5b1",
   "outputs": [],
   "execution_count": 22
  },
  {
   "cell_type": "code",
   "source": [
    "import os\n",
    "\n",
    "data_dir = \"images_by_side\"\n",
    "batch_size = 24\n",
    "\n",
    "model_ft = finetuned_net.to(device)\n",
    "train_iter = torch.utils.data.DataLoader(\n",
    "    torchvision.datasets.ImageFolder(\n",
    "        os.path.join(data_dir, \"train\"), transform=train_augs\n",
    "    ),\n",
    "    batch_size=batch_size,\n",
    "    shuffle=True,\n",
    ")\n",
    "val_iter = torch.utils.data.DataLoader(\n",
    "    torchvision.datasets.ImageFolder(\n",
    "        os.path.join(data_dir, \"val\"), transform=val_augs\n",
    "    ),\n",
    "    shuffle=True,\n",
    "    batch_size=batch_size,\n",
    ")\n",
    "loss = nn.CrossEntropyLoss(reduction=\"none\")"
   ],
   "metadata": {
    "collapsed": false,
    "ExecuteTime": {
     "end_time": "2024-08-01T22:29:15.058521Z",
     "start_time": "2024-08-01T22:29:14.940942Z"
    }
   },
   "id": "4f3271042da8bfe5",
   "outputs": [],
   "execution_count": 23
  },
  {
   "cell_type": "code",
   "source": [
    "def train_fine_tuning(net, learning_rate, num_epochs=15):\n",
    "\n",
    "    trainer = torch.optim.SGD([{\"params\": finetuned_net[2].parameters(), \"lr\": learning_rate * 10}], lr=learning_rate)\n",
    "\n",
    "    dataloaders_dict = {\"train\": train_iter, \"val\": val_iter}\n",
    "    criterion = nn.CrossEntropyLoss()\n",
    "    model_ft, hist = train_model(\n",
    "        net, dataloaders_dict, criterion, trainer, num_epochs=num_epochs\n",
    "    )\n",
    "    return model_ft, hist\n"
   ],
   "metadata": {
    "collapsed": false,
    "ExecuteTime": {
     "end_time": "2024-08-01T22:29:15.743364Z",
     "start_time": "2024-08-01T22:29:15.736490Z"
    }
   },
   "id": "82f084d7d4b2ee63",
   "outputs": [],
   "execution_count": 24
  },
  {
   "cell_type": "code",
   "source": "model_ft, hist = train_fine_tuning(model_ft, learning_rate=5e-3)",
   "metadata": {
    "collapsed": false,
    "ExecuteTime": {
     "end_time": "2024-08-01T22:30:37.076Z",
     "start_time": "2024-08-01T22:29:15.997746Z"
    }
   },
   "id": "8a8629b84e45732f",
   "outputs": [
    {
     "name": "stdout",
     "output_type": "stream",
     "text": [
      "Epoch 1/15\n",
      "----------\n",
      "train Loss: 1.1231 Acc: 0.8192\n",
      "val Loss: 6.5193 Acc: 0.3684\n",
      "Epoch 2/15\n",
      "----------\n",
      "train Loss: 0.2369 Acc: 0.9391\n",
      "val Loss: 1.3558 Acc: 0.5789\n",
      "Epoch 3/15\n",
      "----------\n",
      "train Loss: 0.5978 Acc: 0.8819\n",
      "val Loss: 0.3325 Acc: 0.8947\n",
      "Epoch 4/15\n",
      "----------\n",
      "train Loss: 0.1659 Acc: 0.9576\n",
      "val Loss: 0.7398 Acc: 0.8421\n",
      "Epoch 5/15\n",
      "----------\n",
      "train Loss: 0.0961 Acc: 0.9760\n",
      "val Loss: 0.0462 Acc: 0.9825\n",
      "Epoch 6/15\n",
      "----------\n",
      "train Loss: 0.0433 Acc: 0.9871\n",
      "val Loss: 0.0630 Acc: 0.9825\n",
      "Epoch 7/15\n",
      "----------\n",
      "train Loss: 0.0680 Acc: 0.9760\n",
      "val Loss: 0.0724 Acc: 0.9825\n",
      "Epoch 8/15\n",
      "----------\n",
      "train Loss: 0.1375 Acc: 0.9686\n",
      "val Loss: 0.0662 Acc: 0.9737\n",
      "Epoch 9/15\n",
      "----------\n",
      "train Loss: 0.0950 Acc: 0.9686\n",
      "val Loss: 0.0979 Acc: 0.9825\n",
      "Epoch 10/15\n",
      "----------\n",
      "train Loss: 0.1956 Acc: 0.9483\n",
      "val Loss: 0.1705 Acc: 0.9737\n",
      "Epoch 11/15\n",
      "----------\n",
      "train Loss: 0.0487 Acc: 0.9871\n",
      "val Loss: 0.0665 Acc: 0.9737\n",
      "Epoch 12/15\n",
      "----------\n",
      "train Loss: 0.0493 Acc: 0.9815\n",
      "val Loss: 0.0653 Acc: 0.9737\n",
      "Epoch 13/15\n",
      "----------\n",
      "train Loss: 0.0473 Acc: 0.9815\n",
      "val Loss: 0.2025 Acc: 0.9474\n",
      "Epoch 14/15\n",
      "----------\n",
      "train Loss: 0.1138 Acc: 0.9779\n",
      "val Loss: 0.0633 Acc: 0.9825\n",
      "Epoch 15/15\n",
      "----------\n",
      "train Loss: 0.0795 Acc: 0.9742\n",
      "val Loss: 0.1132 Acc: 0.9737\n",
      "Training complete in 1m 21s\n",
      "Best val Acc: 0.982456\n"
     ]
    }
   ],
   "execution_count": 25
  },
  {
   "cell_type": "code",
   "source": [
    "starting_epoch = 1\n",
    "y = list(range(starting_epoch, len(train_losses)))\n",
    "plt.figure(figsize=(10, 5))\n",
    "plt.plot(y, train_losses[starting_epoch:], label='Train Loss')\n",
    "plt.scatter(y, train_losses[starting_epoch:])\n",
    "plt.plot(y, val_losses[starting_epoch:], label='Validation Loss')\n",
    "plt.scatter(y, val_losses[starting_epoch:])\n",
    "plt.xlabel('Epoch')\n",
    "plt.ylabel('Loss')\n",
    "plt.legend()\n",
    "plt.title('Training and Validation Loss')\n",
    "plt.savefig('loss.png')"
   ],
   "metadata": {
    "collapsed": false,
    "ExecuteTime": {
     "end_time": "2024-08-01T22:32:13.786874Z",
     "start_time": "2024-08-01T22:32:13.680759Z"
    }
   },
   "id": "e1bdf5ad7ad026c2",
   "outputs": [
    {
     "data": {
      "text/plain": [
       "<Figure size 1000x500 with 1 Axes>"
      ],
      "image/png": "[encoded data removed]"
     },
     "metadata": {},
     "output_type": "display_data"
    }
   ],
   "execution_count": 29
  },
  {
   "cell_type": "code",
   "source": [
    "\n",
    "def imshow(inp, title=None):\n",
    "    \"\"\"Display image for Tensor.\"\"\"\n",
    "    inp = inp.numpy().transpose((1, 2, 0))\n",
    "    # mean = np.array([0.485, 0.456, 0.406])\n",
    "    # std = np.array([0.229, 0.224, 0.225])\n",
    "    # inp = std * inp + mean\n",
    "    # inp = np.clip(inp, 0, 1)\n",
    "    plt.imshow(inp)\n",
    "    if title is not None:\n",
    "        plt.title(title)\n",
    "    plt.pause(0.001)  # pause a bit so that plots are updated"
   ],
   "metadata": {
    "collapsed": false,
    "ExecuteTime": {
     "end_time": "2024-08-01T22:24:28.134579Z",
     "start_time": "2024-08-01T22:24:28.130632Z"
    }
   },
   "id": "9dbcc65484f494e2",
   "outputs": [],
   "execution_count": 13
  },
  {
   "cell_type": "code",
   "source": [
    "def predict_image(image_path, model, transform):\n",
    "    image = Image.open(image_path).convert('RGB')\n",
    "    image = transform(image).unsqueeze(0)\n",
    "    image = image.to(device)\n",
    "    model.eval()\n",
    "\n",
    "    with torch.no_grad():\n",
    "        output = model(image)\n",
    "\n",
    "    _, predicted = torch.max(output, 1)\n",
    "\n",
    "    return predicted.item(), image.cpu().squeeze()\n",
    "\n",
    "def visualize_prediction(image_path, model, transform, class_names):\n",
    "    predicted_class, image_tensor = predict_image(image_path, model, transform)\n",
    "    # plt.figure(figsize=(6, 6))\n",
    "    # imshow(image_tensor, title=f'Predicted: {class_names[predicted_class]}')\n",
    "    # plt.show()\n",
    "    return class_names[predicted_class]\n",
    "\n",
    "def visualize_predictionWithImage(image_path, model, transform, class_names):\n",
    "    predicted_class, image_tensor = predict_image(image_path, model, transform)\n",
    "    plt.figure(figsize=(6, 6))\n",
    "    imshow(image_tensor, title=f'Predicted: {class_names[predicted_class]}')\n",
    "    plt.show()\n",
    "    return class_names[predicted_class]\n",
    "\n",
    "image_path = 'images_by_side/train/right/13c2ur549vohc0jat2dvu3xrxb1_27.png'\n",
    "\n",
    "class_names = [\"left\", \"right\"]\n",
    "\n"
   ],
   "metadata": {
    "collapsed": false,
    "ExecuteTime": {
     "end_time": "2024-08-01T22:24:34.662698Z",
     "start_time": "2024-08-01T22:24:34.656970Z"
    }
   },
   "id": "49abe722653736a7",
   "outputs": [],
   "execution_count": 14
  },
  {
   "cell_type": "code",
   "source": [
    "import os\n",
    "# model_from_file = finetuned_net.to(device)\n",
    "# model_from_file.load_state_dict(torch.load('side_recognition_model.pth'))\n",
    "\n",
    "directory_path = 'images_by_side/test/right'\n",
    "\n",
    "file_names = os.listdir(directory_path)\n",
    "file_names = [f for f in file_names if os.path.isfile(os.path.join(directory_path, f))]\n",
    "\n",
    "class_names = [\"left\", \"right\"]\n",
    "\n",
    "for file_name in file_names:\n",
    "    image_path = os.path.join(directory_path, file_name)\n",
    "    predicted_class = visualize_prediction(image_path, model_ft, val_augs, class_names)\n",
    "    if predicted_class == \"left\":\n",
    "        print(file_name)\n",
    "        visualize_predictionWithImage(image_path, model_ft, val_augs, class_names)\n"
   ],
   "metadata": {
    "collapsed": false,
    "ExecuteTime": {
     "end_time": "2024-08-01T22:31:16.890264Z",
     "start_time": "2024-08-01T22:31:16.047714Z"
    }
   },
   "id": "c94b2736f68e158f",
   "outputs": [
    {
     "name": "stdout",
     "output_type": "stream",
     "text": [
      "13c2ur549vohc0jat2wqk9u231_35.png\n"
     ]
    },
    {
     "data": {
      "text/plain": [
       "<Figure size 600x600 with 1 Axes>"
      ],
      "image/png": "[encoded data removed]"
     },
     "metadata": {},
     "output_type": "display_data"
    }
   ],
   "execution_count": 28
  },
  {
   "cell_type": "code",
   "source": [
    "print(len(file_names))"
   ],
   "metadata": {
    "collapsed": false,
    "ExecuteTime": {
     "end_time": "2024-08-01T20:33:21.032656Z",
     "start_time": "2024-08-01T20:33:21.029103Z"
    }
   },
   "id": "1a899eae08b191ec",
   "outputs": [
    {
     "name": "stdout",
     "output_type": "stream",
     "text": [
      "50\n"
     ]
    }
   ],
   "execution_count": 39
  },
  {
   "metadata": {},
   "cell_type": "code",
   "outputs": [],
   "execution_count": null,
   "source": "",
   "id": "1ba59bb119ace2d8"
  }
 ],
 "metadata": {
  "kernelspec": {
   "display_name": "Python 3",
   "language": "python",
   "name": "python3"
  },
  "language_info": {
   "codemirror_mode": {
    "name": "ipython",
    "version": 2
   },
   "file_extension": ".py",
   "mimetype": "text/x-python",
   "name": "python",
   "nbconvert_exporter": "python",
   "pygments_lexer": "ipython2",
   "version": "2.7.6"
  }
 },
 "nbformat": 4,
 "nbformat_minor": 5
}
