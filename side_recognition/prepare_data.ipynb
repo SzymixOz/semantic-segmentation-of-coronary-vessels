{
 "cells": [
  {
   "cell_type": "code",
   "execution_count": 8,
   "metadata": {
    "ExecuteTime": {
     "end_time": "2024-07-25T21:14:53.507368100Z",
     "start_time": "2024-07-25T21:14:53.500663800Z"
    }
   },
   "outputs": [],
   "source": [
    "# import os\n",
    "# from random import random\n",
    "#\n",
    "# image_names = os.listdir(\"right_side_new_df\")\n",
    "# train_test_split = open(\"right_train_test_split.txt\", 'w')\n",
    "# for i, image_name in enumerate(image_names):\n",
    "#     r = random()\n",
    "#     if r < 0.7:\n",
    "#         train_test_split.write(image_name + ' 0\\n')\n",
    "#     elif r < 0.85:\n",
    "#         train_test_split.write(image_name + ' 1\\n')\n",
    "#     else:\n",
    "#         train_test_split.write(image_name + ' 2\\n')"
   ]
  },
  {
   "cell_type": "code",
   "execution_count": 6,
   "metadata": {
    "ExecuteTime": {
     "end_time": "2024-07-25T21:13:10.755962200Z",
     "start_time": "2024-07-25T21:13:10.737445900Z"
    }
   },
   "outputs": [],
   "source": [
    "import os\n",
    "\n",
    "os.mkdir(\"side2/test\")\n",
    "os.mkdir(\"side2/test/left\")\n",
    "os.mkdir(\"side2/test/right\")\n",
    "\n",
    "os.mkdir(\"side2/train\")\n",
    "os.mkdir(\"side2/train/left\")\n",
    "os.mkdir(\"side2/train/right\")\n",
    "\n",
    "os.mkdir(\"side2/val\")\n",
    "os.mkdir(\"side2/val/left\")\n",
    "os.mkdir(\"side2/val/right\")"
   ]
  },
  {
   "cell_type": "code",
   "execution_count": 10,
   "metadata": {
    "ExecuteTime": {
     "end_time": "2024-07-25T21:21:31.561259500Z",
     "start_time": "2024-07-25T21:21:29.190467400Z"
    }
   },
   "outputs": [],
   "source": [
    "import shutil\n",
    "\n",
    "train_test_split = open(\"right_train_test_split.txt\", 'r')\n",
    "input_source = \"right_side_new_df/\"\n",
    "# output_source = \"gt/\"\n",
    "\n",
    "for line in train_test_split:\n",
    "    image_name, train_or_test = line.split()\n",
    "    if train_or_test == '0':\n",
    "        shutil.copy(input_source + image_name, \"side2/train/right/\" + image_name)\n",
    "    elif train_or_test == '1':\n",
    "        shutil.copy(input_source + image_name, \"side2/val/right/\" + image_name)\n",
    "    else:\n",
    "        shutil.copy(input_source + image_name, \"side2/test/right/\" + image_name)\n"
   ]
  },
  {
   "cell_type": "code",
   "execution_count": null,
   "metadata": {},
   "outputs": [],
   "source": []
  }
 ],
 "metadata": {
  "kernelspec": {
   "display_name": "Python 3",
   "language": "python",
   "name": "python3"
  },
  "language_info": {
   "codemirror_mode": {
    "name": "ipython",
    "version": 3
   },
   "file_extension": ".py",
   "mimetype": "text/x-python",
   "name": "python",
   "nbconvert_exporter": "python",
   "pygments_lexer": "ipython3",
   "version": "3.10.6"
  }
 },
 "nbformat": 4,
 "nbformat_minor": 2
}
