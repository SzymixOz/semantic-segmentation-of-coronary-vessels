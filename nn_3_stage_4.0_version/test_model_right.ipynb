{
 "cells": [
  {
   "cell_type": "code",
   "execution_count": 1,
   "metadata": {},
   "outputs": [],
   "source": [
    "import os\n",
    "import numpy as np\n",
    "import cv2\n",
    "import torch\n",
    "from torch.utils.data import Dataset, DataLoader\n",
    "from torchvision import transforms\n",
    "\n",
    "\n",
    "class CoronarySmallDataset(Dataset):\n",
    "    def __init__(self, image_dir, keypoint_dir, mask_dir, transform=None):\n",
    "        self.image_dir = image_dir\n",
    "        self.keypoint_dir = keypoint_dir\n",
    "        self.mask_dir = mask_dir\n",
    "        self.transform = transform\n",
    "        self.input = os.listdir(image_dir)\n",
    "\n",
    "    def __len__(self):\n",
    "        return len(self.input)\n",
    "\n",
    "    def __getitem__(self, idx):\n",
    "        SIZE = 256\n",
    "        img_path = os.path.join(self.image_dir, self.input[idx])\n",
    "        keypoint_path = os.path.join(self.keypoint_dir, self.input[idx])\n",
    "        mask_path = os.path.join(self.mask_dir, self.input[idx])\n",
    "        \n",
    "\n",
    "        image = cv2.imread(img_path, cv2.IMREAD_UNCHANGED)\n",
    "        image = cv2.cvtColor(image, cv2.COLOR_RGBA2RGB)\n",
    "        image = cv2.resize(image, (SIZE, SIZE))\n",
    "\n",
    "        keypoint = cv2.imread(keypoint_path, cv2.IMREAD_UNCHANGED)\n",
    "        keypoint = cv2.resize(keypoint, (SIZE, SIZE), interpolation=cv2.INTER_NEAREST)\n",
    "        \n",
    "        keypoint =  np.expand_dims(keypoint, axis=2)\n",
    "        output = np.concatenate((image, keypoint), axis=2)\n",
    "\n",
    "        mask = cv2.imread(mask_path, cv2.IMREAD_UNCHANGED)\n",
    "        mask = cv2.resize(mask, (SIZE, SIZE), interpolation=cv2.INTER_NEAREST)\n",
    "        \n",
    "        if self.transform:\n",
    "            output = self.transform(output)\n",
    "            mask = torch.tensor(mask, dtype=torch.long)\n",
    "        \n",
    "        return output, mask\n",
    "\n",
    "\n",
    "transform = transforms.Compose([\n",
    "    transforms.ToTensor()\n",
    "])\n",
    "\n",
    "train_image_dir = '../images/images_right/images_train/input_dicom'\n",
    "train_keypoint_dir = '../images/images_right/images_train/keypoints'\n",
    "train_mask_dir = '../images/images_right/images_train/output'\n",
    "val_image_dir = '../images/images_right/images_val/input_dicom'\n",
    "val_keypoint_dir = '../images/images_right/images_val/keypoints'\n",
    "val_mask_dir = '../images/images_right/images_val/output'\n",
    "test_image_dir = '../images/images_right/images_test/input_dicom'\n",
    "test_keypoint_dir = '../images/images_right/images_test/keypoints'\n",
    "test_mask_dir = '../images/images_right/images_test/output'\n",
    "\n",
    "train_dataset = CoronarySmallDataset(train_image_dir, train_keypoint_dir, train_mask_dir, transform=transform)\n",
    "val_dataset = CoronarySmallDataset(val_image_dir, val_keypoint_dir, val_mask_dir, transform=transform)\n",
    "test_dataset = CoronarySmallDataset(test_image_dir, test_keypoint_dir, test_mask_dir, transform=transform)\n",
    "\n",
    "train_loader = DataLoader(train_dataset, batch_size=6, shuffle=True)\n",
    "val_loader = DataLoader(val_dataset, batch_size=6, shuffle=False)\n",
    "test_loader = DataLoader(test_dataset, batch_size=6, shuffle=False)\n"
   ]
  },
  {
   "cell_type": "code",
   "execution_count": 37,
   "metadata": {},
   "outputs": [
    {
     "name": "stderr",
     "output_type": "stream",
     "text": [
      "C:\\Users\\eozoszy\\AppData\\Local\\Temp\\ipykernel_20352\\3519864105.py:9: FutureWarning: You are using `torch.load` with `weights_only=False` (the current default value), which uses the default pickle module implicitly. It is possible to construct malicious pickle data which will execute arbitrary code during unpickling (See https://github.com/pytorch/pytorch/blob/main/SECURITY.md#untrusted-models for more details). In a future release, the default value for `weights_only` will be flipped to `True`. This limits the functions that could be executed during unpickling. Arbitrary objects will no longer be allowed to be loaded via this mode unless they are explicitly allowlisted by the user via `torch.serialization.add_safe_globals`. We recommend you start setting `weights_only=True` for any use case where you don't have full control of the loaded file. Please open an issue on GitHub for any issues related to this experimental feature.\n",
      "  model.load_state_dict(torch.load('model_dicom_kp_right_5.pth', map_location=device))\n"
     ]
    }
   ],
   "source": [
    "from converter_RGB import convert_int_to_RGB\n",
    "from large_RGB_model import UNet\n",
    "\n",
    "\n",
    "device = torch.device('cuda' if torch.cuda.is_available() else 'cpu')\n",
    "model = UNet()\n",
    "model = model.to(device)\n",
    "\n",
    "model.load_state_dict(torch.load('model_dicom_kp_right_5.pth', map_location=device))\n",
    "model.eval()\n",
    "\n",
    "def show_image(type, image_name):\n",
    "    dir = f\"..\\images\\images_right\\images_test\\{type}\"\n",
    "    print(dir)\n",
    "    if type == 'output':\n",
    "        img = cv2.imread(os.path.join(dir, image_name), cv2.IMREAD_UNCHANGED)\n",
    "        # img = img[:, :, 2]\n",
    "        print(\"Oryginalnie: \", np.unique(img))\n",
    "        \n",
    "        # print(\"Po resize: NEAREST\\t  \", np.unique(cv2.resize(img, (256, 256), interpolation=cv2.INTER_NEAREST)))\n",
    "        # cv2.imshow('INTER_NEAREST', cv2.resize(convert_int_to_RGB(cv2.resize(img, (256, 256), interpolation=cv2.INTER_NEAREST)), (512, 512)))\n",
    "        # print(\"Po resize: NEAREST_EXACT  \", np.unique(cv2.resize(img, (256, 256), interpolation=cv2.INTER_NEAREST_EXACT)))\n",
    "        # cv2.imshow('INTER_NEAREST_EXACT', cv2.resize(convert_int_to_RGB(cv2.resize(img, (256, 256), interpolation=cv2.INTER_NEAREST_EXACT)), (512, 512)))\n",
    "        \n",
    "        print(\"Po resize:  \", np.unique(cv2.resize(img, (256, 256))))\n",
    "        # print(img)\n",
    "        img = convert_int_to_RGB(img)\n",
    "        img = cv2.cvtColor(img, cv2.COLOR_BGRA2RGB)\n",
    "    else:\n",
    "        img = cv2.imread(os.path.join(dir, image_name), cv2.IMREAD_UNCHANGED)\n",
    "        # img = img * 7\n",
    "    # img = cv2.resize(img, (256, 256))\n",
    "    # np.set_printoptions(threshold=np.inf)\n",
    "    cv2.imshow(type, img)\n",
    "\n",
    "def predict(image_name):\n",
    "    SIZE = 256\n",
    "    dir = '..\\images\\images_right\\images_test\\input_dicom'\n",
    "    img = cv2.imread(os.path.join(dir, image_name), cv2.IMREAD_UNCHANGED)\n",
    "    img = cv2.cvtColor(img, cv2.COLOR_RGBA2RGB)\n",
    "    img = cv2.resize(img, (SIZE, SIZE))\n",
    "    \n",
    "    keypoint_path ='..\\images\\images_right\\images_test\\keypoints'\n",
    "    keypoint = cv2.imread(os.path.join(keypoint_path, image_name), cv2.IMREAD_UNCHANGED)\n",
    "    keypoint = cv2.resize(keypoint, (SIZE, SIZE), interpolation=cv2.INTER_NEAREST)\n",
    "    \n",
    "    keypoint =  np.expand_dims(keypoint, axis=2)\n",
    "    output = np.concatenate((img, keypoint), axis=2)\n",
    "    \n",
    "    output = transforms.ToTensor()(output).unsqueeze(0).to(device)\n",
    "\n",
    "    with torch.no_grad():\n",
    "        pred = model.predict(output)\n",
    "        pred = pred.squeeze().cpu().numpy()\n",
    "    print(\"Z sieci:    \", np.unique(pred))\n",
    "\n",
    "    pred_image = convert_int_to_RGB(pred)\n",
    "    pred_image = cv2.resize(pred_image, (512, 512))\n",
    "    pred_image = cv2.cvtColor(pred_image, cv2.COLOR_BGR2RGB)\n",
    "    cv2.imshow('pred', pred_image)\n",
    "    cv2.waitKey(0)\n",
    "   "
   ]
  },
  {
   "cell_type": "code",
   "execution_count": 43,
   "metadata": {},
   "outputs": [
    {
     "name": "stdout",
     "output_type": "stream",
     "text": [
      "..\\images\\images_right\\images_test\\input_dicom\n",
      "..\\images\\images_right\\images_test\\output\n",
      "Oryginalnie:  [ 0  1  2  3  4 22]\n",
      "Po resize:   [ 0  1  2  3  4  6  8 11 17 22]\n",
      "Z sieci:     [ 0  1  2  3  4 22]\n"
     ]
    }
   ],
   "source": [
    "# image_name = \"13c2ur5452xb62wphb959tewknprozmk_16.png\"\n",
    "# image_name = \"131aedfhs6pnf1fvtvp49jwozv2hftsy22_17.png\"\n",
    "# image_name = \"131aedfhs6pnf1fvtvp49jxtehkqvd1322_14.png\"\n",
    "# image_name = \"131aedfhs6pnf1fvtvp49jyn69e2q6lm22_31.png\"\n",
    "# image_name = \"131aedfhs6pnf1fvtvp49jyuzi3sqhl722_19.png\"\n",
    "image_name = \"131aedfhs6pnf1fvtvp498txzzigu9a222_35.png\"\n",
    "\n",
    "show_image(\"input_dicom\", image_name)\n",
    "show_image(\"output\", image_name)\n",
    "predict(image_name)"
   ]
  },
  {
   "cell_type": "code",
   "execution_count": 3,
   "metadata": {},
   "outputs": [],
   "source": [
    "from sklearn.metrics import precision_score, recall_score, f1_score\n",
    "\n",
    "\n",
    "def compute_accuracy(model, data_loader, device):\n",
    "    model.eval()\n",
    "    correct = 0\n",
    "    correct_clear = 0\n",
    "    total = 0\n",
    "    total_clear = 0\n",
    "\n",
    "    with torch.no_grad():\n",
    "        for images, masks in data_loader:\n",
    "            images = images.to(device)\n",
    "            masks = masks.to(device)\n",
    "\n",
    "            preds = model.predict(images)\n",
    "            \n",
    "            correct += (preds == masks).sum().item()\n",
    "            correct_clear += (preds[masks != 0] == masks[masks != 0]).sum().item()\n",
    "            total += masks.numel()\n",
    "            total_clear += masks[masks != 0].numel()\n",
    "\n",
    "    accuracy = correct / total\n",
    "    accuracy_clear = correct_clear / total_clear\n",
    "    return accuracy, accuracy_clear"
   ]
  },
  {
   "cell_type": "code",
   "execution_count": 4,
   "metadata": {},
   "outputs": [],
   "source": [
    "def compute_precision_recall_f1(model, data_loader, device, num_classes=28):\n",
    "    model.eval()\n",
    "    all_preds = []\n",
    "    all_targets = []\n",
    "\n",
    "    with torch.no_grad():\n",
    "        for images, masks in data_loader:\n",
    "            images = images.to(device)\n",
    "            masks = masks.to(device)\n",
    "\n",
    "            preds = model.predict(images)\n",
    "            \n",
    "            all_preds.append(preds.view(-1).cpu().numpy())\n",
    "            all_targets.append(masks.view(-1).cpu().numpy())\n",
    "\n",
    "    all_preds = np.concatenate(all_preds)\n",
    "    all_targets = np.concatenate(all_targets)\n",
    "\n",
    "    TP = np.zeros(num_classes)\n",
    "    FP = np.zeros(num_classes)\n",
    "    FN = np.zeros(num_classes)\n",
    "\n",
    "    for i in range(num_classes):\n",
    "        TP[i] = ((all_preds == i) & (all_targets == i)).sum()\n",
    "        FP[i] = ((all_preds == i) & (all_targets != i)).sum()\n",
    "        FN[i] = ((all_preds != i) & (all_targets == i)).sum()\n",
    "    \n",
    "    TP[0], FP[0], FN[0] = 0, 0, 0\n",
    "    # print(TP, FP, FN)\n",
    "\n",
    "    precision = TP / (TP + FP)\n",
    "    recall = TP / (TP + FN)\n",
    "    f1 = 2 * precision * recall / (precision + recall)\n",
    "    # print(TP.sum(), FP.sum(), FN.sum())\n",
    "\n",
    "    precision_weighted = TP.sum() / (TP.sum() + FP.sum())\n",
    "    recall_weighted = TP.sum() / (TP.sum() + FN.sum())\n",
    "    f1_weighted = 2 * precision_weighted * recall_weighted / (precision_weighted + recall_weighted)\n",
    "\n",
    "    return precision, recall, f1, precision_weighted, recall_weighted, f1_weighted"
   ]
  },
  {
   "cell_type": "code",
   "execution_count": 5,
   "metadata": {},
   "outputs": [
    {
     "name": "stderr",
     "output_type": "stream",
     "text": [
      "C:\\Users\\eozoszy\\AppData\\Local\\Temp\\ipykernel_20352\\838519243.py:4: FutureWarning: You are using `torch.load` with `weights_only=False` (the current default value), which uses the default pickle module implicitly. It is possible to construct malicious pickle data which will execute arbitrary code during unpickling (See https://github.com/pytorch/pytorch/blob/main/SECURITY.md#untrusted-models for more details). In a future release, the default value for `weights_only` will be flipped to `True`. This limits the functions that could be executed during unpickling. Arbitrary objects will no longer be allowed to be loaded via this mode unless they are explicitly allowlisted by the user via `torch.serialization.add_safe_globals`. We recommend you start setting `weights_only=True` for any use case where you don't have full control of the loaded file. Please open an issue on GitHub for any issues related to this experimental feature.\n",
      "  model.load_state_dict(torch.load('model_dicom_kp_right_1.pth', map_location=device))\n"
     ]
    },
    {
     "name": "stdout",
     "output_type": "stream",
     "text": [
      "Train Accuracy: 98.27%\n",
      "Train Accuracy Clear: 57.08%\n",
      "\n",
      "Validation Accuracy: 98.01%\n",
      "Validation Accuracy Clear: 50.47%\n"
     ]
    }
   ],
   "source": [
    "# learning_rate = 2.4, dropout_rate = 0.2\n",
    "device = torch.device('cuda' if torch.cuda.is_available() else 'cpu')\n",
    "model = UNet().to(device)\n",
    "model.load_state_dict(torch.load('model_dicom_kp_right_1.pth', map_location=device))\n",
    "\n",
    "train_accuracy = compute_accuracy(model, train_loader, device)\n",
    "val_accuracy = compute_accuracy(model, val_loader, device)\n",
    "\n",
    "print(f'Train Accuracy: {train_accuracy[0] * 100 :.2f}%')\n",
    "print(f'Train Accuracy Clear: {train_accuracy[1] * 100 :.2f}%')\n",
    "print()\n",
    "print(f'Validation Accuracy: {val_accuracy[0] * 100 :.2f}%')\n",
    "print(f'Validation Accuracy Clear: {val_accuracy[1] * 100 :.2f}%')"
   ]
  },
  {
   "cell_type": "code",
   "execution_count": 6,
   "metadata": {},
   "outputs": [
    {
     "name": "stderr",
     "output_type": "stream",
     "text": [
      "C:\\Users\\eozoszy\\AppData\\Local\\Temp\\ipykernel_20352\\1567517178.py:1: FutureWarning: You are using `torch.load` with `weights_only=False` (the current default value), which uses the default pickle module implicitly. It is possible to construct malicious pickle data which will execute arbitrary code during unpickling (See https://github.com/pytorch/pytorch/blob/main/SECURITY.md#untrusted-models for more details). In a future release, the default value for `weights_only` will be flipped to `True`. This limits the functions that could be executed during unpickling. Arbitrary objects will no longer be allowed to be loaded via this mode unless they are explicitly allowlisted by the user via `torch.serialization.add_safe_globals`. We recommend you start setting `weights_only=True` for any use case where you don't have full control of the loaded file. Please open an issue on GitHub for any issues related to this experimental feature.\n",
      "  model.load_state_dict(torch.load('model_dicom_kp_right_1.pth', map_location=device))\n"
     ]
    },
    {
     "name": "stdout",
     "output_type": "stream",
     "text": [
      "Class 0: Precision: 0.00%, Recall: 0.00%, F1: 0.00%\n",
      "Class 1: Precision: 61.99%, Recall: 69.57%, F1: 65.56%\n",
      "Class 2: Precision: 71.56%, Recall: 43.69%, F1: 54.25%\n",
      "Class 3: Precision: 78.17%, Recall: 68.89%, F1: 73.24%\n",
      "Class 4: Precision: 54.03%, Recall: 37.99%, F1: 44.61%\n",
      "Class 5: Precision: 0.00%, Recall: 0.00%, F1: 0.00%\n",
      "Class 6: Precision: 0.00%, Recall: 0.00%, F1: 0.00%\n",
      "Class 7: Precision: 0.00%, Recall: 0.00%, F1: 0.00%\n",
      "Class 8: Precision: 0.00%, Recall: 0.00%, F1: 0.00%\n",
      "Class 9: Precision: 0.00%, Recall: 0.00%, F1: 0.00%\n",
      "Class 10: Precision: 0.00%, Recall: 0.00%, F1: 0.00%\n",
      "Class 11: Precision: 0.00%, Recall: 0.00%, F1: 0.00%\n",
      "Class 12: Precision: 0.00%, Recall: 0.00%, F1: 0.00%\n",
      "Class 13: Precision: 0.00%, Recall: 0.00%, F1: 0.00%\n",
      "Class 14: Precision: 0.00%, Recall: 0.00%, F1: 0.00%\n",
      "Class 15: Precision: 0.00%, Recall: 0.00%, F1: 0.00%\n",
      "Class 16: Precision: 0.00%, Recall: 0.00%, F1: 0.00%\n",
      "Class 17: Precision: 0.00%, Recall: 0.00%, F1: 0.00%\n",
      "Class 18: Precision: 0.00%, Recall: 0.00%, F1: 0.00%\n",
      "Class 19: Precision: 0.00%, Recall: 0.00%, F1: 0.00%\n",
      "Class 20: Precision: 0.00%, Recall: 0.00%, F1: 0.00%\n",
      "Class 21: Precision: 0.00%, Recall: 0.00%, F1: 0.00%\n",
      "Class 22: Precision: 41.37%, Recall: 33.18%, F1: 36.82%\n",
      "Class 23: Precision: 0.00%, Recall: 0.00%, F1: 0.00%\n",
      "Class 24: Precision: 0.00%, Recall: 0.00%, F1: 0.00%\n",
      "Class 25: Precision: 0.00%, Recall: 0.00%, F1: 0.00%\n",
      "Class 26: Precision: 0.00%, Recall: 0.00%, F1: 0.00%\n",
      "Class 27: Precision: 0.00%, Recall: 0.00%, F1: 0.00%\n",
      "Average Precision: 10.969%\n",
      "Average Recall: 9.047%\n",
      "Average F1: 9.803%\n",
      "\n",
      "Weighted Precision: 62.976%\n",
      "Weighted Recall: 50.471%\n",
      "Weighted F1: 56.034%\n"
     ]
    },
    {
     "name": "stderr",
     "output_type": "stream",
     "text": [
      "C:\\Users\\eozoszy\\AppData\\Local\\Temp\\ipykernel_20352\\1128418758.py:31: RuntimeWarning: invalid value encountered in divide\n",
      "  precision = TP / (TP + FP)\n",
      "C:\\Users\\eozoszy\\AppData\\Local\\Temp\\ipykernel_20352\\1128418758.py:32: RuntimeWarning: invalid value encountered in divide\n",
      "  recall = TP / (TP + FN)\n"
     ]
    }
   ],
   "source": [
    "model.load_state_dict(torch.load('model_dicom_kp_right_1.pth', map_location=device))\n",
    "precision, recall, f1, precision_weighted, recall_weighted, f1_weighted = compute_precision_recall_f1(model, val_loader, device)\n",
    "\n",
    "if np.isnan(precision).any():\n",
    "    precision = np.nan_to_num(precision)\n",
    "if np.isnan(recall).any():\n",
    "    recall = np.nan_to_num(recall)\n",
    "if np.isnan(f1).any():\n",
    "    f1 = np.nan_to_num(f1)\n",
    "\n",
    "for i in range(28):\n",
    "    print(f'Class {i}: Precision: {precision[i] * 100:.2f}%, Recall: {recall[i] * 100:.2f}%, F1: {f1[i] * 100:.2f}%')\n",
    "\n",
    "print(f'Average Precision: {np.mean(precision) * 100:.3f}%')\n",
    "print(f'Average Recall: {np.mean(recall) * 100:.3f}%')\n",
    "print(f'Average F1: {np.mean(f1) * 100:.3f}%')\n",
    "print()\n",
    "print(f'Weighted Precision: {precision_weighted * 100:.3f}%')\n",
    "print(f'Weighted Recall: {recall_weighted * 100:.3f}%')\n",
    "print(f'Weighted F1: {f1_weighted * 100:.3f}%')"
   ]
  },
  {
   "cell_type": "code",
   "execution_count": 7,
   "metadata": {},
   "outputs": [
    {
     "name": "stderr",
     "output_type": "stream",
     "text": [
      "C:\\Users\\eozoszy\\AppData\\Local\\Temp\\ipykernel_20352\\1814100900.py:4: FutureWarning: You are using `torch.load` with `weights_only=False` (the current default value), which uses the default pickle module implicitly. It is possible to construct malicious pickle data which will execute arbitrary code during unpickling (See https://github.com/pytorch/pytorch/blob/main/SECURITY.md#untrusted-models for more details). In a future release, the default value for `weights_only` will be flipped to `True`. This limits the functions that could be executed during unpickling. Arbitrary objects will no longer be allowed to be loaded via this mode unless they are explicitly allowlisted by the user via `torch.serialization.add_safe_globals`. We recommend you start setting `weights_only=True` for any use case where you don't have full control of the loaded file. Please open an issue on GitHub for any issues related to this experimental feature.\n",
      "  model.load_state_dict(torch.load('model_dicom_kp_right_2.pth', map_location=device))\n"
     ]
    },
    {
     "name": "stdout",
     "output_type": "stream",
     "text": [
      "Train Accuracy: 98.06%\n",
      "Train Accuracy Clear: 50.46%\n",
      "\n",
      "Validation Accuracy: 98.05%\n",
      "Validation Accuracy Clear: 50.63%\n"
     ]
    }
   ],
   "source": [
    "# learning_rate = 3.2, dropout_rate = 0.2\n",
    "device = torch.device('cuda' if torch.cuda.is_available() else 'cpu')\n",
    "model = UNet().to(device)\n",
    "model.load_state_dict(torch.load('model_dicom_kp_right_2.pth', map_location=device))\n",
    "\n",
    "train_accuracy = compute_accuracy(model, train_loader, device)\n",
    "val_accuracy = compute_accuracy(model, val_loader, device)\n",
    "\n",
    "print(f'Train Accuracy: {train_accuracy[0] * 100 :.2f}%')\n",
    "print(f'Train Accuracy Clear: {train_accuracy[1] * 100 :.2f}%')\n",
    "print()\n",
    "print(f'Validation Accuracy: {val_accuracy[0] * 100 :.2f}%')\n",
    "print(f'Validation Accuracy Clear: {val_accuracy[1] * 100 :.2f}%')"
   ]
  },
  {
   "cell_type": "code",
   "execution_count": 9,
   "metadata": {},
   "outputs": [
    {
     "name": "stderr",
     "output_type": "stream",
     "text": [
      "C:\\Users\\eozoszy\\AppData\\Local\\Temp\\ipykernel_20352\\276036006.py:1: FutureWarning: You are using `torch.load` with `weights_only=False` (the current default value), which uses the default pickle module implicitly. It is possible to construct malicious pickle data which will execute arbitrary code during unpickling (See https://github.com/pytorch/pytorch/blob/main/SECURITY.md#untrusted-models for more details). In a future release, the default value for `weights_only` will be flipped to `True`. This limits the functions that could be executed during unpickling. Arbitrary objects will no longer be allowed to be loaded via this mode unless they are explicitly allowlisted by the user via `torch.serialization.add_safe_globals`. We recommend you start setting `weights_only=True` for any use case where you don't have full control of the loaded file. Please open an issue on GitHub for any issues related to this experimental feature.\n",
      "  model.load_state_dict(torch.load('model_dicom_kp_right_2.pth', map_location=device))\n"
     ]
    },
    {
     "name": "stdout",
     "output_type": "stream",
     "text": [
      "Class 0: Precision: 0.00%, Recall: 0.00%, F1: 0.00%\n",
      "Class 1: Precision: 81.91%, Recall: 49.30%, F1: 61.55%\n",
      "Class 2: Precision: 62.12%, Recall: 70.09%, F1: 65.86%\n",
      "Class 3: Precision: 71.96%, Recall: 61.45%, F1: 66.29%\n",
      "Class 4: Precision: 53.48%, Recall: 46.93%, F1: 49.99%\n",
      "Class 5: Precision: 0.00%, Recall: 0.00%, F1: 0.00%\n",
      "Class 6: Precision: 0.00%, Recall: 0.00%, F1: 0.00%\n",
      "Class 7: Precision: 0.00%, Recall: 0.00%, F1: 0.00%\n",
      "Class 8: Precision: 0.00%, Recall: 0.00%, F1: 0.00%\n",
      "Class 9: Precision: 0.00%, Recall: 0.00%, F1: 0.00%\n",
      "Class 10: Precision: 0.00%, Recall: 0.00%, F1: 0.00%\n",
      "Class 11: Precision: 0.00%, Recall: 0.00%, F1: 0.00%\n",
      "Class 12: Precision: 0.00%, Recall: 0.00%, F1: 0.00%\n",
      "Class 13: Precision: 0.00%, Recall: 0.00%, F1: 0.00%\n",
      "Class 14: Precision: 0.00%, Recall: 0.00%, F1: 0.00%\n",
      "Class 15: Precision: 0.00%, Recall: 0.00%, F1: 0.00%\n",
      "Class 16: Precision: 0.00%, Recall: 0.00%, F1: 0.00%\n",
      "Class 17: Precision: 0.00%, Recall: 0.00%, F1: 0.00%\n",
      "Class 18: Precision: 0.00%, Recall: 0.00%, F1: 0.00%\n",
      "Class 19: Precision: 0.00%, Recall: 0.00%, F1: 0.00%\n",
      "Class 20: Precision: 0.00%, Recall: 0.00%, F1: 0.00%\n",
      "Class 21: Precision: 0.00%, Recall: 0.00%, F1: 0.00%\n",
      "Class 22: Precision: 51.95%, Recall: 25.64%, F1: 34.33%\n",
      "Class 23: Precision: 0.00%, Recall: 0.00%, F1: 0.00%\n",
      "Class 24: Precision: 0.00%, Recall: 0.00%, F1: 0.00%\n",
      "Class 25: Precision: 0.00%, Recall: 0.00%, F1: 0.00%\n",
      "Class 26: Precision: 0.00%, Recall: 0.00%, F1: 0.00%\n",
      "Class 27: Precision: 0.00%, Recall: 0.00%, F1: 0.00%\n",
      "Average Precision: 11.479%\n",
      "Average Recall: 9.050%\n",
      "Average F1: 9.930%\n",
      "\n",
      "Weighted Precision: 64.872%\n",
      "Weighted Recall: 50.632%\n",
      "Weighted F1: 56.874%\n"
     ]
    },
    {
     "name": "stderr",
     "output_type": "stream",
     "text": [
      "C:\\Users\\eozoszy\\AppData\\Local\\Temp\\ipykernel_20352\\1128418758.py:31: RuntimeWarning: invalid value encountered in divide\n",
      "  precision = TP / (TP + FP)\n",
      "C:\\Users\\eozoszy\\AppData\\Local\\Temp\\ipykernel_20352\\1128418758.py:32: RuntimeWarning: invalid value encountered in divide\n",
      "  recall = TP / (TP + FN)\n"
     ]
    }
   ],
   "source": [
    "model.load_state_dict(torch.load('model_dicom_kp_right_2.pth', map_location=device))\n",
    "precision, recall, f1, precision_weighted, recall_weighted, f1_weighted = compute_precision_recall_f1(model, val_loader, device)\n",
    "\n",
    "if np.isnan(precision).any():\n",
    "    precision = np.nan_to_num(precision)\n",
    "if np.isnan(recall).any():\n",
    "    recall = np.nan_to_num(recall)\n",
    "if np.isnan(f1).any():\n",
    "    f1 = np.nan_to_num(f1)\n",
    "\n",
    "for i in range(28):\n",
    "    print(f'Class {i}: Precision: {precision[i] * 100:.2f}%, Recall: {recall[i] * 100:.2f}%, F1: {f1[i] * 100:.2f}%')\n",
    "\n",
    "print(f'Average Precision: {np.mean(precision) * 100:.3f}%')\n",
    "print(f'Average Recall: {np.mean(recall) * 100:.3f}%')\n",
    "print(f'Average F1: {np.mean(f1) * 100:.3f}%')\n",
    "print()\n",
    "print(f'Weighted Precision: {precision_weighted * 100:.3f}%')\n",
    "print(f'Weighted Recall: {recall_weighted * 100:.3f}%')\n",
    "print(f'Weighted F1: {f1_weighted * 100:.3f}%')"
   ]
  },
  {
   "cell_type": "code",
   "execution_count": 10,
   "metadata": {},
   "outputs": [
    {
     "name": "stderr",
     "output_type": "stream",
     "text": [
      "C:\\Users\\eozoszy\\AppData\\Local\\Temp\\ipykernel_20352\\2928946425.py:4: FutureWarning: You are using `torch.load` with `weights_only=False` (the current default value), which uses the default pickle module implicitly. It is possible to construct malicious pickle data which will execute arbitrary code during unpickling (See https://github.com/pytorch/pytorch/blob/main/SECURITY.md#untrusted-models for more details). In a future release, the default value for `weights_only` will be flipped to `True`. This limits the functions that could be executed during unpickling. Arbitrary objects will no longer be allowed to be loaded via this mode unless they are explicitly allowlisted by the user via `torch.serialization.add_safe_globals`. We recommend you start setting `weights_only=True` for any use case where you don't have full control of the loaded file. Please open an issue on GitHub for any issues related to this experimental feature.\n",
      "  model.load_state_dict(torch.load('model_dicom_kp_right_3.pth', map_location=device))\n"
     ]
    },
    {
     "name": "stdout",
     "output_type": "stream",
     "text": [
      "Train Accuracy: 98.67%\n",
      "Train Accuracy Clear: 73.01%\n",
      "\n",
      "Validation Accuracy: 98.47%\n",
      "Validation Accuracy Clear: 67.45%\n"
     ]
    }
   ],
   "source": [
    "# learning_rate = 2.1, dropout_rate = 0.2 \n",
    "device = torch.device('cuda' if torch.cuda.is_available() else 'cpu')\n",
    "model = UNet().to(device)\n",
    "model.load_state_dict(torch.load('model_dicom_kp_right_3.pth', map_location=device))\n",
    "\n",
    "train_accuracy = compute_accuracy(model, train_loader, device)\n",
    "val_accuracy = compute_accuracy(model, val_loader, device)\n",
    "\n",
    "print(f'Train Accuracy: {train_accuracy[0] * 100 :.2f}%')\n",
    "print(f'Train Accuracy Clear: {train_accuracy[1] * 100 :.2f}%')\n",
    "print()\n",
    "print(f'Validation Accuracy: {val_accuracy[0] * 100 :.2f}%')\n",
    "print(f'Validation Accuracy Clear: {val_accuracy[1] * 100 :.2f}%')"
   ]
  },
  {
   "cell_type": "code",
   "execution_count": 11,
   "metadata": {},
   "outputs": [
    {
     "name": "stderr",
     "output_type": "stream",
     "text": [
      "C:\\Users\\eozoszy\\AppData\\Local\\Temp\\ipykernel_20352\\3077773942.py:1: FutureWarning: You are using `torch.load` with `weights_only=False` (the current default value), which uses the default pickle module implicitly. It is possible to construct malicious pickle data which will execute arbitrary code during unpickling (See https://github.com/pytorch/pytorch/blob/main/SECURITY.md#untrusted-models for more details). In a future release, the default value for `weights_only` will be flipped to `True`. This limits the functions that could be executed during unpickling. Arbitrary objects will no longer be allowed to be loaded via this mode unless they are explicitly allowlisted by the user via `torch.serialization.add_safe_globals`. We recommend you start setting `weights_only=True` for any use case where you don't have full control of the loaded file. Please open an issue on GitHub for any issues related to this experimental feature.\n",
      "  model.load_state_dict(torch.load('model_dicom_kp_right_3.pth', map_location=device))\n"
     ]
    },
    {
     "name": "stdout",
     "output_type": "stream",
     "text": [
      "Class 0: Precision: 0.00%, Recall: 0.00%, F1: 0.00%\n",
      "Class 1: Precision: 77.53%, Recall: 71.67%, F1: 74.48%\n",
      "Class 2: Precision: 67.03%, Recall: 75.12%, F1: 70.84%\n",
      "Class 3: Precision: 74.37%, Recall: 72.16%, F1: 73.25%\n",
      "Class 4: Precision: 71.19%, Recall: 62.12%, F1: 66.34%\n",
      "Class 5: Precision: 0.00%, Recall: 0.00%, F1: 0.00%\n",
      "Class 6: Precision: 0.00%, Recall: 0.00%, F1: 0.00%\n",
      "Class 7: Precision: 0.00%, Recall: 0.00%, F1: 0.00%\n",
      "Class 8: Precision: 0.00%, Recall: 0.00%, F1: 0.00%\n",
      "Class 9: Precision: 0.00%, Recall: 0.00%, F1: 0.00%\n",
      "Class 10: Precision: 0.00%, Recall: 0.00%, F1: 0.00%\n",
      "Class 11: Precision: 0.00%, Recall: 0.00%, F1: 0.00%\n",
      "Class 12: Precision: 0.00%, Recall: 0.00%, F1: 0.00%\n",
      "Class 13: Precision: 0.00%, Recall: 0.00%, F1: 0.00%\n",
      "Class 14: Precision: 0.00%, Recall: 0.00%, F1: 0.00%\n",
      "Class 15: Precision: 0.00%, Recall: 0.00%, F1: 0.00%\n",
      "Class 16: Precision: 0.00%, Recall: 0.00%, F1: 0.00%\n",
      "Class 17: Precision: 0.00%, Recall: 0.00%, F1: 0.00%\n",
      "Class 18: Precision: 0.00%, Recall: 0.00%, F1: 0.00%\n",
      "Class 19: Precision: 0.00%, Recall: 0.00%, F1: 0.00%\n",
      "Class 20: Precision: 0.00%, Recall: 0.00%, F1: 0.00%\n",
      "Class 21: Precision: 0.00%, Recall: 0.00%, F1: 0.00%\n",
      "Class 22: Precision: 62.64%, Recall: 64.55%, F1: 63.58%\n",
      "Class 23: Precision: 0.00%, Recall: 0.00%, F1: 0.00%\n",
      "Class 24: Precision: 0.00%, Recall: 0.00%, F1: 0.00%\n",
      "Class 25: Precision: 0.00%, Recall: 0.00%, F1: 0.00%\n",
      "Class 26: Precision: 0.00%, Recall: 0.00%, F1: 0.00%\n",
      "Class 27: Precision: 0.00%, Recall: 0.00%, F1: 0.00%\n",
      "Average Precision: 12.599%\n",
      "Average Recall: 12.344%\n",
      "Average F1: 12.447%\n",
      "\n",
      "Weighted Precision: 70.639%\n",
      "Weighted Recall: 67.454%\n",
      "Weighted F1: 69.010%\n"
     ]
    },
    {
     "name": "stderr",
     "output_type": "stream",
     "text": [
      "C:\\Users\\eozoszy\\AppData\\Local\\Temp\\ipykernel_20352\\1128418758.py:31: RuntimeWarning: invalid value encountered in divide\n",
      "  precision = TP / (TP + FP)\n",
      "C:\\Users\\eozoszy\\AppData\\Local\\Temp\\ipykernel_20352\\1128418758.py:32: RuntimeWarning: invalid value encountered in divide\n",
      "  recall = TP / (TP + FN)\n"
     ]
    }
   ],
   "source": [
    "model.load_state_dict(torch.load('model_dicom_kp_right_3.pth', map_location=device))\n",
    "precision, recall, f1, precision_weighted, recall_weighted, f1_weighted = compute_precision_recall_f1(model, val_loader, device)\n",
    "\n",
    "if np.isnan(precision).any():\n",
    "    precision = np.nan_to_num(precision)\n",
    "if np.isnan(recall).any():\n",
    "    recall = np.nan_to_num(recall)\n",
    "if np.isnan(f1).any():\n",
    "    f1 = np.nan_to_num(f1)\n",
    "\n",
    "for i in range(28):\n",
    "    print(f'Class {i}: Precision: {precision[i] * 100:.2f}%, Recall: {recall[i] * 100:.2f}%, F1: {f1[i] * 100:.2f}%')\n",
    "\n",
    "print(f'Average Precision: {np.mean(precision) * 100:.3f}%')\n",
    "print(f'Average Recall: {np.mean(recall) * 100:.3f}%')\n",
    "print(f'Average F1: {np.mean(f1) * 100:.3f}%')\n",
    "print()\n",
    "print(f'Weighted Precision: {precision_weighted * 100:.3f}%')\n",
    "print(f'Weighted Recall: {recall_weighted * 100:.3f}%')\n",
    "print(f'Weighted F1: {f1_weighted * 100:.3f}%')"
   ]
  },
  {
   "cell_type": "code",
   "execution_count": 12,
   "metadata": {},
   "outputs": [
    {
     "name": "stderr",
     "output_type": "stream",
     "text": [
      "C:\\Users\\eozoszy\\AppData\\Local\\Temp\\ipykernel_20352\\2524150286.py:4: FutureWarning: You are using `torch.load` with `weights_only=False` (the current default value), which uses the default pickle module implicitly. It is possible to construct malicious pickle data which will execute arbitrary code during unpickling (See https://github.com/pytorch/pytorch/blob/main/SECURITY.md#untrusted-models for more details). In a future release, the default value for `weights_only` will be flipped to `True`. This limits the functions that could be executed during unpickling. Arbitrary objects will no longer be allowed to be loaded via this mode unless they are explicitly allowlisted by the user via `torch.serialization.add_safe_globals`. We recommend you start setting `weights_only=True` for any use case where you don't have full control of the loaded file. Please open an issue on GitHub for any issues related to this experimental feature.\n",
      "  model.load_state_dict(torch.load('model_dicom_kp_right_4.pth', map_location=device))\n"
     ]
    },
    {
     "name": "stdout",
     "output_type": "stream",
     "text": [
      "Train Accuracy: 97.19%\n",
      "Train Accuracy Clear: 23.37%\n",
      "\n",
      "Validation Accuracy: 97.13%\n",
      "Validation Accuracy Clear: 23.51%\n"
     ]
    }
   ],
   "source": [
    "# learning_rate = 1.8, dropout_rate = 0.3 \n",
    "device = torch.device('cuda' if torch.cuda.is_available() else 'cpu')\n",
    "model = UNet().to(device)\n",
    "model.load_state_dict(torch.load('model_dicom_kp_right_4.pth', map_location=device))\n",
    "\n",
    "train_accuracy = compute_accuracy(model, train_loader, device)\n",
    "val_accuracy = compute_accuracy(model, val_loader, device)\n",
    "\n",
    "print(f'Train Accuracy: {train_accuracy[0] * 100 :.2f}%')\n",
    "print(f'Train Accuracy Clear: {train_accuracy[1] * 100 :.2f}%')\n",
    "print()\n",
    "print(f'Validation Accuracy: {val_accuracy[0] * 100 :.2f}%')\n",
    "print(f'Validation Accuracy Clear: {val_accuracy[1] * 100 :.2f}%')"
   ]
  },
  {
   "cell_type": "code",
   "execution_count": 13,
   "metadata": {},
   "outputs": [
    {
     "name": "stderr",
     "output_type": "stream",
     "text": [
      "C:\\Users\\eozoszy\\AppData\\Local\\Temp\\ipykernel_20352\\1461690894.py:1: FutureWarning: You are using `torch.load` with `weights_only=False` (the current default value), which uses the default pickle module implicitly. It is possible to construct malicious pickle data which will execute arbitrary code during unpickling (See https://github.com/pytorch/pytorch/blob/main/SECURITY.md#untrusted-models for more details). In a future release, the default value for `weights_only` will be flipped to `True`. This limits the functions that could be executed during unpickling. Arbitrary objects will no longer be allowed to be loaded via this mode unless they are explicitly allowlisted by the user via `torch.serialization.add_safe_globals`. We recommend you start setting `weights_only=True` for any use case where you don't have full control of the loaded file. Please open an issue on GitHub for any issues related to this experimental feature.\n",
      "  model.load_state_dict(torch.load('model_dicom_kp_right_4.pth', map_location=device))\n"
     ]
    },
    {
     "name": "stdout",
     "output_type": "stream",
     "text": [
      "Class 0: Precision: 0.00%, Recall: 0.00%, F1: 0.00%\n",
      "Class 1: Precision: 41.33%, Recall: 12.44%, F1: 19.13%\n",
      "Class 2: Precision: 50.11%, Recall: 36.62%, F1: 42.31%\n",
      "Class 3: Precision: 36.65%, Recall: 53.17%, F1: 43.39%\n",
      "Class 4: Precision: 0.00%, Recall: 0.00%, F1: 0.00%\n",
      "Class 5: Precision: 0.00%, Recall: 0.00%, F1: 0.00%\n",
      "Class 6: Precision: 0.00%, Recall: 0.00%, F1: 0.00%\n",
      "Class 7: Precision: 0.00%, Recall: 0.00%, F1: 0.00%\n",
      "Class 8: Precision: 0.00%, Recall: 0.00%, F1: 0.00%\n",
      "Class 9: Precision: 0.00%, Recall: 0.00%, F1: 0.00%\n",
      "Class 10: Precision: 0.00%, Recall: 0.00%, F1: 0.00%\n",
      "Class 11: Precision: 0.00%, Recall: 0.00%, F1: 0.00%\n",
      "Class 12: Precision: 0.00%, Recall: 0.00%, F1: 0.00%\n",
      "Class 13: Precision: 0.00%, Recall: 0.00%, F1: 0.00%\n",
      "Class 14: Precision: 0.00%, Recall: 0.00%, F1: 0.00%\n",
      "Class 15: Precision: 0.00%, Recall: 0.00%, F1: 0.00%\n",
      "Class 16: Precision: 0.00%, Recall: 0.00%, F1: 0.00%\n",
      "Class 17: Precision: 0.00%, Recall: 0.00%, F1: 0.00%\n",
      "Class 18: Precision: 0.00%, Recall: 0.00%, F1: 0.00%\n",
      "Class 19: Precision: 0.00%, Recall: 0.00%, F1: 0.00%\n",
      "Class 20: Precision: 0.00%, Recall: 0.00%, F1: 0.00%\n",
      "Class 21: Precision: 0.00%, Recall: 0.00%, F1: 0.00%\n",
      "Class 22: Precision: 32.16%, Recall: 8.91%, F1: 13.95%\n",
      "Class 23: Precision: 0.00%, Recall: 0.00%, F1: 0.00%\n",
      "Class 24: Precision: 0.00%, Recall: 0.00%, F1: 0.00%\n",
      "Class 25: Precision: 0.00%, Recall: 0.00%, F1: 0.00%\n",
      "Class 26: Precision: 0.00%, Recall: 0.00%, F1: 0.00%\n",
      "Class 27: Precision: 0.00%, Recall: 0.00%, F1: 0.00%\n",
      "Average Precision: 5.723%\n",
      "Average Recall: 3.969%\n",
      "Average F1: 4.242%\n",
      "\n",
      "Weighted Precision: 40.343%\n",
      "Weighted Recall: 23.507%\n",
      "Weighted F1: 29.705%\n"
     ]
    },
    {
     "name": "stderr",
     "output_type": "stream",
     "text": [
      "C:\\Users\\eozoszy\\AppData\\Local\\Temp\\ipykernel_20352\\1128418758.py:31: RuntimeWarning: invalid value encountered in divide\n",
      "  precision = TP / (TP + FP)\n",
      "C:\\Users\\eozoszy\\AppData\\Local\\Temp\\ipykernel_20352\\1128418758.py:32: RuntimeWarning: invalid value encountered in divide\n",
      "  recall = TP / (TP + FN)\n"
     ]
    }
   ],
   "source": [
    "model.load_state_dict(torch.load('model_dicom_kp_right_4.pth', map_location=device))\n",
    "precision, recall, f1, precision_weighted, recall_weighted, f1_weighted = compute_precision_recall_f1(model, val_loader, device)\n",
    "\n",
    "if np.isnan(precision).any():\n",
    "    precision = np.nan_to_num(precision)\n",
    "if np.isnan(recall).any():\n",
    "    recall = np.nan_to_num(recall)\n",
    "if np.isnan(f1).any():\n",
    "    f1 = np.nan_to_num(f1)\n",
    "\n",
    "for i in range(28):\n",
    "    print(f'Class {i}: Precision: {precision[i] * 100:.2f}%, Recall: {recall[i] * 100:.2f}%, F1: {f1[i] * 100:.2f}%')\n",
    "\n",
    "print(f'Average Precision: {np.mean(precision) * 100:.3f}%')\n",
    "print(f'Average Recall: {np.mean(recall) * 100:.3f}%')\n",
    "print(f'Average F1: {np.mean(f1) * 100:.3f}%')\n",
    "print()\n",
    "print(f'Weighted Precision: {precision_weighted * 100:.3f}%')\n",
    "print(f'Weighted Recall: {recall_weighted * 100:.3f}%')\n",
    "print(f'Weighted F1: {f1_weighted * 100:.3f}%')"
   ]
  },
  {
   "cell_type": "code",
   "execution_count": 14,
   "metadata": {},
   "outputs": [
    {
     "name": "stderr",
     "output_type": "stream",
     "text": [
      "C:\\Users\\eozoszy\\AppData\\Local\\Temp\\ipykernel_20352\\2817659962.py:4: FutureWarning: You are using `torch.load` with `weights_only=False` (the current default value), which uses the default pickle module implicitly. It is possible to construct malicious pickle data which will execute arbitrary code during unpickling (See https://github.com/pytorch/pytorch/blob/main/SECURITY.md#untrusted-models for more details). In a future release, the default value for `weights_only` will be flipped to `True`. This limits the functions that could be executed during unpickling. Arbitrary objects will no longer be allowed to be loaded via this mode unless they are explicitly allowlisted by the user via `torch.serialization.add_safe_globals`. We recommend you start setting `weights_only=True` for any use case where you don't have full control of the loaded file. Please open an issue on GitHub for any issues related to this experimental feature.\n",
      "  model.load_state_dict(torch.load('model_dicom_kp_right_5.pth', map_location=device))\n"
     ]
    },
    {
     "name": "stdout",
     "output_type": "stream",
     "text": [
      "Train Accuracy: 98.43%\n",
      "Train Accuracy Clear: 63.66%\n",
      "\n",
      "Validation Accuracy: 98.36%\n",
      "Validation Accuracy Clear: 61.56%\n"
     ]
    }
   ],
   "source": [
    "# learning_rate = 1.2, dropout_rate = 0.3 \n",
    "device = torch.device('cuda' if torch.cuda.is_available() else 'cpu')\n",
    "model = UNet().to(device)\n",
    "model.load_state_dict(torch.load('model_dicom_kp_right_5.pth', map_location=device))\n",
    "\n",
    "train_accuracy = compute_accuracy(model, train_loader, device)\n",
    "val_accuracy = compute_accuracy(model, val_loader, device)\n",
    "\n",
    "print(f'Train Accuracy: {train_accuracy[0] * 100 :.2f}%')\n",
    "print(f'Train Accuracy Clear: {train_accuracy[1] * 100 :.2f}%')\n",
    "print()\n",
    "print(f'Validation Accuracy: {val_accuracy[0] * 100 :.2f}%')\n",
    "print(f'Validation Accuracy Clear: {val_accuracy[1] * 100 :.2f}%')"
   ]
  },
  {
   "cell_type": "code",
   "execution_count": 16,
   "metadata": {},
   "outputs": [
    {
     "name": "stderr",
     "output_type": "stream",
     "text": [
      "C:\\Users\\eozoszy\\AppData\\Local\\Temp\\ipykernel_20352\\2817659962.py:4: FutureWarning: You are using `torch.load` with `weights_only=False` (the current default value), which uses the default pickle module implicitly. It is possible to construct malicious pickle data which will execute arbitrary code during unpickling (See https://github.com/pytorch/pytorch/blob/main/SECURITY.md#untrusted-models for more details). In a future release, the default value for `weights_only` will be flipped to `True`. This limits the functions that could be executed during unpickling. Arbitrary objects will no longer be allowed to be loaded via this mode unless they are explicitly allowlisted by the user via `torch.serialization.add_safe_globals`. We recommend you start setting `weights_only=True` for any use case where you don't have full control of the loaded file. Please open an issue on GitHub for any issues related to this experimental feature.\n",
      "  model.load_state_dict(torch.load('model_dicom_kp_right_5.pth', map_location=device))\n"
     ]
    },
    {
     "name": "stdout",
     "output_type": "stream",
     "text": [
      "Train Accuracy: 98.86%\n",
      "Train Accuracy Clear: 77.31%\n",
      "\n",
      "Validation Accuracy: 98.65%\n",
      "Validation Accuracy Clear: 71.16%\n"
     ]
    }
   ],
   "source": [
    "# learning_rate = 1.2, dropout_rate = 0.3 \n",
    "device = torch.device('cuda' if torch.cuda.is_available() else 'cpu')\n",
    "model = UNet().to(device)\n",
    "model.load_state_dict(torch.load('model_dicom_kp_right_5.pth', map_location=device))\n",
    "\n",
    "train_accuracy = compute_accuracy(model, train_loader, device)\n",
    "val_accuracy = compute_accuracy(model, val_loader, device)\n",
    "\n",
    "print(f'Train Accuracy: {train_accuracy[0] * 100 :.2f}%')\n",
    "print(f'Train Accuracy Clear: {train_accuracy[1] * 100 :.2f}%')\n",
    "print()\n",
    "print(f'Validation Accuracy: {val_accuracy[0] * 100 :.2f}%')\n",
    "print(f'Validation Accuracy Clear: {val_accuracy[1] * 100 :.2f}%')"
   ]
  },
  {
   "cell_type": "code",
   "execution_count": 46,
   "metadata": {},
   "outputs": [
    {
     "name": "stderr",
     "output_type": "stream",
     "text": [
      "C:\\Users\\eozoszy\\AppData\\Local\\Temp\\ipykernel_20352\\3788971074.py:1: FutureWarning: You are using `torch.load` with `weights_only=False` (the current default value), which uses the default pickle module implicitly. It is possible to construct malicious pickle data which will execute arbitrary code during unpickling (See https://github.com/pytorch/pytorch/blob/main/SECURITY.md#untrusted-models for more details). In a future release, the default value for `weights_only` will be flipped to `True`. This limits the functions that could be executed during unpickling. Arbitrary objects will no longer be allowed to be loaded via this mode unless they are explicitly allowlisted by the user via `torch.serialization.add_safe_globals`. We recommend you start setting `weights_only=True` for any use case where you don't have full control of the loaded file. Please open an issue on GitHub for any issues related to this experimental feature.\n",
      "  model.load_state_dict(torch.load('model_dicom_kp_right_5.pth', map_location=device))\n"
     ]
    },
    {
     "name": "stdout",
     "output_type": "stream",
     "text": [
      "Class 0: Precision: 0.00%, Recall: 0.00%, F1: 0.00%\n",
      "Class 1: Precision: 81.65%, Recall: 77.36%, F1: 79.45%\n",
      "Class 2: Precision: 72.63%, Recall: 74.32%, F1: 73.47%\n",
      "Class 3: Precision: 80.34%, Recall: 76.22%, F1: 78.22%\n",
      "Class 4: Precision: 69.76%, Recall: 70.26%, F1: 70.01%\n",
      "Class 5: Precision: 0.00%, Recall: 0.00%, F1: 0.00%\n",
      "Class 6: Precision: 0.00%, Recall: 0.00%, F1: 0.00%\n",
      "Class 7: Precision: 0.00%, Recall: 0.00%, F1: 0.00%\n",
      "Class 8: Precision: 0.00%, Recall: 0.00%, F1: 0.00%\n",
      "Class 9: Precision: 0.00%, Recall: 0.00%, F1: 0.00%\n",
      "Class 10: Precision: 0.00%, Recall: 0.00%, F1: 0.00%\n",
      "Class 11: Precision: 0.00%, Recall: 0.00%, F1: 0.00%\n",
      "Class 12: Precision: 0.00%, Recall: 0.00%, F1: 0.00%\n",
      "Class 13: Precision: 0.00%, Recall: 0.00%, F1: 0.00%\n",
      "Class 14: Precision: 0.00%, Recall: 0.00%, F1: 0.00%\n",
      "Class 15: Precision: 0.00%, Recall: 0.00%, F1: 0.00%\n",
      "Class 16: Precision: 0.00%, Recall: 0.00%, F1: 0.00%\n",
      "Class 17: Precision: 0.00%, Recall: 0.00%, F1: 0.00%\n",
      "Class 18: Precision: 0.00%, Recall: 0.00%, F1: 0.00%\n",
      "Class 19: Precision: 0.00%, Recall: 0.00%, F1: 0.00%\n",
      "Class 20: Precision: 0.00%, Recall: 0.00%, F1: 0.00%\n",
      "Class 21: Precision: 0.00%, Recall: 0.00%, F1: 0.00%\n",
      "Class 22: Precision: 70.03%, Recall: 67.11%, F1: 68.54%\n",
      "Class 23: Precision: 0.00%, Recall: 0.00%, F1: 0.00%\n",
      "Class 24: Precision: 0.00%, Recall: 0.00%, F1: 0.00%\n",
      "Class 25: Precision: 0.00%, Recall: 0.00%, F1: 0.00%\n",
      "Class 26: Precision: 0.00%, Recall: 0.00%, F1: 0.00%\n",
      "Class 27: Precision: 0.00%, Recall: 0.00%, F1: 0.00%\n",
      "Average Precision: 13.372%\n",
      "Average Recall: 13.045%\n",
      "Average F1: 13.203%\n",
      "\n",
      "Weighted Precision: 75.220%\n",
      "Weighted Recall: 71.160%\n",
      "Weighted F1: 73.134%\n"
     ]
    },
    {
     "name": "stderr",
     "output_type": "stream",
     "text": [
      "C:\\Users\\eozoszy\\AppData\\Local\\Temp\\ipykernel_20352\\1128418758.py:31: RuntimeWarning: invalid value encountered in divide\n",
      "  precision = TP / (TP + FP)\n",
      "C:\\Users\\eozoszy\\AppData\\Local\\Temp\\ipykernel_20352\\1128418758.py:32: RuntimeWarning: invalid value encountered in divide\n",
      "  recall = TP / (TP + FN)\n"
     ]
    }
   ],
   "source": [
    "model.load_state_dict(torch.load('model_dicom_kp_right_5.pth', map_location=device))\n",
    "precision, recall, f1, precision_weighted, recall_weighted, f1_weighted = compute_precision_recall_f1(model, val_loader, device)\n",
    "\n",
    "if np.isnan(precision).any():\n",
    "    precision = np.nan_to_num(precision)\n",
    "if np.isnan(recall).any():\n",
    "    recall = np.nan_to_num(recall)\n",
    "if np.isnan(f1).any():\n",
    "    f1 = np.nan_to_num(f1)\n",
    "\n",
    "for i in range(28):\n",
    "    print(f'Class {i}: Precision: {precision[i] * 100:.2f}%, Recall: {recall[i] * 100:.2f}%, F1: {f1[i] * 100:.2f}%')\n",
    "\n",
    "print(f'Average Precision: {np.mean(precision) * 100:.3f}%')\n",
    "print(f'Average Recall: {np.mean(recall) * 100:.3f}%')\n",
    "print(f'Average F1: {np.mean(f1) * 100:.3f}%')\n",
    "print()\n",
    "print(f'Weighted Precision: {precision_weighted * 100:.3f}%')\n",
    "print(f'Weighted Recall: {recall_weighted * 100:.3f}%')\n",
    "print(f'Weighted F1: {f1_weighted * 100:.3f}%')"
   ]
  },
  {
   "cell_type": "code",
   "execution_count": 44,
   "metadata": {},
   "outputs": [
    {
     "name": "stderr",
     "output_type": "stream",
     "text": [
      "C:\\Users\\eozoszy\\AppData\\Local\\Temp\\ipykernel_20352\\160948346.py:4: FutureWarning: You are using `torch.load` with `weights_only=False` (the current default value), which uses the default pickle module implicitly. It is possible to construct malicious pickle data which will execute arbitrary code during unpickling (See https://github.com/pytorch/pytorch/blob/main/SECURITY.md#untrusted-models for more details). In a future release, the default value for `weights_only` will be flipped to `True`. This limits the functions that could be executed during unpickling. Arbitrary objects will no longer be allowed to be loaded via this mode unless they are explicitly allowlisted by the user via `torch.serialization.add_safe_globals`. We recommend you start setting `weights_only=True` for any use case where you don't have full control of the loaded file. Please open an issue on GitHub for any issues related to this experimental feature.\n",
      "  model.load_state_dict(torch.load('model_dicom_kp_right_6.pth', map_location=device))\n"
     ]
    },
    {
     "name": "stdout",
     "output_type": "stream",
     "text": [
      "Train Accuracy: 98.85%\n",
      "Train Accuracy Clear: 79.50%\n",
      "\n",
      "Validation Accuracy: 98.65%\n",
      "Validation Accuracy Clear: 73.11%\n"
     ]
    }
   ],
   "source": [
    "# learning_rate = 1.1, dropout_rate = 0.3 \n",
    "device = torch.device('cuda' if torch.cuda.is_available() else 'cpu')\n",
    "model = UNet().to(device)\n",
    "model.load_state_dict(torch.load('model_dicom_kp_right_6.pth', map_location=device))\n",
    "\n",
    "train_accuracy = compute_accuracy(model, train_loader, device)\n",
    "val_accuracy = compute_accuracy(model, val_loader, device)\n",
    "\n",
    "print(f'Train Accuracy: {train_accuracy[0] * 100 :.2f}%')\n",
    "print(f'Train Accuracy Clear: {train_accuracy[1] * 100 :.2f}%')\n",
    "print()\n",
    "print(f'Validation Accuracy: {val_accuracy[0] * 100 :.2f}%')\n",
    "print(f'Validation Accuracy Clear: {val_accuracy[1] * 100 :.2f}%')"
   ]
  },
  {
   "cell_type": "code",
   "execution_count": 45,
   "metadata": {},
   "outputs": [
    {
     "name": "stderr",
     "output_type": "stream",
     "text": [
      "C:\\Users\\eozoszy\\AppData\\Local\\Temp\\ipykernel_20352\\3183278269.py:1: FutureWarning: You are using `torch.load` with `weights_only=False` (the current default value), which uses the default pickle module implicitly. It is possible to construct malicious pickle data which will execute arbitrary code during unpickling (See https://github.com/pytorch/pytorch/blob/main/SECURITY.md#untrusted-models for more details). In a future release, the default value for `weights_only` will be flipped to `True`. This limits the functions that could be executed during unpickling. Arbitrary objects will no longer be allowed to be loaded via this mode unless they are explicitly allowlisted by the user via `torch.serialization.add_safe_globals`. We recommend you start setting `weights_only=True` for any use case where you don't have full control of the loaded file. Please open an issue on GitHub for any issues related to this experimental feature.\n",
      "  model.load_state_dict(torch.load('model_dicom_kp_right_6.pth', map_location=device))\n"
     ]
    },
    {
     "name": "stdout",
     "output_type": "stream",
     "text": [
      "Class 0: Precision: 0.00%, Recall: 0.00%, F1: 0.00%\n",
      "Class 1: Precision: 80.22%, Recall: 80.83%, F1: 80.52%\n",
      "Class 2: Precision: 70.07%, Recall: 77.12%, F1: 73.42%\n",
      "Class 3: Precision: 76.21%, Recall: 77.64%, F1: 76.92%\n",
      "Class 4: Precision: 70.87%, Recall: 69.57%, F1: 70.21%\n",
      "Class 5: Precision: 0.00%, Recall: 0.00%, F1: 0.00%\n",
      "Class 6: Precision: 0.00%, Recall: 0.00%, F1: 0.00%\n",
      "Class 7: Precision: 0.00%, Recall: 0.00%, F1: 0.00%\n",
      "Class 8: Precision: 0.00%, Recall: 0.00%, F1: 0.00%\n",
      "Class 9: Precision: 0.00%, Recall: 0.00%, F1: 0.00%\n",
      "Class 10: Precision: 0.00%, Recall: 0.00%, F1: 0.00%\n",
      "Class 11: Precision: 0.00%, Recall: 0.00%, F1: 0.00%\n",
      "Class 12: Precision: 0.00%, Recall: 0.00%, F1: 0.00%\n",
      "Class 13: Precision: 0.00%, Recall: 0.00%, F1: 0.00%\n",
      "Class 14: Precision: 0.00%, Recall: 0.00%, F1: 0.00%\n",
      "Class 15: Precision: 0.00%, Recall: 0.00%, F1: 0.00%\n",
      "Class 16: Precision: 0.00%, Recall: 0.00%, F1: 0.00%\n",
      "Class 17: Precision: 0.00%, Recall: 0.00%, F1: 0.00%\n",
      "Class 18: Precision: 0.00%, Recall: 0.00%, F1: 0.00%\n",
      "Class 19: Precision: 0.00%, Recall: 0.00%, F1: 0.00%\n",
      "Class 20: Precision: 0.00%, Recall: 0.00%, F1: 0.00%\n",
      "Class 21: Precision: 0.00%, Recall: 0.00%, F1: 0.00%\n",
      "Class 22: Precision: 69.22%, Recall: 70.05%, F1: 69.63%\n",
      "Class 23: Precision: 0.00%, Recall: 0.00%, F1: 0.00%\n",
      "Class 24: Precision: 0.00%, Recall: 0.00%, F1: 0.00%\n",
      "Class 25: Precision: 0.00%, Recall: 0.00%, F1: 0.00%\n",
      "Class 26: Precision: 0.00%, Recall: 0.00%, F1: 0.00%\n",
      "Class 27: Precision: 0.00%, Recall: 0.00%, F1: 0.00%\n",
      "Average Precision: 13.092%\n",
      "Average Recall: 13.400%\n",
      "Average F1: 13.240%\n",
      "\n",
      "Weighted Precision: 73.540%\n",
      "Weighted Recall: 73.113%\n",
      "Weighted F1: 73.326%\n"
     ]
    },
    {
     "name": "stderr",
     "output_type": "stream",
     "text": [
      "C:\\Users\\eozoszy\\AppData\\Local\\Temp\\ipykernel_20352\\1128418758.py:31: RuntimeWarning: invalid value encountered in divide\n",
      "  precision = TP / (TP + FP)\n",
      "C:\\Users\\eozoszy\\AppData\\Local\\Temp\\ipykernel_20352\\1128418758.py:32: RuntimeWarning: invalid value encountered in divide\n",
      "  recall = TP / (TP + FN)\n"
     ]
    }
   ],
   "source": [
    "model.load_state_dict(torch.load('model_dicom_kp_right_6.pth', map_location=device))\n",
    "precision, recall, f1, precision_weighted, recall_weighted, f1_weighted = compute_precision_recall_f1(model, val_loader, device)\n",
    "\n",
    "if np.isnan(precision).any():\n",
    "    precision = np.nan_to_num(precision)\n",
    "if np.isnan(recall).any():\n",
    "    recall = np.nan_to_num(recall)\n",
    "if np.isnan(f1).any():\n",
    "    f1 = np.nan_to_num(f1)\n",
    "\n",
    "for i in range(28):\n",
    "    print(f'Class {i}: Precision: {precision[i] * 100:.2f}%, Recall: {recall[i] * 100:.2f}%, F1: {f1[i] * 100:.2f}%')\n",
    "\n",
    "print(f'Average Precision: {np.mean(precision) * 100:.3f}%')\n",
    "print(f'Average Recall: {np.mean(recall) * 100:.3f}%')\n",
    "print(f'Average F1: {np.mean(f1) * 100:.3f}%')\n",
    "print()\n",
    "print(f'Weighted Precision: {precision_weighted * 100:.3f}%')\n",
    "print(f'Weighted Recall: {recall_weighted * 100:.3f}%')\n",
    "print(f'Weighted F1: {f1_weighted * 100:.3f}%')"
   ]
  }
 ],
 "metadata": {
  "kernelspec": {
   "display_name": "Python 3",
   "language": "python",
   "name": "python3"
  },
  "language_info": {
   "codemirror_mode": {
    "name": "ipython",
    "version": 3
   },
   "file_extension": ".py",
   "mimetype": "text/x-python",
   "name": "python",
   "nbconvert_exporter": "python",
   "pygments_lexer": "ipython3",
   "version": "3.11.9"
  }
 },
 "nbformat": 4,
 "nbformat_minor": 2
}
