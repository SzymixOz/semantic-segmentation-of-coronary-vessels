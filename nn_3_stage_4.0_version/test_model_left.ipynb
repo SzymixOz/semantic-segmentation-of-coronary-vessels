{
 "cells": [
  {
   "cell_type": "code",
   "execution_count": 2,
   "metadata": {},
   "outputs": [],
   "source": [
    "import os\n",
    "import numpy as np\n",
    "import cv2\n",
    "import torch\n",
    "from torch.utils.data import Dataset, DataLoader\n",
    "from torchvision import transforms\n",
    "\n",
    "\n",
    "class CoronarySmallDataset(Dataset):\n",
    "    def __init__(self, image_dir, keypoint_dir, mask_dir, transform=None):\n",
    "        self.image_dir = image_dir\n",
    "        self.keypoint_dir = keypoint_dir\n",
    "        self.mask_dir = mask_dir\n",
    "        self.transform = transform\n",
    "        self.input = os.listdir(image_dir)\n",
    "\n",
    "    def __len__(self):\n",
    "        return len(self.input)\n",
    "\n",
    "    def __getitem__(self, idx):\n",
    "        SIZE = 256\n",
    "        img_path = os.path.join(self.image_dir, self.input[idx])\n",
    "        keypoint_path = os.path.join(self.keypoint_dir, self.input[idx])\n",
    "        mask_path = os.path.join(self.mask_dir, self.input[idx])\n",
    "        \n",
    "\n",
    "        image = cv2.imread(img_path, cv2.IMREAD_UNCHANGED)\n",
    "        image = cv2.cvtColor(image, cv2.COLOR_RGBA2RGB)\n",
    "        image = cv2.resize(image, (SIZE, SIZE))\n",
    "\n",
    "        keypoint = cv2.imread(keypoint_path, cv2.IMREAD_UNCHANGED)\n",
    "        keypoint = cv2.resize(keypoint, (SIZE, SIZE), interpolation=cv2.INTER_NEAREST)\n",
    "        \n",
    "        keypoint =  np.expand_dims(keypoint, axis=2)\n",
    "        output = np.concatenate((image, keypoint), axis=2)\n",
    "\n",
    "        mask = cv2.imread(mask_path, cv2.IMREAD_UNCHANGED)\n",
    "        mask = cv2.resize(mask, (SIZE, SIZE), interpolation=cv2.INTER_NEAREST)\n",
    "        \n",
    "        if self.transform:\n",
    "            output = self.transform(output)\n",
    "            mask = torch.tensor(mask, dtype=torch.long)\n",
    "        \n",
    "        return output, mask\n",
    "\n",
    "\n",
    "transform = transforms.Compose([\n",
    "    transforms.ToTensor()\n",
    "])\n",
    "\n",
    "train_image_dir = '../images/images_left/images_train/input_dicom'\n",
    "train_keypoint_dir = '../images/images_left/images_train/keypoints'\n",
    "train_mask_dir = '../images/images_left/images_train/output'\n",
    "val_image_dir = '../images/images_left/images_val/input_dicom'\n",
    "val_keypoint_dir = '../images/images_left/images_val/keypoints'\n",
    "val_mask_dir = '../images/images_left/images_val/output'\n",
    "test_image_dir = '../images/images_left/images_test/input_dicom'\n",
    "test_keypoint_dir = '../images/images_left/images_test/keypoints'\n",
    "test_mask_dir = '../images/images_left/images_test/output'\n",
    "\n",
    "train_dataset = CoronarySmallDataset(train_image_dir, train_keypoint_dir, train_mask_dir, transform=transform)\n",
    "val_dataset = CoronarySmallDataset(val_image_dir, val_keypoint_dir, val_mask_dir, transform=transform)\n",
    "test_dataset = CoronarySmallDataset(test_image_dir, test_keypoint_dir, test_mask_dir, transform=transform)\n",
    "\n",
    "train_loader = DataLoader(train_dataset, batch_size=6, shuffle=True)\n",
    "val_loader = DataLoader(val_dataset, batch_size=6, shuffle=False)\n",
    "test_loader = DataLoader(test_dataset, batch_size=6, shuffle=False)\n"
   ]
  },
  {
   "cell_type": "code",
   "execution_count": 3,
   "metadata": {},
   "outputs": [
    {
     "name": "stderr",
     "output_type": "stream",
     "text": [
      "C:\\Users\\eozoszy\\AppData\\Local\\Temp\\ipykernel_35788\\1062337145.py:9: FutureWarning: You are using `torch.load` with `weights_only=False` (the current default value), which uses the default pickle module implicitly. It is possible to construct malicious pickle data which will execute arbitrary code during unpickling (See https://github.com/pytorch/pytorch/blob/main/SECURITY.md#untrusted-models for more details). In a future release, the default value for `weights_only` will be flipped to `True`. This limits the functions that could be executed during unpickling. Arbitrary objects will no longer be allowed to be loaded via this mode unless they are explicitly allowlisted by the user via `torch.serialization.add_safe_globals`. We recommend you start setting `weights_only=True` for any use case where you don't have full control of the loaded file. Please open an issue on GitHub for any issues related to this experimental feature.\n",
      "  model.load_state_dict(torch.load('model_dicom_kp_left_1.pth', map_location=device))\n"
     ]
    }
   ],
   "source": [
    "from converter_RGB import convert_int_to_RGB\n",
    "from large_RGB_model import UNet\n",
    "\n",
    "\n",
    "device = torch.device('cuda' if torch.cuda.is_available() else 'cpu')\n",
    "model = UNet()\n",
    "model = model.to(device)\n",
    "\n",
    "model.load_state_dict(torch.load('model_dicom_kp_left_1.pth', map_location=device))\n",
    "model.eval()\n",
    "\n",
    "def show_image(type, image_name):\n",
    "    dir = f\"..\\images\\images_test\\{type}\"\n",
    "    print(dir)\n",
    "    if type == 'output':\n",
    "        img = cv2.imread(os.path.join(dir, image_name), cv2.IMREAD_UNCHANGED)\n",
    "        # img = img[:, :, 2]\n",
    "        print(\"Oryginalnie: \", np.unique(img))\n",
    "        \n",
    "        # print(\"Po resize: NEAREST\\t  \", np.unique(cv2.resize(img, (256, 256), interpolation=cv2.INTER_NEAREST)))\n",
    "        # cv2.imshow('INTER_NEAREST', cv2.resize(convert_int_to_RGB(cv2.resize(img, (256, 256), interpolation=cv2.INTER_NEAREST)), (512, 512)))\n",
    "        # print(\"Po resize: NEAREST_EXACT  \", np.unique(cv2.resize(img, (256, 256), interpolation=cv2.INTER_NEAREST_EXACT)))\n",
    "        # cv2.imshow('INTER_NEAREST_EXACT', cv2.resize(convert_int_to_RGB(cv2.resize(img, (256, 256), interpolation=cv2.INTER_NEAREST_EXACT)), (512, 512)))\n",
    "        \n",
    "        print(\"Po resize:  \", np.unique(cv2.resize(img, (256, 256))))\n",
    "        # print(img)\n",
    "        img = convert_int_to_RGB(img)\n",
    "        img = cv2.cvtColor(img, cv2.COLOR_BGRA2RGB)\n",
    "    else:\n",
    "        img = cv2.imread(os.path.join(dir, image_name), cv2.IMREAD_UNCHANGED)\n",
    "        # img = img * 7\n",
    "    # img = cv2.resize(img, (256, 256))\n",
    "    # np.set_printoptions(threshold=np.inf)\n",
    "    cv2.imshow(type, img)\n",
    "\n",
    "def predict(image_name):\n",
    "    SIZE = 256\n",
    "    dir = '..\\images\\images_test\\input_dicom'\n",
    "    img = cv2.imread(os.path.join(dir, image_name), cv2.IMREAD_UNCHANGED)\n",
    "    img = cv2.cvtColor(img, cv2.COLOR_RGBA2RGB)\n",
    "    img = cv2.resize(img, (SIZE, SIZE))\n",
    "    \n",
    "    keypoint_path ='..\\images\\images_test\\keypoints'\n",
    "    keypoint = cv2.imread(os.path.join(keypoint_path, image_name), cv2.IMREAD_UNCHANGED)\n",
    "    keypoint = cv2.resize(keypoint, (SIZE, SIZE), interpolation=cv2.INTER_NEAREST)\n",
    "    \n",
    "    keypoint =  np.expand_dims(keypoint, axis=2)\n",
    "    output = np.concatenate((img, keypoint), axis=2)\n",
    "    \n",
    "    output = transforms.ToTensor()(output).unsqueeze(0).to(device)\n",
    "\n",
    "    with torch.no_grad():\n",
    "        pred = model.predict(output)\n",
    "        pred = pred.squeeze().cpu().numpy()\n",
    "    print(\"Z sieci:    \", np.unique(pred))\n",
    "\n",
    "    pred_image = convert_int_to_RGB(pred)\n",
    "    pred_image = cv2.resize(pred_image, (512, 512))\n",
    "    pred_image = cv2.cvtColor(pred_image, cv2.COLOR_BGR2RGB)\n",
    "    cv2.imshow('pred', pred_image)\n",
    "    cv2.waitKey(0)\n",
    "   "
   ]
  },
  {
   "cell_type": "code",
   "execution_count": 10,
   "metadata": {},
   "outputs": [
    {
     "name": "stdout",
     "output_type": "stream",
     "text": [
      "..\\images\\images_test\\input_dicom\n",
      "..\\images\\images_test\\output\n",
      "Oryginalnie:  [ 0  5  6  7  8 13 15 17 18]\n",
      "Po resize:   [ 0  1  2  3  4  5  6  7  8  9 10 11 12 13 14 15 16 17 18]\n",
      "Z sieci:     [ 0  2  3  4  5  6  7  8  9 13 15 17 18 22]\n"
     ]
    }
   ],
   "source": [
    "# image_name = \"131aedfhs6pnf1fvtvp49mhdb2fucqzo22_29.png\"\n",
    "image_name = \"131aedfhs6pnf1fvtvp49mld7mqexnz322_36.png\"\n",
    "# image_name = \"131aedfhs6pnf1fvtvp49mia892s56cf22_28.png\"\n",
    "# image_name = \"131aedfhs6pnf1fvtvp49juwu7plj9dv22_40.png\"\n",
    "# image_name = \"13c2ur549vohc0jat2dvu3xs7q1_18.png\"\n",
    "# image_name = \"131aedfhs6pnf1fvtvp49mi8hml81goj22_37.png\"\n",
    "\n",
    "# treningowe\n",
    "# image_name = \"13c2ur549vohc0jat2e6y42xk11_31.png\"\n",
    "# image_name = \"131aedfhs6pnf1fvtvp49jstof8iams322_36.png\"\n",
    "# image_name = \"131aedfhs6pnf1fvtvp49mff2plx3rdw22_24.png\"\n",
    "show_image(\"input_dicom\", image_name)\n",
    "show_image(\"output\", image_name)\n",
    "predict(image_name)"
   ]
  },
  {
   "cell_type": "code",
   "execution_count": 4,
   "metadata": {},
   "outputs": [],
   "source": [
    "from sklearn.metrics import precision_score, recall_score, f1_score\n",
    "\n",
    "\n",
    "def compute_accuracy(model, data_loader, device):\n",
    "    model.eval()\n",
    "    correct = 0\n",
    "    correct_clear = 0\n",
    "    total = 0\n",
    "    total_clear = 0\n",
    "\n",
    "    with torch.no_grad():\n",
    "        for images, masks in data_loader:\n",
    "            images = images.to(device)\n",
    "            masks = masks.to(device)\n",
    "\n",
    "            preds = model.predict(images)\n",
    "            \n",
    "            correct += (preds == masks).sum().item()\n",
    "            correct_clear += (preds[masks != 0] == masks[masks != 0]).sum().item()\n",
    "            total += masks.numel()\n",
    "            total_clear += masks[masks != 0].numel()\n",
    "\n",
    "    accuracy = correct / total\n",
    "    accuracy_clear = correct_clear / total_clear\n",
    "    return accuracy, accuracy_clear"
   ]
  },
  {
   "cell_type": "code",
   "execution_count": 5,
   "metadata": {},
   "outputs": [],
   "source": [
    "def compute_precision_recall_f1(model, data_loader, device, num_classes=28):\n",
    "    model.eval()\n",
    "    all_preds = []\n",
    "    all_targets = []\n",
    "\n",
    "    with torch.no_grad():\n",
    "        for images, masks in data_loader:\n",
    "            images = images.to(device)\n",
    "            masks = masks.to(device)\n",
    "\n",
    "            preds = model.predict(images)\n",
    "            \n",
    "            all_preds.append(preds.view(-1).cpu().numpy())\n",
    "            all_targets.append(masks.view(-1).cpu().numpy())\n",
    "\n",
    "    all_preds = np.concatenate(all_preds)\n",
    "    all_targets = np.concatenate(all_targets)\n",
    "\n",
    "    TP = np.zeros(num_classes)\n",
    "    FP = np.zeros(num_classes)\n",
    "    FN = np.zeros(num_classes)\n",
    "\n",
    "    for i in range(num_classes):\n",
    "        TP[i] = ((all_preds == i) & (all_targets == i)).sum()\n",
    "        FP[i] = ((all_preds == i) & (all_targets != i)).sum()\n",
    "        FN[i] = ((all_preds != i) & (all_targets == i)).sum()\n",
    "    \n",
    "    TP[0], FP[0], FN[0] = 0, 0, 0\n",
    "    # print(TP, FP, FN)\n",
    "\n",
    "    precision = TP / (TP + FP)\n",
    "    recall = TP / (TP + FN)\n",
    "    f1 = 2 * precision * recall / (precision + recall)\n",
    "    # print(TP.sum(), FP.sum(), FN.sum())\n",
    "\n",
    "    precision_weighted = TP.sum() / (TP.sum() + FP.sum())\n",
    "    recall_weighted = TP.sum() / (TP.sum() + FN.sum())\n",
    "    f1_weighted = 2 * precision_weighted * recall_weighted / (precision_weighted + recall_weighted)\n",
    "\n",
    "    return precision, recall, f1, precision_weighted, recall_weighted, f1_weighted"
   ]
  },
  {
   "cell_type": "code",
   "execution_count": 6,
   "metadata": {},
   "outputs": [
    {
     "name": "stderr",
     "output_type": "stream",
     "text": [
      "C:\\Users\\eozoszy\\AppData\\Local\\Temp\\ipykernel_35788\\1136538210.py:4: FutureWarning: You are using `torch.load` with `weights_only=False` (the current default value), which uses the default pickle module implicitly. It is possible to construct malicious pickle data which will execute arbitrary code during unpickling (See https://github.com/pytorch/pytorch/blob/main/SECURITY.md#untrusted-models for more details). In a future release, the default value for `weights_only` will be flipped to `True`. This limits the functions that could be executed during unpickling. Arbitrary objects will no longer be allowed to be loaded via this mode unless they are explicitly allowlisted by the user via `torch.serialization.add_safe_globals`. We recommend you start setting `weights_only=True` for any use case where you don't have full control of the loaded file. Please open an issue on GitHub for any issues related to this experimental feature.\n",
      "  model.load_state_dict(torch.load('model_dicom_kp_left_1.pth', map_location=device))\n"
     ]
    },
    {
     "name": "stdout",
     "output_type": "stream",
     "text": [
      "Train Accuracy: 97.18%\n",
      "Train Accuracy Clear: 60.50%\n",
      "\n",
      "Validation Accuracy: 96.39%\n",
      "Validation Accuracy Clear: 48.56%\n"
     ]
    }
   ],
   "source": [
    "# learning_rate = 2.4, dropout_rate = 0.2\n",
    "device = torch.device('cuda' if torch.cuda.is_available() else 'cpu')\n",
    "model = UNet().to(device)\n",
    "model.load_state_dict(torch.load('model_dicom_kp_left_1.pth', map_location=device))\n",
    "\n",
    "train_accuracy = compute_accuracy(model, train_loader, device)\n",
    "val_accuracy = compute_accuracy(model, val_loader, device)\n",
    "\n",
    "print(f'Train Accuracy: {train_accuracy[0] * 100 :.2f}%')\n",
    "print(f'Train Accuracy Clear: {train_accuracy[1] * 100 :.2f}%')\n",
    "print()\n",
    "print(f'Validation Accuracy: {val_accuracy[0] * 100 :.2f}%')\n",
    "print(f'Validation Accuracy Clear: {val_accuracy[1] * 100 :.2f}%')"
   ]
  },
  {
   "cell_type": "code",
   "execution_count": 7,
   "metadata": {},
   "outputs": [
    {
     "name": "stderr",
     "output_type": "stream",
     "text": [
      "C:\\Users\\eozoszy\\AppData\\Local\\Temp\\ipykernel_35788\\2960608092.py:1: FutureWarning: You are using `torch.load` with `weights_only=False` (the current default value), which uses the default pickle module implicitly. It is possible to construct malicious pickle data which will execute arbitrary code during unpickling (See https://github.com/pytorch/pytorch/blob/main/SECURITY.md#untrusted-models for more details). In a future release, the default value for `weights_only` will be flipped to `True`. This limits the functions that could be executed during unpickling. Arbitrary objects will no longer be allowed to be loaded via this mode unless they are explicitly allowlisted by the user via `torch.serialization.add_safe_globals`. We recommend you start setting `weights_only=True` for any use case where you don't have full control of the loaded file. Please open an issue on GitHub for any issues related to this experimental feature.\n",
      "  model.load_state_dict(torch.load('model_dicom_kp_left_1.pth', map_location=device))\n"
     ]
    },
    {
     "name": "stdout",
     "output_type": "stream",
     "text": [
      "Class 0: Precision: 0.00%, Recall: 0.00%, F1: 0.00%\n",
      "Class 1: Precision: 0.00%, Recall: 0.00%, F1: 0.00%\n",
      "Class 2: Precision: 0.00%, Recall: 0.00%, F1: 0.00%\n",
      "Class 3: Precision: 0.00%, Recall: 0.00%, F1: 0.00%\n",
      "Class 4: Precision: 0.00%, Recall: 0.00%, F1: 0.00%\n",
      "Class 5: Precision: 79.79%, Recall: 85.19%, F1: 82.40%\n",
      "Class 6: Precision: 64.47%, Recall: 64.19%, F1: 64.33%\n",
      "Class 7: Precision: 64.86%, Recall: 60.11%, F1: 62.40%\n",
      "Class 8: Precision: 62.20%, Recall: 57.11%, F1: 59.55%\n",
      "Class 9: Precision: 34.79%, Recall: 53.93%, F1: 42.30%\n",
      "Class 10: Precision: 0.00%, Recall: 0.00%, F1: 0.00%\n",
      "Class 11: Precision: 0.00%, Recall: 0.00%, F1: 0.00%\n",
      "Class 12: Precision: 0.00%, Recall: 0.00%, F1: 0.00%\n",
      "Class 13: Precision: 58.67%, Recall: 60.24%, F1: 59.45%\n",
      "Class 14: Precision: 0.00%, Recall: 0.00%, F1: 0.00%\n",
      "Class 15: Precision: 39.52%, Recall: 54.40%, F1: 45.78%\n",
      "Class 16: Precision: 12.52%, Recall: 9.05%, F1: 10.51%\n",
      "Class 17: Precision: 58.49%, Recall: 63.52%, F1: 60.90%\n",
      "Class 18: Precision: 17.82%, Recall: 3.15%, F1: 5.35%\n",
      "Class 19: Precision: 0.00%, Recall: 0.00%, F1: 0.00%\n",
      "Class 20: Precision: 0.00%, Recall: 0.00%, F1: 0.00%\n",
      "Class 21: Precision: 0.00%, Recall: 0.00%, F1: 0.00%\n",
      "Class 22: Precision: 0.00%, Recall: 0.00%, F1: 0.00%\n",
      "Class 23: Precision: 0.00%, Recall: 0.00%, F1: 0.00%\n",
      "Class 24: Precision: 0.00%, Recall: 0.00%, F1: 0.00%\n",
      "Class 25: Precision: 0.00%, Recall: 0.00%, F1: 0.00%\n",
      "Class 26: Precision: 0.00%, Recall: 0.00%, F1: 0.00%\n",
      "Class 27: Precision: 0.00%, Recall: 0.00%, F1: 0.00%\n",
      "Average Precision: 17.612%\n",
      "Average Recall: 18.246%\n",
      "Average F1: 17.606%\n",
      "\n",
      "Weighted Precision: 52.550%\n",
      "Weighted Recall: 48.556%\n",
      "Weighted F1: 50.474%\n"
     ]
    },
    {
     "name": "stderr",
     "output_type": "stream",
     "text": [
      "C:\\Users\\eozoszy\\AppData\\Local\\Temp\\ipykernel_35788\\1128418758.py:31: RuntimeWarning: invalid value encountered in divide\n",
      "  precision = TP / (TP + FP)\n",
      "C:\\Users\\eozoszy\\AppData\\Local\\Temp\\ipykernel_35788\\1128418758.py:32: RuntimeWarning: invalid value encountered in divide\n",
      "  recall = TP / (TP + FN)\n",
      "C:\\Users\\eozoszy\\AppData\\Local\\Temp\\ipykernel_35788\\1128418758.py:33: RuntimeWarning: invalid value encountered in divide\n",
      "  f1 = 2 * precision * recall / (precision + recall)\n"
     ]
    }
   ],
   "source": [
    "model.load_state_dict(torch.load('model_dicom_kp_left_1.pth', map_location=device))\n",
    "precision, recall, f1, precision_weighted, recall_weighted, f1_weighted = compute_precision_recall_f1(model, val_loader, device)\n",
    "\n",
    "if np.isnan(precision).any():\n",
    "    precision = np.nan_to_num(precision)\n",
    "if np.isnan(recall).any():\n",
    "    recall = np.nan_to_num(recall)\n",
    "if np.isnan(f1).any():\n",
    "    f1 = np.nan_to_num(f1)\n",
    "\n",
    "for i in range(28):\n",
    "    print(f'Class {i}: Precision: {precision[i] * 100:.2f}%, Recall: {recall[i] * 100:.2f}%, F1: {f1[i] * 100:.2f}%')\n",
    "\n",
    "print(f'Average Precision: {np.mean(precision) * 100:.3f}%')\n",
    "print(f'Average Recall: {np.mean(recall) * 100:.3f}%')\n",
    "print(f'Average F1: {np.mean(f1) * 100:.3f}%')\n",
    "print()\n",
    "print(f'Weighted Precision: {precision_weighted * 100:.3f}%')\n",
    "print(f'Weighted Recall: {recall_weighted * 100:.3f}%')\n",
    "print(f'Weighted F1: {f1_weighted * 100:.3f}%')"
   ]
  },
  {
   "cell_type": "code",
   "execution_count": 8,
   "metadata": {},
   "outputs": [
    {
     "name": "stderr",
     "output_type": "stream",
     "text": [
      "C:\\Users\\eozoszy\\AppData\\Local\\Temp\\ipykernel_35788\\2273074047.py:4: FutureWarning: You are using `torch.load` with `weights_only=False` (the current default value), which uses the default pickle module implicitly. It is possible to construct malicious pickle data which will execute arbitrary code during unpickling (See https://github.com/pytorch/pytorch/blob/main/SECURITY.md#untrusted-models for more details). In a future release, the default value for `weights_only` will be flipped to `True`. This limits the functions that could be executed during unpickling. Arbitrary objects will no longer be allowed to be loaded via this mode unless they are explicitly allowlisted by the user via `torch.serialization.add_safe_globals`. We recommend you start setting `weights_only=True` for any use case where you don't have full control of the loaded file. Please open an issue on GitHub for any issues related to this experimental feature.\n",
      "  model.load_state_dict(torch.load('model_dicom_kp_left_2.pth', map_location=device))\n"
     ]
    },
    {
     "name": "stdout",
     "output_type": "stream",
     "text": [
      "Train Accuracy: 96.66%\n",
      "Train Accuracy Clear: 51.98%\n",
      "\n",
      "Validation Accuracy: 96.17%\n",
      "Validation Accuracy Clear: 44.86%\n"
     ]
    }
   ],
   "source": [
    "# learning_rate = , dropout_rate = \n",
    "device = torch.device('cuda' if torch.cuda.is_available() else 'cpu')\n",
    "model = UNet().to(device)\n",
    "model.load_state_dict(torch.load('model_dicom_kp_left_2.pth', map_location=device))\n",
    "\n",
    "train_accuracy = compute_accuracy(model, train_loader, device)\n",
    "val_accuracy = compute_accuracy(model, val_loader, device)\n",
    "\n",
    "print(f'Train Accuracy: {train_accuracy[0] * 100 :.2f}%')\n",
    "print(f'Train Accuracy Clear: {train_accuracy[1] * 100 :.2f}%')\n",
    "print()\n",
    "print(f'Validation Accuracy: {val_accuracy[0] * 100 :.2f}%')\n",
    "print(f'Validation Accuracy Clear: {val_accuracy[1] * 100 :.2f}%')"
   ]
  },
  {
   "cell_type": "code",
   "execution_count": 9,
   "metadata": {},
   "outputs": [
    {
     "name": "stderr",
     "output_type": "stream",
     "text": [
      "C:\\Users\\eozoszy\\AppData\\Local\\Temp\\ipykernel_35788\\3361012915.py:1: FutureWarning: You are using `torch.load` with `weights_only=False` (the current default value), which uses the default pickle module implicitly. It is possible to construct malicious pickle data which will execute arbitrary code during unpickling (See https://github.com/pytorch/pytorch/blob/main/SECURITY.md#untrusted-models for more details). In a future release, the default value for `weights_only` will be flipped to `True`. This limits the functions that could be executed during unpickling. Arbitrary objects will no longer be allowed to be loaded via this mode unless they are explicitly allowlisted by the user via `torch.serialization.add_safe_globals`. We recommend you start setting `weights_only=True` for any use case where you don't have full control of the loaded file. Please open an issue on GitHub for any issues related to this experimental feature.\n",
      "  model.load_state_dict(torch.load('model_dicom_kp_left_2.pth', map_location=device))\n"
     ]
    },
    {
     "name": "stdout",
     "output_type": "stream",
     "text": [
      "Class 0: Precision: 0.00%, Recall: 0.00%, F1: 0.00%\n",
      "Class 1: Precision: 0.00%, Recall: 0.00%, F1: 0.00%\n",
      "Class 2: Precision: 0.00%, Recall: 0.00%, F1: 0.00%\n",
      "Class 3: Precision: 0.00%, Recall: 0.00%, F1: 0.00%\n",
      "Class 4: Precision: 0.00%, Recall: 0.00%, F1: 0.00%\n",
      "Class 5: Precision: 75.12%, Recall: 84.43%, F1: 79.50%\n",
      "Class 6: Precision: 52.83%, Recall: 68.53%, F1: 59.67%\n",
      "Class 7: Precision: 62.26%, Recall: 53.97%, F1: 57.82%\n",
      "Class 8: Precision: 51.58%, Recall: 65.47%, F1: 57.70%\n",
      "Class 9: Precision: 32.44%, Recall: 42.33%, F1: 36.73%\n",
      "Class 10: Precision: 0.00%, Recall: 0.00%, F1: 0.00%\n",
      "Class 11: Precision: 0.00%, Recall: 0.00%, F1: 0.00%\n",
      "Class 12: Precision: 0.00%, Recall: 0.00%, F1: 0.00%\n",
      "Class 13: Precision: 55.05%, Recall: 44.71%, F1: 49.34%\n",
      "Class 14: Precision: 0.00%, Recall: 0.00%, F1: 0.00%\n",
      "Class 15: Precision: 32.04%, Recall: 48.51%, F1: 38.59%\n",
      "Class 16: Precision: 6.09%, Recall: 0.06%, F1: 0.12%\n",
      "Class 17: Precision: 53.77%, Recall: 55.77%, F1: 54.75%\n",
      "Class 18: Precision: 33.82%, Recall: 4.10%, F1: 7.31%\n",
      "Class 19: Precision: 0.00%, Recall: 0.00%, F1: 0.00%\n",
      "Class 20: Precision: 0.00%, Recall: 0.00%, F1: 0.00%\n",
      "Class 21: Precision: 0.00%, Recall: 0.00%, F1: 0.00%\n",
      "Class 22: Precision: 0.00%, Recall: 0.00%, F1: 0.00%\n",
      "Class 23: Precision: 0.00%, Recall: 0.00%, F1: 0.00%\n",
      "Class 24: Precision: 0.00%, Recall: 0.00%, F1: 0.00%\n",
      "Class 25: Precision: 0.00%, Recall: 0.00%, F1: 0.00%\n",
      "Class 26: Precision: 0.00%, Recall: 0.00%, F1: 0.00%\n",
      "Class 27: Precision: 0.00%, Recall: 0.00%, F1: 0.00%\n",
      "Average Precision: 16.250%\n",
      "Average Recall: 16.710%\n",
      "Average F1: 15.769%\n",
      "\n",
      "Weighted Precision: 48.730%\n",
      "Weighted Recall: 44.858%\n",
      "Weighted F1: 46.714%\n"
     ]
    },
    {
     "name": "stderr",
     "output_type": "stream",
     "text": [
      "C:\\Users\\eozoszy\\AppData\\Local\\Temp\\ipykernel_35788\\1128418758.py:31: RuntimeWarning: invalid value encountered in divide\n",
      "  precision = TP / (TP + FP)\n",
      "C:\\Users\\eozoszy\\AppData\\Local\\Temp\\ipykernel_35788\\1128418758.py:32: RuntimeWarning: invalid value encountered in divide\n",
      "  recall = TP / (TP + FN)\n"
     ]
    }
   ],
   "source": [
    "model.load_state_dict(torch.load('model_dicom_kp_left_2.pth', map_location=device))\n",
    "precision, recall, f1, precision_weighted, recall_weighted, f1_weighted = compute_precision_recall_f1(model, val_loader, device)\n",
    "\n",
    "if np.isnan(precision).any():\n",
    "    precision = np.nan_to_num(precision)\n",
    "if np.isnan(recall).any():\n",
    "    recall = np.nan_to_num(recall)\n",
    "if np.isnan(f1).any():\n",
    "    f1 = np.nan_to_num(f1)\n",
    "\n",
    "for i in range(28):\n",
    "    print(f'Class {i}: Precision: {precision[i] * 100:.2f}%, Recall: {recall[i] * 100:.2f}%, F1: {f1[i] * 100:.2f}%')\n",
    "\n",
    "print(f'Average Precision: {np.mean(precision) * 100:.3f}%')\n",
    "print(f'Average Recall: {np.mean(recall) * 100:.3f}%')\n",
    "print(f'Average F1: {np.mean(f1) * 100:.3f}%')\n",
    "print()\n",
    "print(f'Weighted Precision: {precision_weighted * 100:.3f}%')\n",
    "print(f'Weighted Recall: {recall_weighted * 100:.3f}%')\n",
    "print(f'Weighted F1: {f1_weighted * 100:.3f}%')"
   ]
  },
  {
   "cell_type": "code",
   "execution_count": 10,
   "metadata": {},
   "outputs": [
    {
     "name": "stderr",
     "output_type": "stream",
     "text": [
      "C:\\Users\\eozoszy\\AppData\\Local\\Temp\\ipykernel_35788\\260049013.py:4: FutureWarning: You are using `torch.load` with `weights_only=False` (the current default value), which uses the default pickle module implicitly. It is possible to construct malicious pickle data which will execute arbitrary code during unpickling (See https://github.com/pytorch/pytorch/blob/main/SECURITY.md#untrusted-models for more details). In a future release, the default value for `weights_only` will be flipped to `True`. This limits the functions that could be executed during unpickling. Arbitrary objects will no longer be allowed to be loaded via this mode unless they are explicitly allowlisted by the user via `torch.serialization.add_safe_globals`. We recommend you start setting `weights_only=True` for any use case where you don't have full control of the loaded file. Please open an issue on GitHub for any issues related to this experimental feature.\n",
      "  model.load_state_dict(torch.load('model_dicom_kp_left_3.pth', map_location=device))\n"
     ]
    },
    {
     "name": "stdout",
     "output_type": "stream",
     "text": [
      "Train Accuracy: 97.57%\n",
      "Train Accuracy Clear: 68.51%\n",
      "\n",
      "Validation Accuracy: 96.41%\n",
      "Validation Accuracy Clear: 50.39%\n"
     ]
    }
   ],
   "source": [
    "# learning_rate = 2.4, dropout_rate = 0.3\n",
    "device = torch.device('cuda' if torch.cuda.is_available() else 'cpu')\n",
    "model = UNet().to(device)\n",
    "model.load_state_dict(torch.load('model_dicom_kp_left_3.pth', map_location=device))\n",
    "\n",
    "train_accuracy = compute_accuracy(model, train_loader, device)\n",
    "val_accuracy = compute_accuracy(model, val_loader, device)\n",
    "\n",
    "print(f'Train Accuracy: {train_accuracy[0] * 100 :.2f}%')\n",
    "print(f'Train Accuracy Clear: {train_accuracy[1] * 100 :.2f}%')\n",
    "print()\n",
    "print(f'Validation Accuracy: {val_accuracy[0] * 100 :.2f}%')\n",
    "print(f'Validation Accuracy Clear: {val_accuracy[1] * 100 :.2f}%')"
   ]
  },
  {
   "cell_type": "code",
   "execution_count": 11,
   "metadata": {},
   "outputs": [
    {
     "name": "stderr",
     "output_type": "stream",
     "text": [
      "C:\\Users\\eozoszy\\AppData\\Local\\Temp\\ipykernel_35788\\3537564718.py:1: FutureWarning: You are using `torch.load` with `weights_only=False` (the current default value), which uses the default pickle module implicitly. It is possible to construct malicious pickle data which will execute arbitrary code during unpickling (See https://github.com/pytorch/pytorch/blob/main/SECURITY.md#untrusted-models for more details). In a future release, the default value for `weights_only` will be flipped to `True`. This limits the functions that could be executed during unpickling. Arbitrary objects will no longer be allowed to be loaded via this mode unless they are explicitly allowlisted by the user via `torch.serialization.add_safe_globals`. We recommend you start setting `weights_only=True` for any use case where you don't have full control of the loaded file. Please open an issue on GitHub for any issues related to this experimental feature.\n",
      "  model.load_state_dict(torch.load('model_dicom_kp_left_3.pth', map_location=device))\n"
     ]
    },
    {
     "name": "stdout",
     "output_type": "stream",
     "text": [
      "Class 0: Precision: 0.00%, Recall: 0.00%, F1: 0.00%\n",
      "Class 1: Precision: 0.00%, Recall: 0.00%, F1: 0.00%\n",
      "Class 2: Precision: 0.00%, Recall: 0.00%, F1: 0.00%\n",
      "Class 3: Precision: 0.00%, Recall: 0.00%, F1: 0.00%\n",
      "Class 4: Precision: 0.00%, Recall: 0.00%, F1: 0.00%\n",
      "Class 5: Precision: 79.75%, Recall: 83.96%, F1: 81.80%\n",
      "Class 6: Precision: 69.00%, Recall: 62.59%, F1: 65.64%\n",
      "Class 7: Precision: 58.42%, Recall: 66.10%, F1: 62.03%\n",
      "Class 8: Precision: 62.10%, Recall: 58.44%, F1: 60.22%\n",
      "Class 9: Precision: 36.45%, Recall: 57.47%, F1: 44.61%\n",
      "Class 10: Precision: 0.00%, Recall: 0.00%, F1: 0.00%\n",
      "Class 11: Precision: 0.00%, Recall: 0.00%, F1: 0.00%\n",
      "Class 12: Precision: 0.00%, Recall: 0.00%, F1: 0.00%\n",
      "Class 13: Precision: 57.06%, Recall: 65.24%, F1: 60.88%\n",
      "Class 14: Precision: 0.00%, Recall: 0.00%, F1: 0.00%\n",
      "Class 15: Precision: 38.25%, Recall: 60.89%, F1: 46.98%\n",
      "Class 16: Precision: 16.20%, Recall: 0.20%, F1: 0.40%\n",
      "Class 17: Precision: 59.15%, Recall: 61.24%, F1: 60.18%\n",
      "Class 18: Precision: 25.46%, Recall: 8.89%, F1: 13.18%\n",
      "Class 19: Precision: 0.00%, Recall: 0.00%, F1: 0.00%\n",
      "Class 20: Precision: 0.00%, Recall: 0.00%, F1: 0.00%\n",
      "Class 21: Precision: 0.00%, Recall: 0.00%, F1: 0.00%\n",
      "Class 22: Precision: 0.00%, Recall: 0.00%, F1: 0.00%\n",
      "Class 23: Precision: 0.00%, Recall: 0.00%, F1: 0.00%\n",
      "Class 24: Precision: 0.00%, Recall: 0.00%, F1: 0.00%\n",
      "Class 25: Precision: 0.00%, Recall: 0.00%, F1: 0.00%\n",
      "Class 26: Precision: 0.00%, Recall: 0.00%, F1: 0.00%\n",
      "Class 27: Precision: 0.00%, Recall: 0.00%, F1: 0.00%\n",
      "Average Precision: 17.923%\n",
      "Average Recall: 18.751%\n",
      "Average F1: 17.711%\n",
      "\n",
      "Weighted Precision: 52.739%\n",
      "Weighted Recall: 50.395%\n",
      "Weighted F1: 51.540%\n"
     ]
    },
    {
     "name": "stderr",
     "output_type": "stream",
     "text": [
      "C:\\Users\\eozoszy\\AppData\\Local\\Temp\\ipykernel_35788\\1128418758.py:31: RuntimeWarning: invalid value encountered in divide\n",
      "  precision = TP / (TP + FP)\n",
      "C:\\Users\\eozoszy\\AppData\\Local\\Temp\\ipykernel_35788\\1128418758.py:32: RuntimeWarning: invalid value encountered in divide\n",
      "  recall = TP / (TP + FN)\n"
     ]
    }
   ],
   "source": [
    "model.load_state_dict(torch.load('model_dicom_kp_left_3.pth', map_location=device))\n",
    "precision, recall, f1, precision_weighted, recall_weighted, f1_weighted = compute_precision_recall_f1(model, val_loader, device)\n",
    "\n",
    "if np.isnan(precision).any():\n",
    "    precision = np.nan_to_num(precision)\n",
    "if np.isnan(recall).any():\n",
    "    recall = np.nan_to_num(recall)\n",
    "if np.isnan(f1).any():\n",
    "    f1 = np.nan_to_num(f1)\n",
    "\n",
    "for i in range(28):\n",
    "    print(f'Class {i}: Precision: {precision[i] * 100:.2f}%, Recall: {recall[i] * 100:.2f}%, F1: {f1[i] * 100:.2f}%')\n",
    "\n",
    "print(f'Average Precision: {np.mean(precision) * 100:.3f}%')\n",
    "print(f'Average Recall: {np.mean(recall) * 100:.3f}%')\n",
    "print(f'Average F1: {np.mean(f1) * 100:.3f}%')\n",
    "print()\n",
    "print(f'Weighted Precision: {precision_weighted * 100:.3f}%')\n",
    "print(f'Weighted Recall: {recall_weighted * 100:.3f}%')\n",
    "print(f'Weighted F1: {f1_weighted * 100:.3f}%')"
   ]
  },
  {
   "cell_type": "code",
   "execution_count": null,
   "metadata": {},
   "outputs": [],
   "source": []
  }
 ],
 "metadata": {
  "kernelspec": {
   "display_name": "Python 3",
   "language": "python",
   "name": "python3"
  },
  "language_info": {
   "codemirror_mode": {
    "name": "ipython",
    "version": 3
   },
   "file_extension": ".py",
   "mimetype": "text/x-python",
   "name": "python",
   "nbconvert_exporter": "python",
   "pygments_lexer": "ipython3",
   "version": "3.11.9"
  }
 },
 "nbformat": 4,
 "nbformat_minor": 2
}
