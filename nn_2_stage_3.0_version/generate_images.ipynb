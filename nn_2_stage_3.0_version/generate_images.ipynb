{
 "cells": [
  {
   "cell_type": "code",
   "execution_count": 3,
   "metadata": {},
   "outputs": [],
   "source": [
    "import os\n",
    "import cv2\n",
    "import numpy as np\n",
    "import random\n",
    "\n",
    "def combined_transform(image_1, image_2, max_trans, max_angle):\n",
    "    rows, cols = image_1.shape[:2]\n",
    "\n",
    "    # Random translation\n",
    "    dx = random.uniform(-max_trans, max_trans) * cols\n",
    "    dy = random.uniform(-max_trans, max_trans) * rows\n",
    "\n",
    "    # Random rotation\n",
    "    angle = random.uniform(-max_angle, max_angle)\n",
    "    M_rotate = cv2.getRotationMatrix2D((cols / 2, rows / 2), angle, 1)\n",
    "\n",
    "    # Adjust translation within the rotation matrix\n",
    "    M_rotate[0, 2] += dx\n",
    "    M_rotate[1, 2] += dy\n",
    "\n",
    "    # Apply the transformations with no change in output size\n",
    "    transformed_image_1 = cv2.warpAffine(image_1, M_rotate, (cols, rows), flags=cv2.INTER_NEAREST)\n",
    "    transformed_image_2 = cv2.warpAffine(image_2, M_rotate, (cols, rows), flags=cv2.INTER_NEAREST)\n",
    "\n",
    "    return transformed_image_1, transformed_image_2\n",
    "\n",
    "def generate_augmented_images(input_folder, output_folder, num_augmentations=(0, 2), max_trans=0.1, max_angle=45):\n",
    "    input_images = sorted(os.listdir(input_folder))\n",
    "    output_images = sorted(os.listdir(output_folder))\n",
    "    \n",
    "    assert input_images == output_images, \"Input and output folders must contain the same images with the same names.\"\n",
    "    \n",
    "    for img_name in input_images:\n",
    "        input_img_path = os.path.join(input_folder, img_name)\n",
    "        output_img_path = os.path.join(output_folder, img_name)\n",
    "\n",
    "        input_image = cv2.imread(input_img_path, cv2.IMREAD_UNCHANGED)\n",
    "        output_image = cv2.imread(output_img_path, cv2.IMREAD_UNCHANGED)\n",
    "\n",
    "        for i in range(0, random.randint(num_augmentations[0], num_augmentations[1])):\n",
    "            augmented_input, augmented_output = combined_transform(input_image, output_image, max_trans, max_angle)\n",
    "\n",
    "            # Save augmented images\n",
    "            cv2.imwrite(os.path.join(input_folder, f\"{os.path.splitext(img_name)[0]}_aug{i}.png\"), augmented_input)\n",
    "            cv2.imwrite(os.path.join(output_folder, f\"{os.path.splitext(img_name)[0]}_aug{i}.png\"), augmented_output)\n"
   ]
  },
  {
   "cell_type": "code",
   "execution_count": 4,
   "metadata": {},
   "outputs": [],
   "source": [
    "input_folder = '../images/images_train/input'\n",
    "output_folder = '../images/images_train/output'\n",
    "generate_augmented_images(input_folder, output_folder, (1, 2), 0.08, 35)"
   ]
  }
 ],
 "metadata": {
  "kernelspec": {
   "display_name": "Python 3",
   "language": "python",
   "name": "python3"
  },
  "language_info": {
   "codemirror_mode": {
    "name": "ipython",
    "version": 3
   },
   "file_extension": ".py",
   "mimetype": "text/x-python",
   "name": "python",
   "nbconvert_exporter": "python",
   "pygments_lexer": "ipython3",
   "version": "3.10.6"
  }
 },
 "nbformat": 4,
 "nbformat_minor": 2
}
